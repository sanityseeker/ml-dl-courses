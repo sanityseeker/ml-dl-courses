{
 "cells": [
  {
   "cell_type": "code",
   "execution_count": 8,
   "metadata": {
    "ExecuteTime": {
     "end_time": "2022-02-10T23:30:18.836189Z",
     "start_time": "2022-02-10T23:30:18.834546Z"
    }
   },
   "outputs": [],
   "source": [
    "import pandas as pd\n",
    "import numpy as np"
   ]
  },
  {
   "cell_type": "markdown",
   "metadata": {},
   "source": [
    "# Задание \n",
    "\n",
    "В файле `mnist_784.csv` находится классический набор данных с картинками рукописных цифр. "
   ]
  },
  {
   "cell_type": "code",
   "execution_count": 2,
   "metadata": {
    "ExecuteTime": {
     "end_time": "2022-02-10T23:25:16.885025Z",
     "start_time": "2022-02-10T23:25:14.681773Z"
    }
   },
   "outputs": [],
   "source": [
    "mnist = pd.read_csv(\"mnist_784.csv\")"
   ]
  },
  {
   "cell_type": "code",
   "execution_count": 3,
   "metadata": {
    "ExecuteTime": {
     "end_time": "2022-02-10T23:25:17.607685Z",
     "start_time": "2022-02-10T23:25:17.542690Z"
    }
   },
   "outputs": [],
   "source": [
    "pic = np.array(mnist.drop('class', axis=1).loc[0])"
   ]
  },
  {
   "cell_type": "code",
   "execution_count": 4,
   "metadata": {
    "ExecuteTime": {
     "end_time": "2022-02-10T23:25:18.978133Z",
     "start_time": "2022-02-10T23:25:18.758709Z"
    }
   },
   "outputs": [],
   "source": [
    "%matplotlib inline\n",
    "\n",
    "import matplotlib.pyplot as plt"
   ]
  },
  {
   "cell_type": "code",
   "execution_count": 5,
   "metadata": {
    "ExecuteTime": {
     "end_time": "2022-02-10T23:25:20.070162Z",
     "start_time": "2022-02-10T23:25:19.948839Z"
    }
   },
   "outputs": [
    {
     "data": {
      "text/plain": [
       "<matplotlib.image.AxesImage at 0x7f963f80c8e0>"
      ]
     },
     "execution_count": 5,
     "metadata": {},
     "output_type": "execute_result"
    },
    {
     "data": {
      "image/png": "[encoded data removed]",
      "text/plain": [
       "<Figure size 432x288 with 1 Axes>"
      ]
     },
     "metadata": {
      "needs_background": "light"
     },
     "output_type": "display_data"
    }
   ],
   "source": [
    "plt.imshow(pic.reshape(28, 28))"
   ]
  },
  {
   "cell_type": "markdown",
   "metadata": {},
   "source": [
    "Необходимо применить PCA к набору данных и найти 10 первых главных компонент. Важно - в наборе данных есть колонка `class` - она очевидно не должна включаться в качестве признака, ее нужно вначале удалить из набора данных. Результат необходимо сохранить в файле `result.json`."
   ]
  },
  {
   "cell_type": "code",
   "execution_count": 7,
   "metadata": {
    "ExecuteTime": {
     "end_time": "2022-02-10T23:30:02.857331Z",
     "start_time": "2022-02-10T23:30:02.854798Z"
    }
   },
   "outputs": [],
   "source": [
    "target = mnist['class'].copy()"
   ]
  },
  {
   "cell_type": "code",
   "execution_count": 10,
   "metadata": {
    "ExecuteTime": {
     "end_time": "2022-02-10T23:30:57.135209Z",
     "start_time": "2022-02-10T23:30:57.055910Z"
    }
   },
   "outputs": [],
   "source": [
    "mnist.drop('class', inplace=True, axis=1)"
   ]
  },
  {
   "cell_type": "code",
   "execution_count": 13,
   "metadata": {
    "ExecuteTime": {
     "end_time": "2022-02-10T23:31:31.254465Z",
     "start_time": "2022-02-10T23:31:31.249301Z"
    }
   },
   "outputs": [],
   "source": [
    "data = mnist.values"
   ]
  },
  {
   "cell_type": "code",
   "execution_count": 24,
   "metadata": {
    "ExecuteTime": {
     "end_time": "2022-02-10T23:36:50.410164Z",
     "start_time": "2022-02-10T23:36:50.408087Z"
    }
   },
   "outputs": [],
   "source": [
    "from sklearn.decomposition import PCA, TruncatedSVD"
   ]
  },
  {
   "cell_type": "code",
   "execution_count": 25,
   "metadata": {
    "ExecuteTime": {
     "end_time": "2022-02-10T23:37:17.306491Z",
     "start_time": "2022-02-10T23:37:15.323207Z"
    }
   },
   "outputs": [],
   "source": [
    "# pca = PCA(n_components=10, random_state=0)\n",
    "pca = TruncatedSVD(n_components=200, random_state=0)\n",
    "\n",
    "transformed_data = pca.fit_transform(data)"
   ]
  },
  {
   "cell_type": "code",
   "execution_count": 56,
   "metadata": {
    "ExecuteTime": {
     "end_time": "2022-02-11T00:11:30.439587Z",
     "start_time": "2022-02-11T00:11:30.436521Z"
    }
   },
   "outputs": [],
   "source": [
    "top_components = pca.components_[:10]"
   ]
  },
  {
   "cell_type": "code",
   "execution_count": 51,
   "metadata": {
    "ExecuteTime": {
     "end_time": "2022-02-10T23:52:47.227555Z",
     "start_time": "2022-02-10T23:52:47.223671Z"
    }
   },
   "outputs": [],
   "source": [
    "# Пример формата ответа\n",
    "\n",
    "import json\n",
    "\n",
    "with open('result.json', 'w') as f:\n",
    "    f.write(json.dumps(top_components.tolist()))"
   ]
  },
  {
   "cell_type": "markdown",
   "metadata": {},
   "source": [
    "Дополнительное задание без оценивания - визуализируйте полученные компоненты. Так как найденные компоненты - это также вектора длинной 784, то мы также можем их нарисовать как картинки и посмотреть, какие регионы картинки являются наиболее информативными."
   ]
  },
  {
   "cell_type": "code",
   "execution_count": 47,
   "metadata": {
    "ExecuteTime": {
     "end_time": "2022-02-10T23:51:42.719589Z",
     "start_time": "2022-02-10T23:51:42.713207Z"
    }
   },
   "outputs": [],
   "source": [
    "def show_as_pic(arr: np.array):\n",
    "    plt.imshow(arr.reshape(28, 28))"
   ]
  },
  {
   "cell_type": "code",
   "execution_count": null,
   "metadata": {},
   "outputs": [],
   "source": []
  }
 ],
 "metadata": {
  "coursera": {
   "schema_names": [
    "1-dim-reduction-task-2d3e54"
   ]
  },
  "kernelspec": {
   "display_name": "Python 3 (ipykernel)",
   "language": "python",
   "name": "python3"
  },
  "language_info": {
   "codemirror_mode": {
    "name": "ipython",
    "version": 3
   },
   "file_extension": ".py",
   "mimetype": "text/x-python",
   "name": "python",
   "nbconvert_exporter": "python",
   "pygments_lexer": "ipython3",
   "version": "3.9.7"
  },
  "toc": {
   "base_numbering": 1,
   "nav_menu": {},
   "number_sections": true,
   "sideBar": true,
   "skip_h1_title": false,
   "title_cell": "Table of Contents",
   "title_sidebar": "Contents",
   "toc_cell": false,
   "toc_position": {},
   "toc_section_display": true,
   "toc_window_display": false
  }
 },
 "nbformat": 4,
 "nbformat_minor": 4
}

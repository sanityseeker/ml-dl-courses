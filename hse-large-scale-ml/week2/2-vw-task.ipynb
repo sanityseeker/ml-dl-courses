{
 "cells": [
  {
   "cell_type": "markdown",
   "metadata": {},
   "source": [
    "# Задача\n",
    "\n",
    "В файлах `airlines.train.tsv` и `airlines.test.tsv` находятся данные о пользовательских оценках различных авиакомпаний. Полноценный набор данных доступен <a href=\"https://github.com/quankiquanki/skytrax-reviews-dataset\"> по ссылке </a>.\n",
    "\n",
    "В данных есть информация про название авиакомпании, страну того, кто оставляет отзыв, класс, которым он летел, текстовое сообщение и итоговая оценка от 0 до 10.\n",
    "\n",
    "Задача - по первым 4 параметрам (авиакомпания, страна, класс, текстовое сообщение) предсказать оценку, которую поставил пользователь. Для этого необходимо дополнительно превратить данные в формат vw. Про формат, в котором нужно предоставить решения будет написано ниже.\n",
    "\n",
    "В качестве ответа необходимо сдать обученные веса модели vowpal wabbit. Для оценки решения на тестовых данных будет запущен vw с этими весами и будет подсчитана метрика R2. Решения, которые получили качество больше `0.35` будут оцениваться в 100%. Решения с меньшим качеством будут оценены ниже в соответствии с полученных качеством. Саму модель (веса) необходимо сохранить в файл `result.vw`.\n",
    "\n",
    "Формат vw:\n",
    "* Целевая переменная - пользовательская оценка\n",
    "* 4 неймспейса - name, country, cabin, review\n",
    "* Значения в name, country, cabin приведены в монолитный формат - все символы, не являющиеся буквой или цифрой (то есть подходящие под регулярное выражение `\\W`) заменены на `_`, а также вся строка приведена к нижнему регистру.\n",
    "* В review оставлены только корректные элементы (то есть подходящие под регулярное выражение `[a-zA-Z0-9_]+`).\n",
    "\n",
    "Для демонстрации того, как выглядит этот формат, в файле `airlines.test.sample.vw` лежат 10 первых элементов из тестовой выборки, которые закодированны соответствующим образом.\n"
   ]
  },
  {
   "cell_type": "code",
   "execution_count": 1,
   "metadata": {},
   "outputs": [],
   "source": [
    "import pandas as pd\n",
    "import numpy as np"
   ]
  },
  {
   "cell_type": "code",
   "execution_count": 2,
   "metadata": {},
   "outputs": [],
   "source": [
    "df_train = pd.read_csv('airlines.train.tsv', sep='\\t')\n",
    "df_test = pd.read_csv('airlines.test.tsv', sep='\\t')"
   ]
  },
  {
   "cell_type": "code",
   "execution_count": 3,
   "metadata": {},
   "outputs": [
    {
     "data": {
      "text/html": [
       "<div>\n",
       "<style scoped>\n",
       "    .dataframe tbody tr th:only-of-type {\n",
       "        vertical-align: middle;\n",
       "    }\n",
       "\n",
       "    .dataframe tbody tr th {\n",
       "        vertical-align: top;\n",
       "    }\n",
       "\n",
       "    .dataframe thead th {\n",
       "        text-align: right;\n",
       "    }\n",
       "</style>\n",
       "<table border=\"1\" class=\"dataframe\">\n",
       "  <thead>\n",
       "    <tr style=\"text-align: right;\">\n",
       "      <th></th>\n",
       "      <th>airline_name</th>\n",
       "      <th>author_country</th>\n",
       "      <th>cabin_flown</th>\n",
       "      <th>content</th>\n",
       "      <th>rating</th>\n",
       "    </tr>\n",
       "  </thead>\n",
       "  <tbody>\n",
       "    <tr>\n",
       "      <th>0</th>\n",
       "      <td>sunwing-airlines</td>\n",
       "      <td>Canada</td>\n",
       "      <td>Economy</td>\n",
       "      <td>March 5th 2014 from Ottawa Canada to Cuba WG 6...</td>\n",
       "      <td>9.0</td>\n",
       "    </tr>\n",
       "    <tr>\n",
       "      <th>1</th>\n",
       "      <td>lufthansa</td>\n",
       "      <td>United Kingdom</td>\n",
       "      <td>Economy</td>\n",
       "      <td>SIN-FRA-BHX in Economy. First leg from Singapo...</td>\n",
       "      <td>7.0</td>\n",
       "    </tr>\n",
       "    <tr>\n",
       "      <th>2</th>\n",
       "      <td>spirit-airlines</td>\n",
       "      <td>United States</td>\n",
       "      <td>Economy</td>\n",
       "      <td>Spirit does what they state on their web site,...</td>\n",
       "      <td>7.0</td>\n",
       "    </tr>\n",
       "    <tr>\n",
       "      <th>3</th>\n",
       "      <td>sunwing-airlines</td>\n",
       "      <td>Canada</td>\n",
       "      <td>Premium Economy</td>\n",
       "      <td>My fiancé and I were booked to fly to Cayo San...</td>\n",
       "      <td>1.0</td>\n",
       "    </tr>\n",
       "    <tr>\n",
       "      <th>4</th>\n",
       "      <td>british-airways</td>\n",
       "      <td>United States</td>\n",
       "      <td>First Class</td>\n",
       "      <td>DXB-LHR B777-200ER BA0108 August 18 First Clas...</td>\n",
       "      <td>9.0</td>\n",
       "    </tr>\n",
       "  </tbody>\n",
       "</table>\n",
       "</div>"
      ],
      "text/plain": [
       "       airline_name  author_country      cabin_flown  \\\n",
       "0  sunwing-airlines          Canada          Economy   \n",
       "1         lufthansa  United Kingdom          Economy   \n",
       "2   spirit-airlines   United States          Economy   \n",
       "3  sunwing-airlines          Canada  Premium Economy   \n",
       "4   british-airways   United States      First Class   \n",
       "\n",
       "                                             content  rating  \n",
       "0  March 5th 2014 from Ottawa Canada to Cuba WG 6...     9.0  \n",
       "1  SIN-FRA-BHX in Economy. First leg from Singapo...     7.0  \n",
       "2  Spirit does what they state on their web site,...     7.0  \n",
       "3  My fiancé and I were booked to fly to Cayo San...     1.0  \n",
       "4  DXB-LHR B777-200ER BA0108 August 18 First Clas...     9.0  "
      ]
     },
     "execution_count": 3,
     "metadata": {},
     "output_type": "execute_result"
    }
   ],
   "source": [
    "df_train.head()"
   ]
  },
  {
   "cell_type": "code",
   "execution_count": 4,
   "metadata": {},
   "outputs": [
    {
     "data": {
      "text/html": [
       "<div>\n",
       "<style scoped>\n",
       "    .dataframe tbody tr th:only-of-type {\n",
       "        vertical-align: middle;\n",
       "    }\n",
       "\n",
       "    .dataframe tbody tr th {\n",
       "        vertical-align: top;\n",
       "    }\n",
       "\n",
       "    .dataframe thead th {\n",
       "        text-align: right;\n",
       "    }\n",
       "</style>\n",
       "<table border=\"1\" class=\"dataframe\">\n",
       "  <thead>\n",
       "    <tr style=\"text-align: right;\">\n",
       "      <th></th>\n",
       "      <th>airline_name</th>\n",
       "      <th>author_country</th>\n",
       "      <th>cabin_flown</th>\n",
       "      <th>content</th>\n",
       "      <th>rating</th>\n",
       "    </tr>\n",
       "  </thead>\n",
       "  <tbody>\n",
       "    <tr>\n",
       "      <th>0</th>\n",
       "      <td>south-african-airways</td>\n",
       "      <td>United Kingdom</td>\n",
       "      <td>Economy</td>\n",
       "      <td>JNB-LHR on the new airbus. Seats were roomy an...</td>\n",
       "      <td>8.0</td>\n",
       "    </tr>\n",
       "    <tr>\n",
       "      <th>1</th>\n",
       "      <td>jet-airways</td>\n",
       "      <td>Qatar</td>\n",
       "      <td>Business Class</td>\n",
       "      <td>Flew Business Class DOH-BOM-DOH. Outbound: Use...</td>\n",
       "      <td>6.0</td>\n",
       "    </tr>\n",
       "    <tr>\n",
       "      <th>2</th>\n",
       "      <td>american-airlines</td>\n",
       "      <td>United States</td>\n",
       "      <td>First Class</td>\n",
       "      <td>This is a rough review because we flew first b...</td>\n",
       "      <td>5.0</td>\n",
       "    </tr>\n",
       "    <tr>\n",
       "      <th>3</th>\n",
       "      <td>flybe</td>\n",
       "      <td>United Kingdom</td>\n",
       "      <td>Economy</td>\n",
       "      <td>Am thoroughly fed up with Flybe customer servi...</td>\n",
       "      <td>1.0</td>\n",
       "    </tr>\n",
       "    <tr>\n",
       "      <th>4</th>\n",
       "      <td>american-airlines</td>\n",
       "      <td>United Arab Emirates</td>\n",
       "      <td>Economy</td>\n",
       "      <td>I have flown MIA-JFK on an old B767-300. Fligh...</td>\n",
       "      <td>5.0</td>\n",
       "    </tr>\n",
       "  </tbody>\n",
       "</table>\n",
       "</div>"
      ],
      "text/plain": [
       "            airline_name        author_country     cabin_flown  \\\n",
       "0  south-african-airways        United Kingdom         Economy   \n",
       "1            jet-airways                 Qatar  Business Class   \n",
       "2      american-airlines         United States     First Class   \n",
       "3                  flybe        United Kingdom         Economy   \n",
       "4      american-airlines  United Arab Emirates         Economy   \n",
       "\n",
       "                                             content  rating  \n",
       "0  JNB-LHR on the new airbus. Seats were roomy an...     8.0  \n",
       "1  Flew Business Class DOH-BOM-DOH. Outbound: Use...     6.0  \n",
       "2  This is a rough review because we flew first b...     5.0  \n",
       "3  Am thoroughly fed up with Flybe customer servi...     1.0  \n",
       "4  I have flown MIA-JFK on an old B767-300. Fligh...     5.0  "
      ]
     },
     "execution_count": 4,
     "metadata": {},
     "output_type": "execute_result"
    }
   ],
   "source": [
    "df_test.head()"
   ]
  },
  {
   "cell_type": "code",
   "execution_count": 5,
   "metadata": {},
   "outputs": [
    {
     "name": "stdout",
     "output_type": "stream",
     "text": [
      "8.0 |name south_african_airways |country united_kingdom |cabin economy |review jnb lhr on the new airbus seats were roomy and comfy staff polite and friendly and inflight entertainment system outstanding we had terrible turbulence throughout the flight but the captain was informative and reassuring and everyone remained calm food not great but otherwise excellent\r\n",
      "6.0 |name jet_airways |country qatar |cabin business_class |review flew business class doh bom doh outbound used the oryx lounge at doha airport which was nice cabin was nearly empty seats are similar to those on jet s domestic business class found it difficult to sleep with the recline provided at 6 3 legrests did not help as my legs overshot it the light sandwich was passable service was attentive and cheerful inbound evening flight so looked forward to meal and wine same cheap french table wine indian non veg meal was not great cabin crew were attentive and friendly ife was limited one negative was that my bag was one of the last off both flights with a priority tag\r\n"
     ]
    }
   ],
   "source": [
    "! head -n 2 airlines.test.sample.vw"
   ]
  },
  {
   "cell_type": "markdown",
   "metadata": {},
   "source": [
    "Ваши полученные коэффициенты будут проверятся примерно следующим образом"
   ]
  },
  {
   "cell_type": "code",
   "execution_count": 135,
   "metadata": {},
   "outputs": [
    {
     "name": "stdout",
     "output_type": "stream",
     "text": [
      "final_regressor = result.vw\r\n",
      "Num weight bits = 18\r\n",
      "learning rate = 0.5\r\n",
      "initial_t = 0\r\n",
      "power_t = 0.5\r\n",
      "using no cache\r\n",
      "Reading datafile = airlines.test.sample.vw\r\n",
      "num sources = 1\r\n",
      "average  since         example        example  current  current  current\r\n",
      "loss     last          counter         weight    label  predict features\r\n",
      "64.000000 64.000000            1            1.0   8.0000   0.0000       48\r\n",
      "40.509827 17.019653            2            2.0   6.0000   1.8745      116\r\n",
      "22.732204 4.954582            4            4.0   1.0000   2.1652       92\r\n",
      "16.739873 10.747542            8            8.0   8.0000   4.8364      152\r\n",
      "\r\n",
      "finished run\r\n",
      "number of examples = 10\r\n",
      "weighted example sum = 10.000000\r\n",
      "weighted label sum = 57.000000\r\n",
      "average loss = 15.418942\r\n",
      "best constant = 5.700000\r\n",
      "total feature number = 1277\r\n"
     ]
    }
   ],
   "source": [
    "# Здесь вы преобразуете train и test в формат vw и обучаете vw на данных из airlines.train.tsv\n",
    "# Выбор параметров остается целиком в вашей власти - попробуйте получить наилучшее качество\n",
    "! vw --final_regressor result.vw airlines.test.sample.vw "
   ]
  },
  {
   "cell_type": "code",
   "execution_count": 136,
   "metadata": {},
   "outputs": [
    {
     "name": "stdout",
     "output_type": "stream",
     "text": [
      "only testing\r\n",
      "predictions = predictions.txt\r\n",
      "Num weight bits = 18\r\n",
      "learning rate = 0.5\r\n",
      "initial_t = 0\r\n",
      "power_t = 0.5\r\n",
      "using no cache\r\n",
      "Reading datafile = airlines.test.sample.vw\r\n",
      "num sources = 1\r\n",
      "average  since         example        example  current  current  current\r\n",
      "loss     last          counter         weight    label  predict features\r\n",
      "11.737091 11.737091            1            1.0   8.0000   4.5741       48\r\n",
      "7.378532 3.019973            2            2.0   6.0000   7.7378      116\r\n",
      "7.366215 7.353898            4            4.0   1.0000   3.3891       92\r\n",
      "6.362258 5.358301            8            8.0   8.0000   8.0000      152\r\n",
      "\r\n",
      "finished run\r\n",
      "number of examples = 10\r\n",
      "weighted example sum = 10.000000\r\n",
      "weighted label sum = 57.000000\r\n",
      "average loss = 5.482505\r\n",
      "best constant = 5.700000\r\n",
      "total feature number = 1277\r\n"
     ]
    }
   ],
   "source": [
    "# При проверки будет запущена примерно следующая команда. \n",
    "# Вместо airlines.test.sample.vw будет использоваться целиком airlines.test.tsv переведенный в указанный выше формат\n",
    "# Так как файл airlines.test.tsv присутствует у вас целиком, после преобразования в vw формат можно использовать его\n",
    "# для самопроверки\n",
    "\n",
    "! vw --testonly --initial_regressor result.vw --predictions predictions.txt airlines.test.sample.vw"
   ]
  },
  {
   "cell_type": "markdown",
   "metadata": {},
   "source": [
    "## Преобразуем данные"
   ]
  },
  {
   "cell_type": "code",
   "execution_count": 11,
   "metadata": {},
   "outputs": [
    {
     "data": {
      "text/plain": [
       "array(['sunwing-airlines', 'Canada', 'Economy',\n",
       "       \"March 5th 2014 from Ottawa Canada to Cuba WG 630. They announced that the flight was going to be delayed 1 hour no explanation why. They started boarding and we took off only 1/2 hour late. There were 6 of us 2 were seated together and remaining 4 were put in aisle seats side by side. On the way back from Cuba on March 12th 2014 WG 631 we were slow going through immigration no fault of Sunwing. Finally arrived to our plane at 10.35am the doors immediately closed and the plane took off 5 minutes later 20 minutes earlier than expected. The 6 of us were pretty much split up by 2 each seating my 12 old daughter by herself behind us. Overall the staff were great very friendly and approachable. The food served was pretty good considering most airlines don't offer meal service for free. It was comparable to meals we've had to purchase on other airlines.\",\n",
       "       9.0], dtype=object)"
      ]
     },
     "execution_count": 11,
     "metadata": {},
     "output_type": "execute_result"
    }
   ],
   "source": [
    "df_train.iloc[0].values"
   ]
  },
  {
   "cell_type": "code",
   "execution_count": 14,
   "metadata": {},
   "outputs": [],
   "source": [
    "import re\n",
    "\n",
    "def convert_to_vw(row):\n",
    "    \n",
    "    name, country, cabin, review, target = row \n",
    "    \n",
    "    name = re.sub('\\W', '_', name.lower())\n",
    "    country = re.sub('\\W', '_', country.lower())\n",
    "    cabin = re.sub('\\W', '_', cabin.lower())\n",
    "    \n",
    "    word_pattern = re.compile(r\"[a-zA-Z0-9_]+\")\n",
    "    words = []\n",
    "    for match in re.finditer(word_pattern, review.lower()):\n",
    "        words.append(match.group(0))\n",
    "    \n",
    "    vw_str = \"{target} |name {name} |country {country} |cabin {cabin} |review {review}\"\n",
    "    \n",
    "    return vw_str.format(\n",
    "        target=target,\n",
    "        name=name,\n",
    "        country=country,\n",
    "        cabin=cabin,\n",
    "        review=' '.join(words)\n",
    "    )"
   ]
  },
  {
   "cell_type": "code",
   "execution_count": 16,
   "metadata": {},
   "outputs": [],
   "source": [
    "df_train.dropna(inplace=True)"
   ]
  },
  {
   "cell_type": "code",
   "execution_count": 17,
   "metadata": {},
   "outputs": [],
   "source": [
    "def save_to_vw(df: pd.DataFrame, converter: callable, filename: str):\n",
    "    with open(filename, 'w') as f:\n",
    "        for line in df.values:\n",
    "            vw_line = converter(line)\n",
    "            f.write(f'{vw_line} \\n')"
   ]
  },
  {
   "cell_type": "code",
   "execution_count": 18,
   "metadata": {},
   "outputs": [],
   "source": [
    "save_to_vw(df_train, convert_to_vw, 'airlines.train.vw')"
   ]
  },
  {
   "cell_type": "code",
   "execution_count": 22,
   "metadata": {},
   "outputs": [],
   "source": [
    "save_to_vw(df_test, convert_to_vw, 'airlines.test.vw')"
   ]
  },
  {
   "cell_type": "code",
   "execution_count": 19,
   "metadata": {},
   "outputs": [
    {
     "name": "stdout",
     "output_type": "stream",
     "text": [
      "9.0 |name sunwing_airlines |country canada |cabin economy |review march 5th 2014 from ottawa canada to cuba wg 630 they announced that the flight was going to be delayed 1 hour no explanation why they started boarding and we took off only 1 2 hour late there were 6 of us 2 were seated together and remaining 4 were put in aisle seats side by side on the way back from cuba on march 12th 2014 wg 631 we were slow going through immigration no fault of sunwing finally arrived to our plane at 10 35am the doors immediately closed and the plane took off 5 minutes later 20 minutes earlier than expected the 6 of us were pretty much split up by 2 each seating my 12 old daughter by herself behind us overall the staff were great very friendly and approachable the food served was pretty good considering most airlines don t offer meal service for free it was comparable to meals we ve had to purchase on other airlines \r\n",
      "7.0 |name lufthansa |country united_kingdom |cabin economy |review sin fra bhx in economy first leg from singapore on the a380 was great largely because i was fortunate enough to get an exit row seat with unlimited legroom judging by fellow passengers one wouldn t be happy with normal seats as they had rather pathetic legroom nice modern avod system but the ptvs were rather small compared to other a380 airlines service was really friendly and warm but few frills no amenity kit whatsoever no footrests meals were alright but again rather simple compared to asian carriers second leg to birmingham on an a320 was above average by intra europe standards with a decent snack beverage service and friendly service again all flights on time \r\n",
      "7.0 |name spirit_airlines |country united_states |cabin economy |review spirit does what they state on their web site they get you there cheaply for that i give them 5 stars because they did exactly what the said they would do the plane was full and the seats were close together i read all about that before i bought the ticket and it was as they said it would be hence the low cost plan ahead and know what to expect and it will be a great experience its obvious that some of the people that gave 1 star reviews didn t understand about cost of bags or any extras and not done their homework and are now very disappointed \r\n",
      "1.0 |name sunwing_airlines |country canada |cabin premium_economy |review my fianc and i were booked to fly to cayo santa maria cuba february 6 13 2014 our flight was scheduled to leave at 6 10am upon arriving at the airport at 4 30am we quickly noticed that the line up was very long when we finally got to the check in desk they asked us where we were headed we replied cayo santa maria we advised her that we had checked in online already and we just needed to print our boarding passes she took our baggage and weighed it right before she was about to send it off a rude manager from the back came and just yelled out gates to santa clara are closed we were so shocked because it was only 4 55am at that time we told them the plane would just be sitting there we could still make it the rep simply told us please step aside we need to assist other passengers we found out there were 6 other passengers with us that was left behind they told us to go to all the other airlines and check if they have open seats and that we are liable for it long story short we had to purchase another package for the next morning with same flight time we knew they were lying to us because we did not board the plane until 5 58am please do yourself a favour and pay that extra bucks to avoid any hassle with these unprofessional company \r\n",
      "9.0 |name british_airways |country united_states |cabin first_class |review dxb lhr b777 200er ba0108 august 18 first class transferred from an emirates flight in dxb ba dxb galleries lounge reception staff member excellent boarding reasonable with an on time departure cabin crew outstanding and definitely lived up to the to fly to serve ba slogan food tasty and well presented but not quite first class and cost cutting was evident the new first seat is comfortable though the footrest is poorly designed and a storage area for small inflight items is missing ife monitor controls and selection very good but the screen could be more adjustable for reach lovely cabin ambience including colors textures mood lighting and window blinds toilets cramped and stocked with the cheapest liquid soaps and toilet paper overall an enjoyable flight but as a longstanding and very loyal ba customer gold tier i ask that they seriously consider improving their product in an increasingly competitive market arrived a little late at lhr with remote stand disembarking and bus transfer to t5 \r\n",
      "10.0 |name ba_cityflyer |country united_kingdom |cabin economy |review lcy bcn lcy as usual cannot fault this airline and its service passed through lcy with no problems and boarded the spotlessly clean embraer 190 on time welcomed on both sectors by a friendly smart and efficient cabin crew surprised to receive a full hot english breakfast which was most welcome followed by a complementary bar service will most certainly use this airport airline more often where possible anything to cut out lgw lhr \r\n",
      "1.0 |name turkish_airlines |country united_kingdom |cabin economy |review the b737 800 used by turkish airlines ist isb is completely unsuitable for a journey of over 4000km and lasting 5 hrs 35 mins the seats are tiny and the leg room not great even for 5 10 person turkish airlines continue to spend an awful lot of money on advertising telling us how great they are but the reality is somewhat different this aircraft is only suitable for domestic or 2000km maximum \r\n",
      "1.0 |name sunwing_airlines |country canada |cabin economy |review my wife and i spent a great deal of time and research finding a vacation to the mayan riviera that left vancouver at an appropriate time to fit with our schedule we chose a sunwing flight with a 10am departure and a direct flight to cancun with a 6pm return direct to vancouver a week later we paid extra to get elite plus extra baggage weight extra legroom etc if you decide to pay this premium do not sit in the bulkhead seats there is no more legroom to stretch out and your carry on will have to be stowed somewhere far behind you as there is not space in front of you the exit rows are really good for legroom and convenience our flight was rescheduled with no warning to a 7am departure with a stop in calgary on the way so we had to leave home at 3 in the morning to catch the plane on the return we were rescheduled to make a stop in calgary before coming to vancouver these stops added 2 5 hours to our flight to cancun and 3 5 hours to our flight home as weather and a crew change delayed departure from calgary sunwing did not apologize or say anything about the rescheduling there were about 80 passengers from vancouver and we picked up less than 20 in calgary so sunwing alienated 80 of its passengers to pick up a few folks the planes both ways were only partially full so it is obvious that this total disregard for customers is seriously affecting their business on a positive note the cabin crews were excellent both ways even though they too had been seriously disrupted by the schedule and routing changes i will certainly never fly with sunwing again \r\n",
      "1.0 |name air_canada |country canada |cabin business_class |review i am a frequent traveller between toronto and orlando at least twice a month when air canada added this route to its rouge system i knew i would have a problem the seats in business class are terrible the food is awful and the legroom is non existent however the price for a business ticket remains the same this is what happens when there is no other way to travel business class directly between toronto and orlando the staff are helpful but they know with every flight most passengers will be disappointed if you are trying to compete with discount airline charge discount prices i pray that a competitor enter this route in the near future i will move over immediately \r\n",
      "4.0 |name thomson_airways |country united_kingdom |cabin economy |review glasgow to dalaman 22 sept to 29 sept return on a 757 200 the outbound flight s seating comfort for a four hour flight was extremely poor i m 5 10 not particularly tall but my knees were jammed up against the seat in front thankfully the woman sitting there didn t recline her seat or i would have been stuck the return flight was better as it had recaro seats where the seat pocket is missing giving more legroom which was more comfortable it was a typical holiday charter flight full to capacity with the cabin crew working hard to sell drinks food and duty free throughout the flight it got us there and back with the minimum of fuss but if you re over 5 8 just hope you have recaro seating on the plane \r\n"
     ]
    }
   ],
   "source": [
    "! head -n 10 airlines.train.vw "
   ]
  },
  {
   "cell_type": "markdown",
   "metadata": {},
   "source": [
    "## Train"
   ]
  },
  {
   "cell_type": "code",
   "execution_count": 29,
   "metadata": {},
   "outputs": [
    {
     "name": "stdout",
     "output_type": "stream",
     "text": [
      "Generating 2-grams for all namespaces.\n",
      "final_regressor = result.vw\n",
      "Num weight bits = 22\n",
      "learning rate = 40\n",
      "initial_t = 0\n",
      "power_t = 0.5\n",
      "decay_learning_rate = 1\n",
      "using cache_file = vw.cache\n",
      "ignoring text input in favor of cache input\n",
      "num sources = 1\n",
      "Enabled reductions: gd, scorer\n",
      "average  since         example        example  current  current  current\n",
      "loss     last          counter         weight    label  predict features\n",
      "81.000000 81.000000            1            1.0   9.0000   0.0000      330\n",
      "53.915319 26.830639            2            2.0   7.0000   1.8202      236\n",
      "46.320791 38.726262            4            4.0   1.0000   8.6986      502\n",
      "47.301578 48.282366            8            8.0   1.0000  10.0000      598\n",
      "31.030626 14.759673           16           16.0   8.0000   2.9523      130\n",
      "25.978610 20.926595           32           32.0   1.0000   7.0240      316\n",
      "19.727663 13.476716           64           64.0  10.0000  10.0000      430\n",
      "15.382648 11.037633          128          128.0   8.0000   8.1194      256\n",
      "14.176214 12.969780          256          256.0  10.0000   6.4561      284\n",
      "11.278224 8.380235          512          512.0  10.0000   9.8718      106\n",
      "9.204947 7.131669         1024         1024.0   6.0000   9.4237      300\n",
      "7.728716 6.252485         2048         2048.0   9.0000   9.5197       98\n",
      "6.498373 5.268030         4096         4096.0   8.0000   9.3364      266\n",
      "5.372329 4.246285         8192         8192.0  10.0000  10.0000      376\n",
      "4.584096 3.795863        16384        16384.0   8.0000  10.0000      272\n",
      "3.987169 3.987169        32768        32768.0   7.0000   7.3138      174 h\n",
      "3.759941 3.532776        65536        65536.0   2.0000   2.1043      246 h\n",
      "\n",
      "finished run\n",
      "number of examples per pass = 20990\n",
      "passes used = 5\n",
      "weighted example sum = 104950.000000\n",
      "weighted label sum = 647010.000000\n",
      "average loss = 3.463720 h\n",
      "best constant = 6.164936\n",
      "total feature number = 24942430\n"
     ]
    }
   ],
   "source": [
    "! vw --final_regressor result.vw airlines.train.vw --ngram 2 --learning_rate 40.0 --bit_precision 22 --passes 50 --cache_file vw.cache"
   ]
  },
  {
   "cell_type": "markdown",
   "metadata": {},
   "source": [
    "## Evaluate"
   ]
  },
  {
   "cell_type": "code",
   "execution_count": 30,
   "metadata": {},
   "outputs": [
    {
     "name": "stdout",
     "output_type": "stream",
     "text": [
      "Generating 2-grams for all namespaces.\n",
      "only testing\n",
      "predictions = airlines-predictions.txt\n",
      "Num weight bits = 22\n",
      "learning rate = 0.5\n",
      "initial_t = 0\n",
      "power_t = 0.5\n",
      "using no cache\n",
      "Reading datafile = airlines.test.vw\n",
      "num sources = 1\n",
      "Enabled reductions: gd, scorer\n",
      "average  since         example        example  current  current  current\n",
      "loss     last          counter         weight    label  predict features\n",
      "4.000000 4.000000            1            1.0   8.0000  10.0000       92\n",
      "4.759127 5.518253            2            2.0   6.0000   8.3491      228\n",
      "3.957396 3.155665            4            4.0   1.0000   3.1507      180\n",
      "2.493897 1.030397            8            8.0   8.0000   6.7246      300\n",
      "3.365292 4.236687           16           16.0   8.0000   5.5176      102\n",
      "2.543051 1.720809           32           32.0   8.0000   6.4655      108\n",
      "3.084309 3.625567           64           64.0   8.0000   8.2260       70\n",
      "3.073055 3.061800          128          128.0   8.0000   8.9499      396\n",
      "3.601490 4.129925          256          256.0   2.0000   2.7850      210\n",
      "3.609375 3.617261          512          512.0   2.0000   2.3518      514\n",
      "3.464566 3.319757         1024         1024.0   7.0000   8.6763      226\n",
      "3.512655 3.560743         2048         2048.0   8.0000   6.1527       64\n",
      "3.580578 3.648501         4096         4096.0   9.0000   6.7226      254\n",
      "3.552412 3.524246         8192         8192.0   1.0000   6.7359      120\n",
      "\n",
      "finished run\n",
      "number of examples = 11487\n",
      "weighted example sum = 11487.000000\n",
      "weighted label sum = 70128.000000\n",
      "average loss = 3.560859\n",
      "best constant = 6.104988\n",
      "total feature number = 2739392\n"
     ]
    }
   ],
   "source": [
    "! vw --testonly --initial_regressor result.vw --predictions airlines-predictions.txt airlines.test.vw"
   ]
  },
  {
   "cell_type": "code",
   "execution_count": 31,
   "metadata": {},
   "outputs": [
    {
     "name": "stdout",
     "output_type": "stream",
     "text": [
      "10\r\n",
      "8.349096\r\n",
      "3.701584\r\n",
      "3.150685\r\n",
      "5.030509\r\n",
      "5.645532\r\n",
      "4.812071\r\n",
      "6.724612\r\n",
      "8.824572\r\n",
      "5.668486\r\n"
     ]
    }
   ],
   "source": [
    "! head airlines-predictions.txt"
   ]
  },
  {
   "cell_type": "code",
   "execution_count": 32,
   "metadata": {},
   "outputs": [],
   "source": [
    "from sklearn.metrics import r2_score\n",
    "\n",
    "def read_target_from_vw(vw_object):\n",
    "    return float(vw_object.split(' ')[0])\n",
    "\n",
    "\n",
    "def calc_r2(predictions_path, answers_path):\n",
    "    with open(predictions_path, 'r') as f:\n",
    "        y_pred = np.array([float(value) for value in f.readlines()])\n",
    "        \n",
    "    with open(answers_path, 'r') as f:\n",
    "        y_expected = np.array([read_target_from_vw(value) for value in f.readlines()])\n",
    "        \n",
    "    return r2_score(y_expected, y_pred)"
   ]
  },
  {
   "cell_type": "code",
   "execution_count": 33,
   "metadata": {},
   "outputs": [
    {
     "data": {
      "text/plain": [
       "0.6505202865000241"
      ]
     },
     "execution_count": 33,
     "metadata": {},
     "output_type": "execute_result"
    }
   ],
   "source": [
    "calc_r2('airlines-predictions.txt', 'airlines.test.vw')"
   ]
  }
 ],
 "metadata": {
  "coursera": {
   "schema_names": [
    "2-vw-task-85a7f4"
   ]
  },
  "kernelspec": {
   "display_name": "Python 3 (ipykernel)",
   "language": "python",
   "name": "python3"
  },
  "language_info": {
   "codemirror_mode": {
    "name": "ipython",
    "version": 3
   },
   "file_extension": ".py",
   "mimetype": "text/x-python",
   "name": "python",
   "nbconvert_exporter": "python",
   "pygments_lexer": "ipython3",
   "version": "3.9.7"
  },
  "toc": {
   "base_numbering": 1,
   "nav_menu": {},
   "number_sections": true,
   "sideBar": true,
   "skip_h1_title": false,
   "title_cell": "Table of Contents",
   "title_sidebar": "Contents",
   "toc_cell": false,
   "toc_position": {},
   "toc_section_display": true,
   "toc_window_display": false
  }
 },
 "nbformat": 4,
 "nbformat_minor": 4
}

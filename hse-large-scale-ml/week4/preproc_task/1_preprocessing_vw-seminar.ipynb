{
 "cells": [
  {
   "cell_type": "markdown",
   "metadata": {},
   "source": [
    "## Предобработка текстовых данных\n",
    "\n",
    "Попробуем предобработать текстовые данные из датасета Airbnb, чтобы улучшить качество работы Vowpal Wabbit."
   ]
  },
  {
   "cell_type": "code",
   "execution_count": 1,
   "metadata": {},
   "outputs": [],
   "source": [
    "import pandas as pd\n",
    "import numpy as np\n",
    "\n",
    "import pandas as pd\n",
    "\n",
    "pd.set_option('display.max_columns', None)  \n",
    "pd.set_option('display.expand_frame_repr', False)\n",
    "pd.set_option('max_colwidth', 800)"
   ]
  },
  {
   "cell_type": "code",
   "execution_count": 2,
   "metadata": {},
   "outputs": [
    {
     "data": {
      "text/html": [
       "<div>\n",
       "<style scoped>\n",
       "    .dataframe tbody tr th:only-of-type {\n",
       "        vertical-align: middle;\n",
       "    }\n",
       "\n",
       "    .dataframe tbody tr th {\n",
       "        vertical-align: top;\n",
       "    }\n",
       "\n",
       "    .dataframe thead th {\n",
       "        text-align: right;\n",
       "    }\n",
       "</style>\n",
       "<table border=\"1\" class=\"dataframe\">\n",
       "  <thead>\n",
       "    <tr style=\"text-align: right;\">\n",
       "      <th></th>\n",
       "      <th>Price</th>\n",
       "      <th>Description</th>\n",
       "    </tr>\n",
       "  </thead>\n",
       "  <tbody>\n",
       "    <tr>\n",
       "      <th>15864</th>\n",
       "      <td>NaN</td>\n",
       "      <td>Situated at the Western part ocentral Copenhagen. Overviewing meatpacking district. 5 min walk from town hall square and central station. Its an egoist appartment with two master bedrooms but can be made for 6 persons. (PHONE NUMBER HIDDEN)esterbro is located just outside Copenhagen’s city center—the Inner City or Indre By—making it a very attractive place to live, as are the other areas immediately outside the center: the Indre Nørrebro (“Inner Nørrebro”), Indre Østerbro (“Inner Østerbro”), Frederiksberg, and Christianshavn. The district is located west of the city center at the location of the old Western Gate (‘’Vesterport’’), access way into the old city. The gate, along with the other three gates into the old city-- Østerport (\"Eastern Gate\") near the current Østerport station), N...</td>\n",
       "    </tr>\n",
       "    <tr>\n",
       "      <th>9779</th>\n",
       "      <td>50.0</td>\n",
       "      <td>Dans le 17ème arrondissement de Paris, beau studio meublé très clair et calme, au 3ème étage sans ascenseur, idéal pour visiter Paris! Description: Environ 25m2, poutres apparentes,1 chambre et une cuisine/salle à manger. Salle de douche avec WC</td>\n",
       "    </tr>\n",
       "    <tr>\n",
       "      <th>49079</th>\n",
       "      <td>90.0</td>\n",
       "      <td>A clean and cosy one bedroom apartment in a georgian house on a quiet street for up to 3. Ideal location for exciting east end and London culture, business trips and family visits,great transport links Everything provided for comfort and convenience. Original classic style, relaxing and homely. Wood floor, simple furnishing with modern kitchen fittings and equipment,storage space and pretty yard  and woodland garden This is a self contained apartment with separate, independent entrance. Visitors can enjoy the garden and there is a shared laundry room. Safe on street parking  available outside the house. I live in the other part of the house and am  available to greet visitors and give them as much or as little advice,help or friendly interaction that they need. I have lived in Hackney ...</td>\n",
       "    </tr>\n",
       "    <tr>\n",
       "      <th>11920</th>\n",
       "      <td>25.0</td>\n",
       "      <td>Amplia y cómoda habitación en piso de lujo en una de las mejores zonas de Madrid. Barrio tranquilo y bien comunicado, cercano al metro y múltiples paradas de autobús Línea 4 de metro Estación de Arturo Soria, líneas (PHONE NUMBER HIDDEN) de buses</td>\n",
       "    </tr>\n",
       "    <tr>\n",
       "      <th>95815</th>\n",
       "      <td>200.0</td>\n",
       "      <td>A beautifully modern and well presented family home in the popular district of Canonmills. Suitable for a small group of travellers and guests travelling with young children. Short walking distance to City Centre, Supermarkets and Bus / Tram stops. Property has lift access to terrace. Apartment is located on the terrace level. - Bright and spacious open plan kitchen / dining area / living room with sofa bed. (Sofa bed suitable for 1 adult or 2 children only.) - Private terrace with BBQ and outdoor seating. (Charcoal for BBQ will be provided.) - Double bedroom with en suite (shower).  - Smaller room with two single beds (can convert into a double).  - Family bathroom (shower and bath).  - Free car parking (1 car only) Guests will have access to the whole property. - All appliances can b...</td>\n",
       "    </tr>\n",
       "  </tbody>\n",
       "</table>\n",
       "</div>"
      ],
      "text/plain": [
       "       Price                                                                                                                                                                                                                                                                                                                                                                                                                                                                                                                                                                                                                                                                                                                                                                                                                      Description\n",
       "15864    NaN  Situated at the Western part ocentral Copenhagen. Overviewing meatpacking district. 5 min walk from town hall square and central station. Its an egoist appartment with two master bedrooms but can be made for 6 persons. (PHONE NUMBER HIDDEN)esterbro is located just outside Copenhagen’s city center—the Inner City or Indre By—making it a very attractive place to live, as are the other areas immediately outside the center: the Indre Nørrebro (“Inner Nørrebro”), Indre Østerbro (“Inner Østerbro”), Frederiksberg, and Christianshavn. The district is located west of the city center at the location of the old Western Gate (‘’Vesterport’’), access way into the old city. The gate, along with the other three gates into the old city-- Østerport (\"Eastern Gate\") near the current Østerport station), N...\n",
       "9779    50.0                                                                                                                                                                                                                                                                                                                                                                                                                                                                                                                                                                            Dans le 17ème arrondissement de Paris, beau studio meublé très clair et calme, au 3ème étage sans ascenseur, idéal pour visiter Paris! Description: Environ 25m2, poutres apparentes,1 chambre et une cuisine/salle à manger. Salle de douche avec WC\n",
       "49079   90.0  A clean and cosy one bedroom apartment in a georgian house on a quiet street for up to 3. Ideal location for exciting east end and London culture, business trips and family visits,great transport links Everything provided for comfort and convenience. Original classic style, relaxing and homely. Wood floor, simple furnishing with modern kitchen fittings and equipment,storage space and pretty yard  and woodland garden This is a self contained apartment with separate, independent entrance. Visitors can enjoy the garden and there is a shared laundry room. Safe on street parking  available outside the house. I live in the other part of the house and am  available to greet visitors and give them as much or as little advice,help or friendly interaction that they need. I have lived in Hackney ...\n",
       "11920   25.0                                                                                                                                                                                                                                                                                                                                                                                                                                                                                                                                                                           Amplia y cómoda habitación en piso de lujo en una de las mejores zonas de Madrid. Barrio tranquilo y bien comunicado, cercano al metro y múltiples paradas de autobús Línea 4 de metro Estación de Arturo Soria, líneas (PHONE NUMBER HIDDEN) de buses\n",
       "95815  200.0  A beautifully modern and well presented family home in the popular district of Canonmills. Suitable for a small group of travellers and guests travelling with young children. Short walking distance to City Centre, Supermarkets and Bus / Tram stops. Property has lift access to terrace. Apartment is located on the terrace level. - Bright and spacious open plan kitchen / dining area / living room with sofa bed. (Sofa bed suitable for 1 adult or 2 children only.) - Private terrace with BBQ and outdoor seating. (Charcoal for BBQ will be provided.) - Double bedroom with en suite (shower).  - Smaller room with two single beds (can convert into a double).  - Family bathroom (shower and bath).  - Free car parking (1 car only) Guests will have access to the whole property. - All appliances can b..."
      ]
     },
     "execution_count": 2,
     "metadata": {},
     "output_type": "execute_result"
    }
   ],
   "source": [
    "df = pd.read_csv(\"airbnb-100k.tsv\", delimiter='\\t')\n",
    "df.sample(5)"
   ]
  },
  {
   "cell_type": "markdown",
   "metadata": {},
   "source": [
    "Наши шаги следующие:\n",
    "\n",
    "- разобъем строки на токены (слова)\n",
    "- приведем все в нижний регистр\n",
    "- уберем стоп-слова (частоупотребимые члова, не несущие смысла: для английского языка это артикли, местоимения, модальные глаголы и т.д.)\n",
    "- проведем стемминг (выделим псевдооснову слова)"
   ]
  },
  {
   "cell_type": "markdown",
   "metadata": {},
   "source": [
    "В библиотеке NLTK (Natural Language Toolkit) реализованы методы для работы с естественным языком, в том числе, есть наборы стоп-слов для разных языков (включая русский)."
   ]
  },
  {
   "cell_type": "code",
   "execution_count": 3,
   "metadata": {},
   "outputs": [
    {
     "data": {
      "text/plain": [
       "['i', 'me', 'my', 'myself', 'we', 'our', 'ours', 'ourselves', 'you', \"you're\"]"
      ]
     },
     "execution_count": 3,
     "metadata": {},
     "output_type": "execute_result"
    }
   ],
   "source": [
    "import re\n",
    "import nltk.data \n",
    "from nltk.corpus import stopwords\n",
    "\n",
    "stop_words = stopwords.words('english')\n",
    "stop_words[:10]"
   ]
  },
  {
   "cell_type": "markdown",
   "metadata": {},
   "source": [
    "Строго говоря, токенизацию тоже можно сделать методами из NLTK, но пока мы оставим простую токенизацию с помощью регулярных выражений."
   ]
  },
  {
   "cell_type": "code",
   "execution_count": 4,
   "metadata": {},
   "outputs": [],
   "source": [
    "# токенизация \n",
    "words_only = re.compile('[a-z]+')\n",
    "\n",
    "def letters(s, regex = words_only):\n",
    "    if isinstance(s, str):\n",
    "        return words_only.findall(s.lower())\n",
    "    else:\n",
    "        return []\n",
    "\n",
    "# удаление стоп-слов\n",
    "def remove_stopwords(tokens, sw = stop_words):\n",
    "    return [t for t in tokens if not t in sw]\n",
    "\n",
    "def preprocess(s):\n",
    "    return remove_stopwords(letters(s))"
   ]
  },
  {
   "cell_type": "code",
   "execution_count": 5,
   "metadata": {},
   "outputs": [
    {
     "data": {
      "text/plain": [
       "['get',\n",
       " 'help',\n",
       " 'local',\n",
       " 'service',\n",
       " 'called',\n",
       " 'key',\n",
       " 'butler',\n",
       " 'welcome',\n",
       " 'let',\n",
       " 'etc']"
      ]
     },
     "execution_count": 5,
     "metadata": {},
     "output_type": "execute_result"
    }
   ],
   "source": [
    "s = 'I get help from a local service called \"Key Butler\" to welcome you and let you in etc, and they....' \n",
    "\n",
    "preprocess(s)"
   ]
  },
  {
   "cell_type": "code",
   "execution_count": 8,
   "metadata": {},
   "outputs": [
    {
     "data": {
      "text/html": [
       "<div>\n",
       "<style scoped>\n",
       "    .dataframe tbody tr th:only-of-type {\n",
       "        vertical-align: middle;\n",
       "    }\n",
       "\n",
       "    .dataframe tbody tr th {\n",
       "        vertical-align: top;\n",
       "    }\n",
       "\n",
       "    .dataframe thead th {\n",
       "        text-align: right;\n",
       "    }\n",
       "</style>\n",
       "<table border=\"1\" class=\"dataframe\">\n",
       "  <thead>\n",
       "    <tr style=\"text-align: right;\">\n",
       "      <th></th>\n",
       "      <th>Price</th>\n",
       "      <th>Description</th>\n",
       "      <th>clean_description</th>\n",
       "    </tr>\n",
       "  </thead>\n",
       "  <tbody>\n",
       "    <tr>\n",
       "      <th>43536</th>\n",
       "      <td>135.0</td>\n",
       "      <td>These stunning 2 bedroom apartments are in the original living quarters of the house. They provide spacious accommodation with a large central drawing room and an open-plan kitchen. A separate master bedroom and another smaller bedroom look onto picturesque Doughty Street. Stunning Two Bedroom, one bathroom apartment in No-5 Doughty Street, Bloomsbury, London Stunning Two Bedroom, one bathroom apartment in No-5 Doughty Street, Bloomsbury, London These stunning 2 bedroom apartments are in the original living quarters of the house.  They provide spacious accommodation with a large central drawing room and an open-plan kitchen. A separate master bedroom and another smaller bedroom look into the pictures Doughty Street.  This attractive apartment of 52m2 disposes a spacious living room wit...</td>\n",
       "      <td>[stunning, bedroom, apartments, original, living, quarters, house, provide, spacious, accommodation, large, central, drawing, room, open, plan, kitchen, separate, master, bedroom, another, smaller, bedroom, look, onto, picturesque, doughty, street, stunning, two, bedroom, one, bathroom, apartment, doughty, street, bloomsbury, london, stunning, two, bedroom, one, bathroom, apartment, doughty, street, bloomsbury, london, stunning, bedroom, apartments, original, living, quarters, house, provide, spacious, accommodation, large, central, drawing, room, open, plan, kitchen, separate, master, bedroom, another, smaller, bedroom, look, pictures, doughty, street, attractive, apartment, disposes, spacious, living, room, sofa, bed, flat, screen, tv, pay, per, view, channels, free, wifi, internet, ...</td>\n",
       "    </tr>\n",
       "    <tr>\n",
       "      <th>63320</th>\n",
       "      <td>70.0</td>\n",
       "      <td>Nice apartment situated in Puerto Alcudia. Really calm street,but close to the restaurants, supermarkets, marina and the ba</td>\n",
       "      <td>[nice, apartment, situated, puerto, alcudia, really, calm, street, close, restaurants, supermarkets, marina, ba]</td>\n",
       "    </tr>\n",
       "    <tr>\n",
       "      <th>50157</th>\n",
       "      <td>100.0</td>\n",
       "      <td>This is a cozy one bedroom apartment with a spacious kitchen, living room and two balconies. The apartment is located in one of the upcoming neighborhoods of Amsterdam- Westerpark, which is a quiet area neighboring the famous district Jordaan. This apartment comes with a cat! So if you like cats and are not allergic to them you are welcome to stay. You are kindly asked to feed and be friendly to him. He mostly stays outside and occasionally sleeps indoors. The apartment is a very cozy place offering a comfortable and relaxing stay especially for those who are not only looking to have fun in Amsterdam but also to relax. The bedroom features a comfy two-person bed with windows facing the backyard meaning you get a good nights sleep! The bathroom featuring a sink and a bathtub (!) adjoins...</td>\n",
       "      <td>[cozy, one, bedroom, apartment, spacious, kitchen, living, room, two, balconies, apartment, located, one, upcoming, neighborhoods, amsterdam, westerpark, quiet, area, neighboring, famous, district, jordaan, apartment, comes, cat, like, cats, allergic, welcome, stay, kindly, asked, feed, friendly, mostly, stays, outside, occasionally, sleeps, indoors, apartment, cozy, place, offering, comfortable, relaxing, stay, especially, looking, fun, amsterdam, also, relax, bedroom, features, comfy, two, person, bed, windows, facing, backyard, meaning, get, good, nights, sleep, bathroom, featuring, sink, bathtub, adjoins, bedroom, relax, nice, bubble, bath, reminiscing, van, gogh, paintings, seen, today, living, room, area, shares, space, fully, equipped, kitchen]</td>\n",
       "    </tr>\n",
       "    <tr>\n",
       "      <th>68364</th>\n",
       "      <td>697.0</td>\n",
       "      <td>The apartment is located in Nørrebro, right on the boarder of Frederiksberg. The street is quite lively with restaurants, cafés and amazing beer bars just around the corner. The apartment is cosy with everything you'll need for a long or short stay. Our apartment is made up of a fully equipped kitchen, a cosy dining/living room, a bedroom with closet space and a small toilet and bath. It's a great space to relax between trips in Copenhagen or if you want to make dinner and stay in. The whole place is yours. We'll give a short introduction to the place and a guide and tips for the neighborhood. within 2 minutes walk: good coffee, pizza, burger place, thai restaurant, italian restaurant, kebab, 7-11, supermarket, bike rental, bakery, bus, craft beer bar, tapas style cocktail/wine-restaur...</td>\n",
       "      <td>[apartment, located, n, rrebro, right, boarder, frederiksberg, street, quite, lively, restaurants, caf, amazing, beer, bars, around, corner, apartment, cosy, everything, need, long, short, stay, apartment, made, fully, equipped, kitchen, cosy, dining, living, room, bedroom, closet, space, small, toilet, bath, great, space, relax, trips, copenhagen, want, make, dinner, stay, whole, place, give, short, introduction, place, guide, tips, neighborhood, within, minutes, walk, good, coffee, pizza, burger, place, thai, restaurant, italian, restaurant, kebab, supermarket, bike, rental, bakery, bus, craft, beer, bar, tapas, style, cocktail, wine, restaurant, laundromat, min, walk, metro, cocktail, bars, indian, nordic, food, lakes, park, main, street, lots, shops, etc, get, ...]</td>\n",
       "    </tr>\n",
       "  </tbody>\n",
       "</table>\n",
       "</div>"
      ],
      "text/plain": [
       "       Price                                                                                                                                                                                                                                                                                                                                                                                                                                                                                                                                                                                                                                                                                                                                                                                                                      Description                                                                                                                                                                                                                                                                                                                                                                                                                                                                                                                                                                                                                                                                                                                                                                                                                clean_description\n",
       "43536  135.0  These stunning 2 bedroom apartments are in the original living quarters of the house. They provide spacious accommodation with a large central drawing room and an open-plan kitchen. A separate master bedroom and another smaller bedroom look onto picturesque Doughty Street. Stunning Two Bedroom, one bathroom apartment in No-5 Doughty Street, Bloomsbury, London Stunning Two Bedroom, one bathroom apartment in No-5 Doughty Street, Bloomsbury, London These stunning 2 bedroom apartments are in the original living quarters of the house.  They provide spacious accommodation with a large central drawing room and an open-plan kitchen. A separate master bedroom and another smaller bedroom look into the pictures Doughty Street.  This attractive apartment of 52m2 disposes a spacious living room wit...  [stunning, bedroom, apartments, original, living, quarters, house, provide, spacious, accommodation, large, central, drawing, room, open, plan, kitchen, separate, master, bedroom, another, smaller, bedroom, look, onto, picturesque, doughty, street, stunning, two, bedroom, one, bathroom, apartment, doughty, street, bloomsbury, london, stunning, two, bedroom, one, bathroom, apartment, doughty, street, bloomsbury, london, stunning, bedroom, apartments, original, living, quarters, house, provide, spacious, accommodation, large, central, drawing, room, open, plan, kitchen, separate, master, bedroom, another, smaller, bedroom, look, pictures, doughty, street, attractive, apartment, disposes, spacious, living, room, sofa, bed, flat, screen, tv, pay, per, view, channels, free, wifi, internet, ...\n",
       "63320   70.0                                                                                                                                                                                                                                                                                                                                                                                                                                                                                                                                                                                                                                                                                                      Nice apartment situated in Puerto Alcudia. Really calm street,but close to the restaurants, supermarkets, marina and the ba                                                                                                                                                                                                                                                                                                                                                                                                                                                                                                                                                                                                                                                                                                                 [nice, apartment, situated, puerto, alcudia, really, calm, street, close, restaurants, supermarkets, marina, ba]\n",
       "50157  100.0  This is a cozy one bedroom apartment with a spacious kitchen, living room and two balconies. The apartment is located in one of the upcoming neighborhoods of Amsterdam- Westerpark, which is a quiet area neighboring the famous district Jordaan. This apartment comes with a cat! So if you like cats and are not allergic to them you are welcome to stay. You are kindly asked to feed and be friendly to him. He mostly stays outside and occasionally sleeps indoors. The apartment is a very cozy place offering a comfortable and relaxing stay especially for those who are not only looking to have fun in Amsterdam but also to relax. The bedroom features a comfy two-person bed with windows facing the backyard meaning you get a good nights sleep! The bathroom featuring a sink and a bathtub (!) adjoins...                                        [cozy, one, bedroom, apartment, spacious, kitchen, living, room, two, balconies, apartment, located, one, upcoming, neighborhoods, amsterdam, westerpark, quiet, area, neighboring, famous, district, jordaan, apartment, comes, cat, like, cats, allergic, welcome, stay, kindly, asked, feed, friendly, mostly, stays, outside, occasionally, sleeps, indoors, apartment, cozy, place, offering, comfortable, relaxing, stay, especially, looking, fun, amsterdam, also, relax, bedroom, features, comfy, two, person, bed, windows, facing, backyard, meaning, get, good, nights, sleep, bathroom, featuring, sink, bathtub, adjoins, bedroom, relax, nice, bubble, bath, reminiscing, van, gogh, paintings, seen, today, living, room, area, shares, space, fully, equipped, kitchen]\n",
       "68364  697.0  The apartment is located in Nørrebro, right on the boarder of Frederiksberg. The street is quite lively with restaurants, cafés and amazing beer bars just around the corner. The apartment is cosy with everything you'll need for a long or short stay. Our apartment is made up of a fully equipped kitchen, a cosy dining/living room, a bedroom with closet space and a small toilet and bath. It's a great space to relax between trips in Copenhagen or if you want to make dinner and stay in. The whole place is yours. We'll give a short introduction to the place and a guide and tips for the neighborhood. within 2 minutes walk: good coffee, pizza, burger place, thai restaurant, italian restaurant, kebab, 7-11, supermarket, bike rental, bakery, bus, craft beer bar, tapas style cocktail/wine-restaur...                      [apartment, located, n, rrebro, right, boarder, frederiksberg, street, quite, lively, restaurants, caf, amazing, beer, bars, around, corner, apartment, cosy, everything, need, long, short, stay, apartment, made, fully, equipped, kitchen, cosy, dining, living, room, bedroom, closet, space, small, toilet, bath, great, space, relax, trips, copenhagen, want, make, dinner, stay, whole, place, give, short, introduction, place, guide, tips, neighborhood, within, minutes, walk, good, coffee, pizza, burger, place, thai, restaurant, italian, restaurant, kebab, supermarket, bike, rental, bakery, bus, craft, beer, bar, tapas, style, cocktail, wine, restaurant, laundromat, min, walk, metro, cocktail, bars, indian, nordic, food, lakes, park, main, street, lots, shops, etc, get, ...]"
      ]
     },
     "execution_count": 8,
     "metadata": {},
     "output_type": "execute_result"
    }
   ],
   "source": [
    "df['clean_description'] = df.Description.map(preprocess)\n",
    "df.sample(4)"
   ]
  },
  {
   "cell_type": "markdown",
   "metadata": {},
   "source": [
    "Если присмотреться, можно увидеть, что в данных есть тексты не только на английском языке:"
   ]
  },
  {
   "cell_type": "code",
   "execution_count": 9,
   "metadata": {},
   "outputs": [
    {
     "data": {
      "text/plain": [
       "Price                                                                                                                                                                                                                                                                                                                                                                                                                                                                                                                                                                                                                                                                                                                                                                                                                                            350\n",
       "Description          Le rez-de chaussée de la Maison Duquette est à 2 minutes de marche du métro Villa-Maria, Il s'agit d'une maison familiale avec 4 grandes chambres, salon, salle à diner, salle familiale, cuisine avec îlot, 2 salles de bain complète La maison comprend 4 chambres, une salle familial, une salle à manger, un salon et une cuisine inclant 3 salles de bain dont 2 complètes. Chaque chambre est meublée selon le style d'Ikea, elle comprend : lit (literie: couette- housse de matelas- oreiller-) table de chevet, commode- bureau -chaise -lampe de travail – placard, coin lecture la cuisine : poêle- réfrigérateur- lave-vaisselle – four micro-onde vaisselles –casserole- linge de maison, grande table – chaises deux salles de bain complètes et une salle d'eau. Laveuse sécheuse, Internet inclus wifi (DSL)...\n",
       "clean_description                                                                                                                                 [le, rez, de, chauss, e, de, la, maison, duquette, est, minutes, de, marche, du, tro, villa, maria, il, agit, une, maison, familiale, avec, grandes, chambres, salon, salle, diner, salle, familiale, cuisine, avec, lot, salles, de, bain, compl, te, la, maison, comprend, chambres, une, salle, familial, une, salle, manger, un, salon, et, une, cuisine, inclant, salles, de, bain, dont, compl, tes, chaque, chambre, est, meubl, e, selon, le, style, ikea, elle, comprend, lit, literie, couette, housse, de, matelas, oreiller, table, de, chevet, commode, bureau, chaise, lampe, de, travail, placard, coin, lecture, la, cuisine, po, le, r, frig, rateur, lave, vaisselle, four, ...]\n",
       "Name: 41403, dtype: object"
      ]
     },
     "execution_count": 9,
     "metadata": {},
     "output_type": "execute_result"
    }
   ],
   "source": [
    "df.iloc[41403]"
   ]
  },
  {
   "cell_type": "markdown",
   "metadata": {},
   "source": [
    "Посмотрим, какие еще языки есть.\n",
    "\n",
    "Воспользуемся библиотекой spaCy, она написана на Cython и в целом довольно быстрая. Официальная документация [тут](https://spacy.io/models). В библиотеке есть предобученные модели для 16 языков, но для русского пока, к сожалению, нет.\n",
    "\n"
   ]
  },
  {
   "cell_type": "code",
   "execution_count": 10,
   "metadata": {},
   "outputs": [],
   "source": [
    "import spacy\n",
    "from spacy_langdetect import LanguageDetector\n",
    "from tqdm import tqdm_notebook as tqdm\n",
    "from langdetect import DetectorFactory\n",
    "\n",
    "DetectorFactory.seed = 0\n",
    "spacy.util.fix_random_seed(0)\n",
    "\n",
    "nlp = spacy.load('en_core_web_sm')\n",
    "nlp.add_pipe(LanguageDetector(), name='language_detector', last=True)"
   ]
  },
  {
   "cell_type": "code",
   "execution_count": 11,
   "metadata": {},
   "outputs": [],
   "source": [
    "# для ускорения будем определять язык только для первого предложения в тексте\n",
    "\n",
    "def detect_lang(t):\n",
    "    if isinstance(t, str):\n",
    "        text = t.split('.')[0]\n",
    "        doc = nlp(text)\n",
    "        return (doc._.language.get('language'))\n",
    "    else:\n",
    "        return None"
   ]
  },
  {
   "cell_type": "markdown",
   "metadata": {},
   "source": [
    "Метод LanguageDetector, определяющий язык текста, не очень быстрый, поэтому воспользуемся библиотекой multiprocessing, чтобы распараллелить процесс:"
   ]
  },
  {
   "cell_type": "code",
   "execution_count": 12,
   "metadata": {},
   "outputs": [
    {
     "data": {
      "application/vnd.jupyter.widget-view+json": {
       "model_id": "b75234c882494863ad4ddf63f4a6647e",
       "version_major": 2,
       "version_minor": 0
      },
      "text/plain": [
       "HBox(children=(FloatProgress(value=0.0, max=100000.0), HTML(value='')))"
      ]
     },
     "metadata": {},
     "output_type": "display_data"
    },
    {
     "name": "stdout",
     "output_type": "stream",
     "text": [
      "\n"
     ]
    }
   ],
   "source": [
    "from multiprocessing import Pool\n",
    "\n",
    "with Pool(2) as p:\n",
    "    langs = list(tqdm(p.imap(detect_lang, df.Description), total=len(df)))\n",
    "    \n",
    "df['lang'] = langs"
   ]
  },
  {
   "cell_type": "code",
   "execution_count": 13,
   "metadata": {},
   "outputs": [
    {
     "data": {
      "text/plain": [
       "en         82612\n",
       "fr          6655\n",
       "es          3300\n",
       "it          2756\n",
       "de          1760\n",
       "da           525\n",
       "nl           503\n",
       "zh-cn        284\n",
       "af           235\n",
       "ca           202\n",
       "ko           164\n",
       "pt           139\n",
       "ro           129\n",
       "UNKNOWN       97\n",
       "no            77\n",
       "vi            55\n",
       "el            51\n",
       "et            49\n",
       "tl            44\n",
       "ru            38\n",
       "so            33\n",
       "fi            26\n",
       "pl            26\n",
       "hu            23\n",
       "sw            22\n",
       "sv            21\n",
       "id            20\n",
       "cy            19\n",
       "lt            16\n",
       "zh-tw         16\n",
       "sq            11\n",
       "tr            10\n",
       "ja            10\n",
       "sk            10\n",
       "sl             5\n",
       "cs             5\n",
       "lv             4\n",
       "hr             3\n",
       "bg             1\n",
       "Name: lang, dtype: int64"
      ]
     },
     "execution_count": 13,
     "metadata": {},
     "output_type": "execute_result"
    }
   ],
   "source": [
    "df.lang.value_counts()"
   ]
  },
  {
   "cell_type": "markdown",
   "metadata": {},
   "source": [
    "Последние два шага препроцессинга (удаление стоп-слов, которое мы уже проделали, и стемминг) сильно зависят от языка, поэтому для простоты мы оставим только англоязычные данные, хотя библиотеки NLTK и spaCy умеют работать с большинством европейских языков (для этого нужно лишь скачать соответствующие модели)."
   ]
  },
  {
   "cell_type": "code",
   "execution_count": 14,
   "metadata": {},
   "outputs": [
    {
     "data": {
      "text/plain": [
       "82612"
      ]
     },
     "execution_count": 14,
     "metadata": {},
     "output_type": "execute_result"
    }
   ],
   "source": [
    "eng_df = df[df.lang == 'en']\n",
    "len(eng_df)"
   ]
  },
  {
   "cell_type": "code",
   "execution_count": 15,
   "metadata": {},
   "outputs": [],
   "source": [
    "eng_df.to_csv('eng_df.csv', index=False)"
   ]
  },
  {
   "cell_type": "code",
   "execution_count": 16,
   "metadata": {},
   "outputs": [],
   "source": [
    "del df"
   ]
  },
  {
   "cell_type": "markdown",
   "metadata": {},
   "source": [
    "Стеммер возьмем из NLTK:"
   ]
  },
  {
   "cell_type": "code",
   "execution_count": 17,
   "metadata": {},
   "outputs": [
    {
     "data": {
      "text/plain": [
       "'apart'"
      ]
     },
     "execution_count": 17,
     "metadata": {},
     "output_type": "execute_result"
    }
   ],
   "source": [
    "from nltk.stem.snowball import SnowballStemmer\n",
    "\n",
    "snowball = SnowballStemmer(\"english\")\n",
    "snowball.stem('apartment')"
   ]
  },
  {
   "cell_type": "markdown",
   "metadata": {},
   "source": [
    "Стемминг - не очень быстрая операция, хотя и более быстрая, чем лемматизация (приведение к нормальной форме, которое чаще используется для языков с богатой морфологией, скажем, русского). Поэтому мы создадим кеш для функции-стеммера, чтобы не делать повторно стемминг для часто встречающихся слов."
   ]
  },
  {
   "cell_type": "code",
   "execution_count": 18,
   "metadata": {},
   "outputs": [],
   "source": [
    "from functools import lru_cache"
   ]
  },
  {
   "cell_type": "code",
   "execution_count": 19,
   "metadata": {},
   "outputs": [],
   "source": [
    "def stemm_description(d):\n",
    "    @lru_cache(maxsize=128)\n",
    "    def stemm_token(token):\n",
    "        return snowball.stem(token)\n",
    "\n",
    "    return [stemm_token(t) for t in d if len(stemm_token(t)) >= 3]"
   ]
  },
  {
   "cell_type": "code",
   "execution_count": 20,
   "metadata": {},
   "outputs": [
    {
     "data": {
      "text/plain": [
       "['comfort',\n",
       " 'calm',\n",
       " 'apart',\n",
       " 'room',\n",
       " 'center',\n",
       " 'pari',\n",
       " 'bastill',\n",
       " 'area',\n",
       " 'welcom',\n",
       " 'explain']"
      ]
     },
     "execution_count": 20,
     "metadata": {},
     "output_type": "execute_result"
    }
   ],
   "source": [
    "tokens = eng_df.clean_description[1]\n",
    "\n",
    "stemm_description(tokens)[:10]"
   ]
  },
  {
   "cell_type": "code",
   "execution_count": 21,
   "metadata": {},
   "outputs": [
    {
     "data": {
      "application/vnd.jupyter.widget-view+json": {
       "model_id": "1e535ffba1d24b379b1333ddc7356197",
       "version_major": 2,
       "version_minor": 0
      },
      "text/plain": [
       "HBox(children=(FloatProgress(value=0.0, max=82612.0), HTML(value='')))"
      ]
     },
     "metadata": {},
     "output_type": "display_data"
    },
    {
     "name": "stdout",
     "output_type": "stream",
     "text": [
      "\n"
     ]
    }
   ],
   "source": [
    "from multiprocessing import Pool\n",
    "\n",
    "with Pool(2) as p:\n",
    "    stems = list(tqdm(p.imap(stemm_description, eng_df.clean_description), total=len(eng_df)))\n",
    "    \n",
    "eng_df['stems'] = stems"
   ]
  },
  {
   "cell_type": "code",
   "execution_count": 22,
   "metadata": {},
   "outputs": [
    {
     "data": {
      "text/html": [
       "<div>\n",
       "<style scoped>\n",
       "    .dataframe tbody tr th:only-of-type {\n",
       "        vertical-align: middle;\n",
       "    }\n",
       "\n",
       "    .dataframe tbody tr th {\n",
       "        vertical-align: top;\n",
       "    }\n",
       "\n",
       "    .dataframe thead th {\n",
       "        text-align: right;\n",
       "    }\n",
       "</style>\n",
       "<table border=\"1\" class=\"dataframe\">\n",
       "  <thead>\n",
       "    <tr style=\"text-align: right;\">\n",
       "      <th></th>\n",
       "      <th>Price</th>\n",
       "      <th>Description</th>\n",
       "      <th>clean_description</th>\n",
       "      <th>lang</th>\n",
       "      <th>stems</th>\n",
       "    </tr>\n",
       "  </thead>\n",
       "  <tbody>\n",
       "    <tr>\n",
       "      <th>77476</th>\n",
       "      <td>65.0</td>\n",
       "      <td>This big bright room is on the second floor of a newly renovated three bedrooms duplex. The central air keeps you cool during summer and warm during winter. There is plenty of living space, a fully equipped kitchen and furnished backyard with a grill. See \" Guest Access \" for more details. The space is equipped with central air and heat. There is a fully equipped chef's kitchen with brand new appliances including a dishwasher.  ( See GUEST ACCESS for more information ) Our guest have full access to the chef's kitchen equipped with brand new appliances as well as s fully furnished backyard with charcoal grill.  The room has a smart TV hooked up to Netflix, Hulu and Showtime. It is wifi enabled so internet browsing  is also an option.  There is an iron and iron board. Our guests also hav...</td>\n",
       "      <td>[big, bright, room, second, floor, newly, renovated, three, bedrooms, duplex, central, air, keeps, cool, summer, warm, winter, plenty, living, space, fully, equipped, kitchen, furnished, backyard, grill, see, guest, access, details, space, equipped, central, air, heat, fully, equipped, chef, kitchen, brand, new, appliances, including, dishwasher, see, guest, access, information, guest, full, access, chef, kitchen, equipped, brand, new, appliances, well, fully, furnished, backyard, charcoal, grill, room, smart, tv, hooked, netflix, hulu, showtime, wifi, enabled, internet, browsing, also, option, iron, iron, board, guests, also, access, living, areas, tea, room, comfortable, blue, leather, couch, brown, leather, butterfly, chair, sink, right, perfect, area, enjoy, nice, ...]</td>\n",
       "      <td>en</td>\n",
       "      <td>[big, bright, room, second, floor, newli, renov, three, bedroom, duplex, central, air, keep, cool, summer, warm, winter, plenti, live, space, fulli, equip, kitchen, furnish, backyard, grill, see, guest, access, detail, space, equip, central, air, heat, fulli, equip, chef, kitchen, brand, new, applianc, includ, dishwash, see, guest, access, inform, guest, full, access, chef, kitchen, equip, brand, new, applianc, well, fulli, furnish, backyard, charcoal, grill, room, smart, hook, netflix, hulu, showtim, wifi, enabl, internet, brows, also, option, iron, iron, board, guest, also, access, live, area, tea, room, comfort, blue, leather, couch, brown, leather, butterfli, chair, sink, right, perfect, area, enjoy, nice, convers, ...]</td>\n",
       "    </tr>\n",
       "    <tr>\n",
       "      <th>90585</th>\n",
       "      <td>57.0</td>\n",
       "      <td>Walkout apartment with keyless locks. Clean renovated basement with windows. All new furniture and appliances, new queen bed; high quality 100% cotton linens. Unlimited internet and easy access to TTC. Quiet residential neighbourhood with tree-lined streets and Victorian houses between Leslieville and the Danforth. Free parking either behind or close to the house. Parks, waterfront trail, and restaurants close by.</td>\n",
       "      <td>[walkout, apartment, keyless, locks, clean, renovated, basement, windows, new, furniture, appliances, new, queen, bed, high, quality, cotton, linens, unlimited, internet, easy, access, ttc, quiet, residential, neighbourhood, tree, lined, streets, victorian, houses, leslieville, danforth, free, parking, either, behind, close, house, parks, waterfront, trail, restaurants, close]</td>\n",
       "      <td>en</td>\n",
       "      <td>[walkout, apart, keyless, lock, clean, renov, basement, window, new, furnitur, applianc, new, queen, bed, high, qualiti, cotton, linen, unlimit, internet, easi, access, ttc, quiet, residenti, neighbourhood, tree, line, street, victorian, hous, leslievill, danforth, free, park, either, behind, close, hous, park, waterfront, trail, restaur, close]</td>\n",
       "    </tr>\n",
       "    <tr>\n",
       "      <th>72144</th>\n",
       "      <td>200.0</td>\n",
       "      <td>This is a self contained apartment above my home.  A spacious and comfortable backyard space to relax in and easy access to the city.  Blocks from Frenchman Street and the quarter with walking access to the Bywater and Marigny</td>\n",
       "      <td>[self, contained, apartment, home, spacious, comfortable, backyard, space, relax, easy, access, city, blocks, frenchman, street, quarter, walking, access, bywater, marigny]</td>\n",
       "      <td>en</td>\n",
       "      <td>[self, contain, apart, home, spacious, comfort, backyard, space, relax, easi, access, citi, block, frenchman, street, quarter, walk, access, bywat, marigni]</td>\n",
       "    </tr>\n",
       "  </tbody>\n",
       "</table>\n",
       "</div>"
      ],
      "text/plain": [
       "       Price                                                                                                                                                                                                                                                                                                                                                                                                                                                                                                                                                                                                                                                                                                                                                                                                                      Description                                                                                                                                                                                                                                                                                                                                                                                                                                                                                                                                                                                                                                                                                                                                                                                                clean_description lang                                                                                                                                                                                                                                                                                                                                                                                                                                                                                                                                                                                                                                                                                                                                                          stems\n",
       "77476   65.0  This big bright room is on the second floor of a newly renovated three bedrooms duplex. The central air keeps you cool during summer and warm during winter. There is plenty of living space, a fully equipped kitchen and furnished backyard with a grill. See \" Guest Access \" for more details. The space is equipped with central air and heat. There is a fully equipped chef's kitchen with brand new appliances including a dishwasher.  ( See GUEST ACCESS for more information ) Our guest have full access to the chef's kitchen equipped with brand new appliances as well as s fully furnished backyard with charcoal grill.  The room has a smart TV hooked up to Netflix, Hulu and Showtime. It is wifi enabled so internet browsing  is also an option.  There is an iron and iron board. Our guests also hav...  [big, bright, room, second, floor, newly, renovated, three, bedrooms, duplex, central, air, keeps, cool, summer, warm, winter, plenty, living, space, fully, equipped, kitchen, furnished, backyard, grill, see, guest, access, details, space, equipped, central, air, heat, fully, equipped, chef, kitchen, brand, new, appliances, including, dishwasher, see, guest, access, information, guest, full, access, chef, kitchen, equipped, brand, new, appliances, well, fully, furnished, backyard, charcoal, grill, room, smart, tv, hooked, netflix, hulu, showtime, wifi, enabled, internet, browsing, also, option, iron, iron, board, guests, also, access, living, areas, tea, room, comfortable, blue, leather, couch, brown, leather, butterfly, chair, sink, right, perfect, area, enjoy, nice, ...]   en  [big, bright, room, second, floor, newli, renov, three, bedroom, duplex, central, air, keep, cool, summer, warm, winter, plenti, live, space, fulli, equip, kitchen, furnish, backyard, grill, see, guest, access, detail, space, equip, central, air, heat, fulli, equip, chef, kitchen, brand, new, applianc, includ, dishwash, see, guest, access, inform, guest, full, access, chef, kitchen, equip, brand, new, applianc, well, fulli, furnish, backyard, charcoal, grill, room, smart, hook, netflix, hulu, showtim, wifi, enabl, internet, brows, also, option, iron, iron, board, guest, also, access, live, area, tea, room, comfort, blue, leather, couch, brown, leather, butterfli, chair, sink, right, perfect, area, enjoy, nice, convers, ...]\n",
       "90585   57.0                                                                                                                                                                                                                                                                                                                                                                                                Walkout apartment with keyless locks. Clean renovated basement with windows. All new furniture and appliances, new queen bed; high quality 100% cotton linens. Unlimited internet and easy access to TTC. Quiet residential neighbourhood with tree-lined streets and Victorian houses between Leslieville and the Danforth. Free parking either behind or close to the house. Parks, waterfront trail, and restaurants close by.                                                                                                                                                                                                                                                                                                                                                                                                                      [walkout, apartment, keyless, locks, clean, renovated, basement, windows, new, furniture, appliances, new, queen, bed, high, quality, cotton, linens, unlimited, internet, easy, access, ttc, quiet, residential, neighbourhood, tree, lined, streets, victorian, houses, leslieville, danforth, free, parking, either, behind, close, house, parks, waterfront, trail, restaurants, close]   en                                                                                                                                                                                                                                                                                                                                                                                                    [walkout, apart, keyless, lock, clean, renov, basement, window, new, furnitur, applianc, new, queen, bed, high, qualiti, cotton, linen, unlimit, internet, easi, access, ttc, quiet, residenti, neighbourhood, tree, line, street, victorian, hous, leslievill, danforth, free, park, either, behind, close, hous, park, waterfront, trail, restaur, close]\n",
       "72144  200.0                                                                                                                                                                                                                                                                                                                                                                                                                                                                                                                                                                                               This is a self contained apartment above my home.  A spacious and comfortable backyard space to relax in and easy access to the city.  Blocks from Frenchman Street and the quarter with walking access to the Bywater and Marigny                                                                                                                                                                                                                                                                                                                                                                                                                                                                                                                                                                                                                                     [self, contained, apartment, home, spacious, comfortable, backyard, space, relax, easy, access, city, blocks, frenchman, street, quarter, walking, access, bywater, marigny]   en                                                                                                                                                                                                                                                                                                                                                                                                                                                                                                                                                                                                   [self, contain, apart, home, spacious, comfort, backyard, space, relax, easi, access, citi, block, frenchman, street, quarter, walk, access, bywat, marigni]"
      ]
     },
     "execution_count": 22,
     "metadata": {},
     "output_type": "execute_result"
    }
   ],
   "source": [
    "eng_df.sample(3)"
   ]
  },
  {
   "cell_type": "markdown",
   "metadata": {},
   "source": [
    "Сравним качество модели для \"сырых\" текстов (столбец 'Description'), токенов без стоп-слов (столбец 'clean_description') и стемм (столбец 'stems')."
   ]
  },
  {
   "cell_type": "code",
   "execution_count": 23,
   "metadata": {},
   "outputs": [],
   "source": [
    "eng_df.dropna(subset=['Price', \"stems\"], inplace=True)\n",
    "\n",
    "Y = eng_df['Price']\n",
    "X_raw = eng_df['Description'].map(letters)\n",
    "X_tokens = eng_df['clean_description']\n",
    "X_stems = eng_df['stems']"
   ]
  },
  {
   "cell_type": "code",
   "execution_count": 24,
   "metadata": {},
   "outputs": [],
   "source": [
    "def convert_to_vw(raw_text, target):\n",
    "    return \"{} |d {}\".format(float(target), \" \".join(raw_text))"
   ]
  },
  {
   "cell_type": "code",
   "execution_count": 25,
   "metadata": {},
   "outputs": [],
   "source": [
    "def write_vw(X_data, Y_data, filename):\n",
    "    with open(filename, \"w\") as f:\n",
    "        for x, y in zip(X_data, Y_data):\n",
    "            vw_object = convert_to_vw(x, y)\n",
    "            if not vw_object:\n",
    "                continue\n",
    "            f.write(vw_object + '\\n')"
   ]
  },
  {
   "cell_type": "code",
   "execution_count": 26,
   "metadata": {},
   "outputs": [],
   "source": [
    "from sklearn.metrics import r2_score\n",
    "\n",
    "def read_target_from_vw(vw_object):\n",
    "    return float(vw_object.split(' ')[0])\n",
    "\n",
    "def calc_r2(predictions_path, answers_path):\n",
    "    with open(predictions_path, 'r') as f:\n",
    "        y_pred = np.array([float(value) for value in f.readlines()])\n",
    "        \n",
    "    with open(answers_path, 'r') as f:\n",
    "        y_expected = np.array([read_target_from_vw(value) for value in f.readlines()])\n",
    "        \n",
    "    return r2_score(y_expected, y_pred)"
   ]
  },
  {
   "cell_type": "code",
   "execution_count": 27,
   "metadata": {},
   "outputs": [],
   "source": [
    "from sklearn.model_selection import train_test_split"
   ]
  },
  {
   "cell_type": "code",
   "execution_count": 28,
   "metadata": {},
   "outputs": [],
   "source": [
    "X_train_raw, X_test_raw, y_train, y_test = train_test_split(X_raw, Y, test_size=0.33, random_state=4200)\n",
    "X_train_tokens, X_test_tokens, y_train, y_test = train_test_split(X_tokens, Y, test_size=0.33, random_state=4200)\n",
    "X_train_stems, X_test_stems, y_train, y_test = train_test_split(X_stems, Y, test_size=0.33, random_state=4200)"
   ]
  },
  {
   "cell_type": "code",
   "execution_count": 29,
   "metadata": {},
   "outputs": [],
   "source": [
    "write_vw(X_train_raw, y_train, \"airbnb-train-raw.vw\")\n",
    "write_vw(X_test_raw, y_test, \"airbnb-test-raw.vw\")\n",
    "\n",
    "write_vw(X_train_tokens, y_train, \"airbnb-train-tokens.vw\")\n",
    "write_vw(X_test_tokens, y_test, \"airbnb-test-tokens.vw\")\n",
    "\n",
    "write_vw(X_train_stems, y_train, \"airbnb-train-stems.vw\")\n",
    "write_vw(X_test_stems, y_test, \"airbnb-test-stems.vw\")"
   ]
  },
  {
   "cell_type": "code",
   "execution_count": 30,
   "metadata": {},
   "outputs": [
    {
     "name": "stdout",
     "output_type": "stream",
     "text": [
      "220.0 |d square feet high ceilings king bed completely renovated you won t find many bedroom apartments like this in the west village you re steps away from the meatpacking district high line and whitney museum when you walk outside and you can enjoy this luxurious clutter free airy home when you decide to stay in the apartment is newly renovated including the furniture and finishings some highlights include brand new samsung suhd tv with amazon fire tv high speed wifi kitchen sodastream bialetti espresso maker full set of pots pans bang and olufsen a bluetooth speaker luxurious king size leesa mattress as a guest you will have a key to the main entry of the building as well as the apartment which is a storey walk up aside from a few cupboards and areas of the closet where i will keep my belongings the rest of the apartment is yours to use there is plenty of storage space i will be around manhattan most of the time to help if needed i m always\n"
     ]
    }
   ],
   "source": [
    "! head -n 1 airbnb-train-raw.vw"
   ]
  },
  {
   "cell_type": "code",
   "execution_count": 31,
   "metadata": {},
   "outputs": [
    {
     "name": "stdout",
     "output_type": "stream",
     "text": [
      "220.0 |d square feet high ceilings king bed completely renovated find many bedroom apartments like west village steps away meatpacking district high line whitney museum walk outside enjoy luxurious clutter free airy home decide stay apartment newly renovated including furniture finishings highlights include brand new samsung suhd tv amazon fire tv high speed wifi kitchen sodastream bialetti espresso maker full set pots pans bang olufsen bluetooth speaker luxurious king size leesa mattress guest key main entry building well apartment storey walk aside cupboards areas closet keep belongings rest apartment use plenty storage space around manhattan time help needed always\n"
     ]
    }
   ],
   "source": [
    "! head -n 1 airbnb-train-tokens.vw"
   ]
  },
  {
   "cell_type": "code",
   "execution_count": 32,
   "metadata": {},
   "outputs": [
    {
     "name": "stdout",
     "output_type": "stream",
     "text": [
      "220.0 |d squar feet high ceil king bed complet renov find mani bedroom apart like west villag step away meatpack district high line whitney museum walk outsid enjoy luxuri clutter free airi home decid stay apart newli renov includ furnitur finish highlight includ brand new samsung suhd amazon fire high speed wifi kitchen sodastream bialetti espresso maker full set pot pan bang olufsen bluetooth speaker luxuri king size leesa mattress guest key main entri build well apart storey walk asid cupboard area closet keep belong rest apart use plenti storag space around manhattan time help need alway\n"
     ]
    }
   ],
   "source": [
    "! head -n 1 airbnb-train-stems.vw"
   ]
  },
  {
   "cell_type": "markdown",
   "metadata": {},
   "source": [
    "Теперь обучим модели на всех трех датасетах и сравним результаты:"
   ]
  },
  {
   "cell_type": "code",
   "execution_count": 33,
   "metadata": {},
   "outputs": [
    {
     "name": "stdout",
     "output_type": "stream",
     "text": [
      "final_regressor = airbnb-lin-model-raw.vw.bin\n",
      "Num weight bits = 18\n",
      "learning rate = 3\n",
      "initial_t = 0\n",
      "power_t = 0.5\n",
      "decay_learning_rate = 1\n",
      "creating cache_file = airbnb-train-raw.vw.cache\n",
      "Reading datafile = airbnb-train-raw.vw\n",
      "num sources = 1\n",
      "average  since         example        example  current  current  current\n",
      "loss     last          counter         weight    label  predict features\n",
      "48400.000000 48400.000000            1            1.0 220.0000   0.0000      174\n",
      "125191.367188 201982.734375            2            2.0 450.0000   0.5751        9\n",
      "72780.285416 20369.203644            4            4.0 240.0000  40.3795      170\n",
      "36699.550247 618.815079            8            8.0  40.0000  10.0007       33\n",
      "80979.453055 125259.355862           16           16.0 135.0000  52.5366      153\n",
      "51445.165040 21910.877026           32           32.0  79.0000  60.4543       71\n",
      "44872.192968 38299.220895           64           64.0 172.0000 166.1870      171\n",
      "36163.280758 27454.368548          128          128.0  65.0000  33.9273       42\n",
      "29430.978774 22698.676791          256          256.0 120.0000 132.1866      160\n",
      "27009.411727 24587.844680          512          512.0 140.0000 114.5668      136\n",
      "26157.172606 25304.933485         1024         1024.0  41.0000 181.6302      177\n",
      "24767.649306 23378.126007         2048         2048.0 175.0000 113.9204      112\n",
      "23926.146370 23084.643434         4096         4096.0  60.0000  48.5578       41\n",
      "22272.522878 20618.899386         8192         8192.0  40.0000  51.9910      167\n",
      "21183.510299 20094.497721        16384        16384.0  49.0000 112.2972      181\n",
      "20269.545940 19355.581580        32768        32768.0 175.0000  95.3994      157\n",
      "19309.958176 19309.958176        65536        65536.0  55.0000  72.5785       44 h\n",
      "18018.310408 16726.840016       131072       131072.0 160.0000 116.3228      180 h\n",
      "17098.330975 16178.288364       262144       262144.0  20.0000  14.1418      170 h\n",
      "16033.122059 14967.949715       524288       524288.0 265.0000 285.0038      134 h\n",
      "\n",
      "finished run\n",
      "number of examples per pass = 49088\n",
      "passes used = 20\n",
      "weighted example sum = 981760.000000\n",
      "weighted label sum = 140191080.000000\n",
      "average loss = 13790.891602 h\n",
      "best constant = 142.795670\n",
      "total feature number = 130858580\n",
      "CPU times: user 52.6 ms, sys: 51.9 ms, total: 105 ms\n",
      "Wall time: 6.15 s\n"
     ]
    }
   ],
   "source": [
    "%%time\n",
    "\n",
    "! vw --final_regressor airbnb-lin-model-raw.vw.bin airbnb-train-raw.vw --passes 20 -l 3 -c -k  --bit_precision 18"
   ]
  },
  {
   "cell_type": "code",
   "execution_count": 34,
   "metadata": {},
   "outputs": [
    {
     "name": "stdout",
     "output_type": "stream",
     "text": [
      "final_regressor = airbnb-lin-model-tokens.vw.bin\n",
      "Num weight bits = 18\n",
      "learning rate = 3\n",
      "initial_t = 0\n",
      "power_t = 0.5\n",
      "decay_learning_rate = 1\n",
      "creating cache_file = airbnb-train-tokens.vw.cache\n",
      "Reading datafile = airbnb-train-tokens.vw\n",
      "num sources = 1\n",
      "average  since         example        example  current  current  current\n",
      "loss     last          counter         weight    label  predict features\n",
      "48400.000000 48400.000000            1            1.0 220.0000   0.0000       98\n",
      "125101.125000 201802.250000            2            2.0 450.0000   0.7759        6\n",
      "75713.196960 26325.268921            4            4.0 240.0000  15.5428       96\n",
      "39055.715233 2398.233505            8            8.0  40.0000   4.1926       24\n",
      "84181.565842 129307.416451           16           16.0 135.0000  38.5242      127\n",
      "57145.070851 30108.575860           32           32.0  79.0000  30.2245       45\n",
      "54811.209314 52477.347777           64           64.0 172.0000  81.9622      104\n",
      "41783.796841 28756.384368          128          128.0  65.0000  41.5546       31\n",
      "32206.952396 22630.107951          256          256.0 120.0000  97.5507       90\n",
      "28405.867532 24604.782667          512          512.0 140.0000 130.8565       87\n",
      "26712.297400 25018.727268         1024         1024.0  41.0000 148.5133       94\n",
      "24892.385147 23072.472895         2048         2048.0 175.0000 105.7827       72\n",
      "23791.031771 22689.678394         4096         4096.0  60.0000  70.7680       28\n",
      "21922.574271 20054.116771         8192         8192.0  40.0000  84.7644      131\n",
      "20769.298366 19616.022461        16384        16384.0  49.0000  89.2095      108\n",
      "19830.739091 18892.179816        32768        32768.0 175.0000 149.2301      115\n",
      "18715.352112 18715.352112        65536        65536.0  55.0000  76.6390       25 h\n",
      "17353.741183 15992.317237       131072       131072.0 160.0000 120.0654       98 h\n",
      "16367.528342 15381.247775       262144       262144.0  20.0000  35.0104       89 h\n",
      "15289.196486 14210.901652       524288       524288.0 265.0000 279.6094       88 h\n",
      "\n",
      "finished run\n",
      "number of examples per pass = 49088\n",
      "passes used = 20\n",
      "weighted example sum = 981760.000000\n",
      "weighted label sum = 140191080.000000\n",
      "average loss = 13146.474609 h\n",
      "best constant = 142.795670\n",
      "total feature number = 78648380\n",
      "CPU times: user 36.1 ms, sys: 58.8 ms, total: 94.9 ms\n",
      "Wall time: 5.23 s\n"
     ]
    }
   ],
   "source": [
    "%%time\n",
    "\n",
    "! vw --final_regressor airbnb-lin-model-tokens.vw.bin airbnb-train-tokens.vw --passes 20 -l 3 -c -k --bit_precision 18"
   ]
  },
  {
   "cell_type": "code",
   "execution_count": 35,
   "metadata": {},
   "outputs": [
    {
     "name": "stdout",
     "output_type": "stream",
     "text": [
      "final_regressor = airbnb-lin-model-stems.vw.bin\n",
      "Num weight bits = 18\n",
      "learning rate = 3\n",
      "initial_t = 0\n",
      "power_t = 0.5\n",
      "decay_learning_rate = 1\n",
      "creating cache_file = airbnb-train-stems.vw.cache\n",
      "Reading datafile = airbnb-train-stems.vw\n",
      "num sources = 1\n",
      "average  since         example        example  current  current  current\n",
      "loss     last          counter         weight    label  predict features\n",
      "48400.000000 48400.000000            1            1.0 220.0000   0.0000       96\n",
      "125062.570312 201725.140625            2            2.0 450.0000   0.8618        5\n",
      "75542.389709 26022.209106            4            4.0 240.0000  16.8910       96\n",
      "38900.226391 2258.063072            8            8.0  40.0000   5.2025       23\n",
      "83627.623821 128355.021252           16           16.0 135.0000  47.9530      120\n",
      "56023.923013 28420.222205           32           32.0  79.0000  30.9137       44\n",
      "53072.210422 50120.497831           64           64.0 172.0000  88.2881      103\n",
      "40484.896336 27897.582250          128          128.0  65.0000  38.5670       28\n",
      "31141.432272 21797.968208          256          256.0 120.0000 102.2041       82\n",
      "27819.330673 24497.229074          512          512.0 140.0000 131.6759       86\n",
      "26286.851613 24754.372553         1024         1024.0  41.0000 150.5302       94\n",
      "24604.841417 22922.831222         2048         2048.0 175.0000 103.2615       72\n",
      "23615.043198 22625.244979         4096         4096.0  60.0000  68.9690       27\n",
      "21812.884788 20010.726379         8192         8192.0  40.0000  61.4536      107\n",
      "20714.658152 19616.431516        16384        16384.0  49.0000  89.6206       96\n",
      "19874.400805 19034.143458        32768        32768.0 175.0000 161.3479      106\n",
      "18935.747681 18935.747681        65536        65536.0  55.0000  74.2757       25 h\n",
      "17634.993758 16334.418461       131072       131072.0 160.0000 133.2667       98 h\n",
      "16693.788077 15752.517762       262144       262144.0  20.0000  63.8268       82 h\n",
      "15642.956341 14592.160684       524288       524288.0 265.0000 272.3499       88 h\n",
      "\n",
      "finished run\n",
      "number of examples per pass = 49088\n",
      "passes used = 20\n",
      "weighted example sum = 981760.000000\n",
      "weighted label sum = 140191080.000000\n",
      "average loss = 13491.899414 h\n",
      "best constant = 142.795670\n",
      "total feature number = 76377060\n",
      "CPU times: user 34.5 ms, sys: 59.1 ms, total: 93.6 ms\n",
      "Wall time: 4.98 s\n"
     ]
    }
   ],
   "source": [
    "%%time\n",
    "\n",
    "! vw --final_regressor airbnb-lin-model-stems.vw.bin airbnb-train-stems.vw --passes 20 -l 3 -c -k --bit_precision 18"
   ]
  },
  {
   "cell_type": "markdown",
   "metadata": {},
   "source": [
    "Первый вывод, который можно сделать - даже на таком не очень большом датасете предобработка ускоряет обучение модели, в данном случае - просто за счет уменьшения количества признаков.\n",
    "\n",
    "А что с качеством?"
   ]
  },
  {
   "cell_type": "code",
   "execution_count": 36,
   "metadata": {},
   "outputs": [
    {
     "name": "stdout",
     "output_type": "stream",
     "text": [
      "only testing\n",
      "predictions = airbnb-1-predictions-raw.txt\n",
      "Num weight bits = 18\n",
      "learning rate = 0.5\n",
      "initial_t = 0\n",
      "power_t = 0.5\n",
      "using no cache\n",
      "Reading datafile = airbnb-test-raw.vw\n",
      "num sources = 1\n",
      "average  since         example        example  current  current  current\n",
      "loss     last          counter         weight    label  predict features\n",
      "599.695374 599.695374            1            1.0  55.0000  79.4887       28\n",
      "305.984709 12.274044            2            2.0  36.0000  39.5034      186\n",
      "207.019877 108.055046            4            4.0  80.0000  67.7075       24\n",
      "4919.375420 9631.730963            8            8.0  70.0000  74.8798      175\n",
      "2999.275561 1079.175702           16           16.0 100.0000 142.4937      173\n",
      "12161.945164 21324.614767           32           32.0 150.0000 152.4244      185\n",
      "24285.223548 36408.501932           64           64.0 150.0000  82.4140       47\n",
      "19419.673518 14554.123487          128          128.0 300.0000 122.5763       28\n",
      "13868.897035 8318.120552          256          256.0  25.0000  21.0271      147\n",
      "16038.323552 18207.750068          512          512.0 123.0000 178.2943      173\n",
      "14046.004216 12053.684881         1024         1024.0  69.0000 203.1790      166\n",
      "14270.425229 14494.846243         2048         2048.0  32.0000 121.3692       91\n",
      "14662.748033 15055.070837         4096         4096.0 100.0000  60.5887       44\n",
      "14175.397575 13688.047117         8192         8192.0  97.0000 123.0738      160\n",
      "14445.556584 14715.715592        16384        16384.0 250.0000 271.1068      160\n",
      "\n",
      "finished run\n",
      "number of examples = 26864\n",
      "weighted example sum = 26864.000000\n",
      "weighted label sum = 3892096.000000\n",
      "average loss = 14434.283631\n",
      "best constant = 144.881470\n",
      "total feature number = 3558431\n"
     ]
    }
   ],
   "source": [
    "! vw --testonly --initial_regressor airbnb-lin-model-raw.vw.bin --predictions airbnb-1-predictions-raw.txt airbnb-test-raw.vw \n"
   ]
  },
  {
   "cell_type": "code",
   "execution_count": 37,
   "metadata": {},
   "outputs": [
    {
     "name": "stdout",
     "output_type": "stream",
     "text": [
      "only testing\n",
      "predictions = airbnb-1-predictions-tokens.txt\n",
      "Num weight bits = 18\n",
      "learning rate = 0.5\n",
      "initial_t = 0\n",
      "power_t = 0.5\n",
      "using no cache\n",
      "Reading datafile = airbnb-test-tokens.vw\n",
      "num sources = 1\n",
      "average  since         example        example  current  current  current\n",
      "loss     last          counter         weight    label  predict features\n",
      "852.703064 852.703064            1            1.0  55.0000  84.2011       19\n",
      "433.786043 14.869022            2            2.0  36.0000  39.8560       92\n",
      "280.920192 128.054341            4            4.0  80.0000  76.6952       17\n",
      "5309.742549 10338.564906            8            8.0  70.0000  73.2144       95\n",
      "3037.758406 765.774262           16           16.0 100.0000 129.0590      104\n",
      "11758.061741 20478.365077           32           32.0 150.0000 135.2268       99\n",
      "23336.385150 34914.708559           64           64.0 150.0000  91.4685       37\n",
      "18445.038022 13553.690894          128          128.0 300.0000 136.3479       19\n",
      "13362.039025 8279.040028          256          256.0  25.0000  38.0936       71\n",
      "15447.858215 17533.677406          512          512.0 123.0000 157.9051       97\n",
      "13446.027832 11444.197448         1024         1024.0  69.0000 189.2076      118\n",
      "13690.348370 13934.668908         2048         2048.0  32.0000 111.6208       53\n",
      "14002.189563 14314.030756         4096         4096.0 100.0000  64.1303       34\n",
      "13560.448047 13118.706531         8192         8192.0  97.0000 132.4784       99\n",
      "13815.656971 14070.865895        16384        16384.0 250.0000 271.5981      114\n",
      "\n",
      "finished run\n",
      "number of examples = 26864\n",
      "weighted example sum = 26864.000000\n",
      "weighted label sum = 3892096.000000\n",
      "average loss = 13840.316536\n",
      "best constant = 144.881470\n",
      "total feature number = 2139856\n"
     ]
    }
   ],
   "source": [
    "! vw --testonly --initial_regressor airbnb-lin-model-tokens.vw.bin --predictions airbnb-1-predictions-tokens.txt airbnb-test-tokens.vw\n"
   ]
  },
  {
   "cell_type": "code",
   "execution_count": 38,
   "metadata": {},
   "outputs": [
    {
     "name": "stdout",
     "output_type": "stream",
     "text": [
      "only testing\n",
      "predictions = airbnb-1-predictions-stems.txt\n",
      "Num weight bits = 18\n",
      "learning rate = 0.5\n",
      "initial_t = 0\n",
      "power_t = 0.5\n",
      "using no cache\n",
      "Reading datafile = airbnb-test-stems.vw\n",
      "num sources = 1\n",
      "average  since         example        example  current  current  current\n",
      "loss     last          counter         weight    label  predict features\n",
      "980.918945 980.918945            1            1.0  55.0000  86.3196       19\n",
      "565.562332 150.205719            2            2.0  36.0000  48.2558       88\n",
      "630.141131 694.719930            4            4.0  80.0000  76.4350       17\n",
      "5932.519242 11234.897353            8            8.0  70.0000  74.3693       90\n",
      "3213.406160 494.293078           16           16.0 100.0000 109.6876      103\n",
      "11970.408771 20727.411382           32           32.0 150.0000 140.3474       98\n",
      "22687.461167 33404.513562           64           64.0 150.0000  82.0521       35\n",
      "17803.776708 12920.092250          128          128.0 300.0000 138.9059       19\n",
      "13497.156398 9190.536089          256          256.0  25.0000  51.5872       70\n",
      "15775.919960 18054.683523          512          512.0 123.0000 161.5630       97\n",
      "13721.083129 11666.246298         1024         1024.0  69.0000 229.8521      113\n",
      "13904.255632 14087.428136         2048         2048.0  32.0000  78.2024       53\n",
      "14403.413421 14902.571210         4096         4096.0 100.0000  68.4833       31\n",
      "13929.103403 13454.793385         8192         8192.0  97.0000 124.5307       96\n",
      "14196.458223 14463.813043        16384        16384.0 250.0000 268.5868      109\n",
      "\n",
      "finished run\n",
      "number of examples = 26864\n",
      "weighted example sum = 26864.000000\n",
      "weighted label sum = 3892096.000000\n",
      "average loss = 14206.724685\n",
      "best constant = 144.881470\n",
      "total feature number = 2078457\n"
     ]
    }
   ],
   "source": [
    "! vw --testonly --initial_regressor airbnb-lin-model-stems.vw.bin --predictions airbnb-1-predictions-stems.txt airbnb-test-stems.vw\n"
   ]
  },
  {
   "cell_type": "code",
   "execution_count": 39,
   "metadata": {},
   "outputs": [
    {
     "name": "stdout",
     "output_type": "stream",
     "text": [
      "RAW\n",
      "0.34760673021608524\n"
     ]
    }
   ],
   "source": [
    "print(\"RAW\")\n",
    "print(calc_r2(\"airbnb-1-predictions-raw.txt\", \"airbnb-test-raw.vw\"))"
   ]
  },
  {
   "cell_type": "code",
   "execution_count": 40,
   "metadata": {},
   "outputs": [
    {
     "name": "stdout",
     "output_type": "stream",
     "text": [
      "TOKENS\n",
      "0.3744525473300868\n"
     ]
    }
   ],
   "source": [
    "print(\"TOKENS\")\n",
    "print(calc_r2(\"airbnb-1-predictions-tokens.txt\", \"airbnb-test-tokens.vw\"))"
   ]
  },
  {
   "cell_type": "code",
   "execution_count": 41,
   "metadata": {},
   "outputs": [
    {
     "name": "stdout",
     "output_type": "stream",
     "text": [
      "STEMS\n",
      "0.3578918225807295\n"
     ]
    }
   ],
   "source": [
    "print(\"STEMS\")\n",
    "print(calc_r2(\"airbnb-1-predictions-stems.txt\", \"airbnb-test-stems.vw\"))"
   ]
  },
  {
   "cell_type": "markdown",
   "metadata": {},
   "source": [
    "Модели на сырых текстах и стеммах чуть хуже, чем модель на токенах без стоп-слов.\n",
    "\n",
    "Как еще можно снизить числов признаков, оставив наиболее релевантные? Мы можем вычислить tf-idf веса для всех пар слово-документ в коллекции и оставить те слова, у которых веса больше некоторого порога."
   ]
  },
  {
   "cell_type": "code",
   "execution_count": 42,
   "metadata": {},
   "outputs": [],
   "source": [
    "from sklearn.feature_extraction.text import TfidfVectorizer"
   ]
  },
  {
   "cell_type": "code",
   "execution_count": 43,
   "metadata": {},
   "outputs": [
    {
     "data": {
      "text/plain": [
       "'hi everyone cosy bedroom in a modern apartment located in a central area paris th the apartment it s a bedrooms one is mine apartment of m sq ft fully renovated warm atmosphere a living room with a equiped kitchen wifi i provide towels and sheets central area cosmopolite non touristic very close to the marais bastille and republic transports metro walk saint ambroise line or richard lenoir line city bike station best j'"
      ]
     },
     "execution_count": 43,
     "metadata": {},
     "output_type": "execute_result"
    }
   ],
   "source": [
    "X_train = X_raw\n",
    "X_train.apply(lambda x: ' '.join(x))[0]"
   ]
  },
  {
   "cell_type": "code",
   "execution_count": 44,
   "metadata": {},
   "outputs": [],
   "source": [
    "x_train, x_test = X_train_stems.apply(lambda x: ' '.join(x)) , X_test_stems.apply(lambda x: ' '.join(x)) "
   ]
  },
  {
   "cell_type": "markdown",
   "metadata": {},
   "source": [
    "Вычисляем tf-idf преобразование: в результате получится разреженная матрица"
   ]
  },
  {
   "cell_type": "code",
   "execution_count": 45,
   "metadata": {},
   "outputs": [
    {
     "data": {
      "text/plain": [
       "<54542x44692 sparse matrix of type '<class 'numpy.float64'>'\n",
       "\twith 3326139 stored elements in Compressed Sparse Row format>"
      ]
     },
     "execution_count": 45,
     "metadata": {},
     "output_type": "execute_result"
    }
   ],
   "source": [
    "vec = TfidfVectorizer(ngram_range=(1, 1))\n",
    "x_train_tfidf = vec.fit_transform(x_train)\n",
    "\n",
    "x_train_tfidf"
   ]
  },
  {
   "cell_type": "markdown",
   "metadata": {},
   "source": [
    "Сделаем из этой матрицы список, в котором каждый элемент - это пара (w, tfidf(w, d , D)), где w - слово в документе d и коллекции документов D."
   ]
  },
  {
   "cell_type": "code",
   "execution_count": 46,
   "metadata": {},
   "outputs": [],
   "source": [
    "index_value={i[1]:i[0] for i in vec.vocabulary_.items()}\n",
    "\n",
    "fully_indexed = []\n",
    "for row in x_train_tfidf:\n",
    "    fully_indexed.append({index_value[column]:value for (column,value) in zip(row.indices,row.data)})"
   ]
  },
  {
   "cell_type": "markdown",
   "metadata": {},
   "source": [
    "Посмотрим, например, на все слова с tf-idf >= 0.1 "
   ]
  },
  {
   "cell_type": "code",
   "execution_count": 47,
   "metadata": {},
   "outputs": [
    {
     "data": {
      "text/plain": [
       "[('doubl', 0.2580593795785133),\n",
       " ('split', 0.24115506933644754),\n",
       " ('neff', 0.2022642917696268),\n",
       " ('larg', 0.1962100846501572),\n",
       " ('origin', 0.18475126372913314),\n",
       " ('storag', 0.18029147151524685),\n",
       " ('level', 0.17138729784739948),\n",
       " ('slate', 0.16540308912231033),\n",
       " ('costa', 0.16540308912231033),\n",
       " ('side', 0.15770388173708214),\n",
       " ('finsburi', 0.1478633566100029),\n",
       " ('ceil', 0.14407523335957956),\n",
       " ('rais', 0.14128854967409324),\n",
       " ('front', 0.13858454237819792),\n",
       " ('place', 0.13625522822264793),\n",
       " ('form', 0.12490200014466063),\n",
       " ('convers', 0.12452005863135523),\n",
       " ('power', 0.12396028773002239),\n",
       " ('railway', 0.12042232913462157),\n",
       " ('chest', 0.11927026423601682),\n",
       " ('compris', 0.11767866051622303),\n",
       " ('benefit', 0.11727743203760296),\n",
       " ('shower', 0.11650003976394883),\n",
       " ('field', 0.11459355750386695),\n",
       " ('cupboard', 0.11364892399903367),\n",
       " ('follow', 0.11321064888943784),\n",
       " ('cooker', 0.11292363409760428),\n",
       " ('flat', 0.11097829368394094),\n",
       " ('hallway', 0.11085913741963234),\n",
       " ('leafi', 0.10875189729225716),\n",
       " ('tile', 0.10676385837022309),\n",
       " ('reserv', 0.10519524638399128),\n",
       " ('bedroom', 0.10358345093142488),\n",
       " ('height', 0.10346901703214516),\n",
       " ('either', 0.1021277741002781),\n",
       " ('drawer', 0.10183679325788668)]"
      ]
     },
     "execution_count": 47,
     "metadata": {},
     "output_type": "execute_result"
    }
   ],
   "source": [
    "tr = 0.1\n",
    "\n",
    "[ (k, v ) for k, v in sorted(fully_indexed[4].items(), key=lambda item: -item[1]) if v >= tr]"
   ]
  },
  {
   "cell_type": "markdown",
   "metadata": {},
   "source": [
    "Попробуем в каждом документе оставлять топ-20 самых важных (с выскоим tf-idf) слов:"
   ]
  },
  {
   "cell_type": "code",
   "execution_count": 48,
   "metadata": {},
   "outputs": [],
   "source": [
    "def important_words(x, n=20):\n",
    "    return [(k.replace(' ', '_'), v) for k, v in sorted(x.items(), key=lambda item: -item[1]) if v >= tr][:n]"
   ]
  },
  {
   "cell_type": "code",
   "execution_count": 49,
   "metadata": {},
   "outputs": [],
   "source": [
    "def convert_to_vw_tf(raw_text, target):\n",
    "    return \"{} |d {}\".format(float(target), \" \".join([\"{}:{}\".format(k, v) for k, v in raw_text]))\n",
    "\n",
    "def write_vw_tf(X_data, Y_data, filename):\n",
    "    with open(filename, \"w\") as f:\n",
    "        for x, y in zip(X_data, Y_data):\n",
    "            vw_object = convert_to_vw_tf(x, y)\n",
    "            if not vw_object:\n",
    "                continue\n",
    "            f.write(vw_object + '\\n')"
   ]
  },
  {
   "cell_type": "code",
   "execution_count": 50,
   "metadata": {},
   "outputs": [
    {
     "data": {
      "text/plain": [
       "54542"
      ]
     },
     "execution_count": 50,
     "metadata": {},
     "output_type": "execute_result"
    }
   ],
   "source": [
    "x_train_updated = [important_words(x) for x in fully_indexed]\n",
    "len(x_train_updated)"
   ]
  },
  {
   "cell_type": "code",
   "execution_count": 51,
   "metadata": {},
   "outputs": [
    {
     "data": {
      "text/plain": [
       "[('suhd', 0.22702091541382582),\n",
       " ('leesa', 0.2092237299910606),\n",
       " ('olufsen', 0.20394496122668826),\n",
       " ('bialetti', 0.20394496122668826),\n",
       " ('sodastream', 0.19972994577223743),\n",
       " ('high', 0.19182189013874973),\n",
       " ('whitney', 0.18010511781362673),\n",
       " ('bang', 0.173690686601339),\n",
       " ('clutter', 0.16209468549638292),\n",
       " ('luxuri', 0.1596956274846224),\n",
       " ('asid', 0.1577930528524131),\n",
       " ('king', 0.15471383698293836),\n",
       " ('meatpack', 0.1502494251422974),\n",
       " ('samsung', 0.14901867589237205),\n",
       " ('apart', 0.14825207040563462),\n",
       " ('bluetooth', 0.1472195142269145),\n",
       " ('decid', 0.13671041244968138),\n",
       " ('renov', 0.13544658673657073),\n",
       " ('amazon', 0.1284808481645425),\n",
       " ('speaker', 0.12747745077125505)]"
      ]
     },
     "execution_count": 51,
     "metadata": {},
     "output_type": "execute_result"
    }
   ],
   "source": [
    "x_train_updated[0]"
   ]
  },
  {
   "cell_type": "code",
   "execution_count": 52,
   "metadata": {},
   "outputs": [],
   "source": [
    "write_vw_tf(x_train_updated, y_train, \"airbnb-train-important-stems.vw\")"
   ]
  },
  {
   "cell_type": "code",
   "execution_count": 53,
   "metadata": {},
   "outputs": [
    {
     "name": "stdout",
     "output_type": "stream",
     "text": [
      "220.0 |d suhd:0.22702091541382582 leesa:0.2092237299910606 olufsen:0.20394496122668826 bialetti:0.20394496122668826 sodastream:0.19972994577223743 high:0.19182189013874973 whitney:0.18010511781362673 bang:0.173690686601339 clutter:0.16209468549638292 luxuri:0.1596956274846224 asid:0.1577930528524131 king:0.15471383698293836 meatpack:0.1502494251422974 samsung:0.14901867589237205 apart:0.14825207040563462 bluetooth:0.1472195142269145 decid:0.13671041244968138 renov:0.13544658673657073 amazon:0.1284808481645425 speaker:0.12747745077125505\n",
      "450.0 |d gym:0.6752280868300573 amaz:0.5857861817339045 floor:0.34873046248046086 apart:0.2816179052965157\n",
      "50.0 |d inst:0.3303694220060813 middl:0.2169097540580892 neiu:0.17606802050466333 argosi:0.17606802050466333 kendal:0.16518471100304066 depaul:0.16518471100304066 rican:0.16168106790911377 student:0.1615717403334601 intern:0.15009980649780472 peruvian:0.14667829926165915 dominican:0.14551470800700664 uic:0.14551470800700664 cultur:0.1437913480248785 illinoi:0.14341809199979533 went:0.14156874561703497 morri:0.14071982013702106 metra:0.13303327822854855 hour:0.13060802748972966 clinic:0.1298365106353984 educ:0.12826507056319245\n"
     ]
    }
   ],
   "source": [
    "! head -n 3 airbnb-train-important-stems.vw"
   ]
  },
  {
   "cell_type": "code",
   "execution_count": 54,
   "metadata": {},
   "outputs": [
    {
     "name": "stdout",
     "output_type": "stream",
     "text": [
      "final_regressor = airbnb-lin-model-tfidf.vw.bin\n",
      "Num weight bits = 18\n",
      "learning rate = 3\n",
      "initial_t = 0\n",
      "power_t = 0.5\n",
      "decay_learning_rate = 1\n",
      "creating cache_file = airbnb-train-important-stems.vw.cache\n",
      "Reading datafile = airbnb-train-important-stems.vw\n",
      "num sources = 1\n",
      "average  since         example        example  current  current  current\n",
      "loss     last          counter         weight    label  predict features\n",
      "48400.000000 48400.000000            1            1.0 220.0000   0.0000       21\n",
      "124623.609375 200847.218750            2            2.0 450.0000   1.8402        5\n",
      "76784.553589 28945.497803            4            4.0 240.0000   4.3585       21\n",
      "40157.342880 3530.132172            8            8.0  40.0000   2.2763       16\n",
      "87028.076649 133898.810417           16           16.0 135.0000   3.5806       21\n",
      "63429.498878 39830.921108           32           32.0  79.0000   8.8392       21\n",
      "65524.439860 67619.380842           64           64.0 172.0000  12.7161       21\n",
      "53577.385478 41630.331096          128          128.0  65.0000  20.0344       21\n",
      "45408.913976 37240.442473          256          256.0 120.0000  29.0245       21\n",
      "39756.700447 34104.486917          512          512.0 140.0000  36.5443       21\n",
      "36713.476770 33670.253093         1024         1024.0  41.0000  43.7264       21\n",
      "32650.563382 28587.649995         2048         2048.0 175.0000  68.8893       21\n",
      "29693.292615 26736.021847         4096         4096.0  60.0000 115.0713       21\n",
      "25750.704347 21808.116079         8192         8192.0  40.0000  77.9900       21\n",
      "23414.683593 21078.662839        16384        16384.0  49.0000 107.1002       21\n",
      "21881.087141 20347.490690        32768        32768.0 175.0000 125.2181       21\n",
      "20409.357664 20409.357664        65536        65536.0  55.0000 144.7415       21 h\n",
      "18854.248650 17299.353191       131072       131072.0 160.0000 136.1518       21 h\n",
      "17825.831186 16797.343100       262144       262144.0  20.0000  83.5044       21 h\n",
      "16640.043855 15454.297236       524288       524288.0 265.0000 223.5212       21 h\n",
      "\n",
      "finished run\n",
      "number of examples per pass = 49088\n",
      "passes used = 15\n",
      "weighted example sum = 736320.000000\n",
      "weighted label sum = 105143310.000000\n",
      "average loss = 14646.364258 h\n",
      "best constant = 142.795670\n",
      "total feature number = 14926425\n",
      "CPU times: user 49.8 ms, sys: 47.5 ms, total: 97.3 ms\n",
      "Wall time: 3.67 s\n"
     ]
    }
   ],
   "source": [
    "%%time\n",
    "\n",
    "! vw --final_regressor airbnb-lin-model-tfidf.vw.bin airbnb-train-important-stems.vw --passes 15 -l 3 -c --bit_precision 18 -k"
   ]
  },
  {
   "cell_type": "markdown",
   "metadata": {},
   "source": [
    "Пока самое быстрое обучение модели (в предыдущие разы требовалось около 2.5-3.0 секунд). Можно попробовать обучать дольше, чтобы получить лучшее качество. Поднимем количество проходов по данным и посмотрим, какое качество сможем получить за то же время обучения."
   ]
  },
  {
   "cell_type": "code",
   "execution_count": 55,
   "metadata": {},
   "outputs": [
    {
     "name": "stdout",
     "output_type": "stream",
     "text": [
      "final_regressor = airbnb-lin-model-tfidf.vw.bin\n",
      "Num weight bits = 18\n",
      "learning rate = 3\n",
      "initial_t = 0\n",
      "power_t = 0.5\n",
      "decay_learning_rate = 1\n",
      "creating cache_file = airbnb-train-important-stems.vw.cache\n",
      "Reading datafile = airbnb-train-important-stems.vw\n",
      "num sources = 1\n",
      "average  since         example        example  current  current  current\n",
      "loss     last          counter         weight    label  predict features\n",
      "48400.000000 48400.000000            1            1.0 220.0000   0.0000       21\n",
      "124623.609375 200847.218750            2            2.0 450.0000   1.8402        5\n",
      "76784.553589 28945.497803            4            4.0 240.0000   4.3585       21\n",
      "40157.342880 3530.132172            8            8.0  40.0000   2.2763       16\n",
      "87028.076649 133898.810417           16           16.0 135.0000   3.5806       21\n",
      "63429.498878 39830.921108           32           32.0  79.0000   8.8392       21\n",
      "65524.439860 67619.380842           64           64.0 172.0000  12.7161       21\n",
      "53577.385478 41630.331096          128          128.0  65.0000  20.0344       21\n",
      "45408.913976 37240.442473          256          256.0 120.0000  29.0245       21\n",
      "39756.700447 34104.486917          512          512.0 140.0000  36.5443       21\n",
      "36713.476770 33670.253093         1024         1024.0  41.0000  43.7264       21\n",
      "32650.563382 28587.649995         2048         2048.0 175.0000  68.8893       21\n",
      "29693.292615 26736.021847         4096         4096.0  60.0000 115.0713       21\n",
      "25750.704347 21808.116079         8192         8192.0  40.0000  77.9900       21\n",
      "23414.683593 21078.662839        16384        16384.0  49.0000 107.1002       21\n",
      "21881.087141 20347.490690        32768        32768.0 175.0000 125.2181       21\n",
      "20409.357664 20409.357664        65536        65536.0  55.0000 144.7415       21 h\n",
      "18854.248650 17299.353191       131072       131072.0 160.0000 136.1518       21 h\n",
      "17825.831186 16797.343100       262144       262144.0  20.0000  83.5044       21 h\n",
      "16640.043855 15454.297236       524288       524288.0 265.0000 223.5212       21 h\n",
      "15608.329267 14576.632390      1048576      1048576.0 319.0000 247.6100       21 h\n",
      "\n",
      "finished run\n",
      "number of examples per pass = 49088\n",
      "passes used = 35\n",
      "weighted example sum = 1718080.000000\n",
      "weighted label sum = 245334390.000000\n",
      "average loss = 13604.326172 h\n",
      "best constant = 142.795670\n",
      "total feature number = 34828325\n",
      "CPU times: user 75 ms, sys: 57.9 ms, total: 133 ms\n",
      "Wall time: 6.25 s\n"
     ]
    }
   ],
   "source": [
    "%%time\n",
    "\n",
    "! vw --final_regressor airbnb-lin-model-tfidf.vw.bin airbnb-train-important-stems.vw --passes 35 -l 3 -c --bit_precision 18 -k"
   ]
  },
  {
   "cell_type": "code",
   "execution_count": 56,
   "metadata": {},
   "outputs": [],
   "source": [
    "x_test_tfidf = vec.transform(x_test)\n",
    "\n",
    "fully_indexed_test = []\n",
    "for row in x_test_tfidf:\n",
    "    fully_indexed_test.append({index_value[column]:value for (column,value) in zip(row.indices,row.data)})"
   ]
  },
  {
   "cell_type": "code",
   "execution_count": 57,
   "metadata": {},
   "outputs": [],
   "source": [
    "x_test_updated = [important_words(x) for x in fully_indexed_test]\n",
    "write_vw_tf(x_test_updated, y_test, \"airbnb-test-important-stems.vw\")"
   ]
  },
  {
   "cell_type": "code",
   "execution_count": 58,
   "metadata": {},
   "outputs": [
    {
     "name": "stdout",
     "output_type": "stream",
     "text": [
      "only testing\n",
      "predictions = airbnb-1-predictions-stems.txt\n",
      "Num weight bits = 18\n",
      "learning rate = 0.5\n",
      "initial_t = 0\n",
      "power_t = 0.5\n",
      "using no cache\n",
      "Reading datafile = airbnb-test-important-stems.vw\n",
      "num sources = 1\n",
      "average  since         example        example  current  current  current\n",
      "loss     last          counter         weight    label  predict features\n",
      "5731.760254 5731.760254            1            1.0  55.0000 130.7084       19\n",
      "4014.961792 2298.163330            2            2.0  36.0000  83.9392       21\n",
      "4030.666748 4046.371704            4            4.0  80.0000 121.7081       12\n",
      "7675.492446 11320.318143            8            8.0  70.0000 108.3420       21\n",
      "4766.873722 1858.254999           16           16.0 100.0000 153.5942       21\n",
      "11999.351437 19231.829151           32           32.0 150.0000 145.4472       21\n",
      "26360.865262 40722.379086           64           64.0 150.0000 175.8636       21\n",
      "20796.356198 15231.847134          128          128.0 300.0000 284.8787       18\n",
      "14396.380975 7996.405751          256          256.0  25.0000  83.3151       21\n",
      "16542.701978 18689.022981          512          512.0 123.0000 150.4451       21\n",
      "14767.117327 12991.532676         1024         1024.0  69.0000 139.6579       21\n",
      "14500.237979 14233.358632         2048         2048.0  32.0000 104.5662       21\n",
      "14786.531779 15072.825579         4096         4096.0 100.0000 101.5710       21\n",
      "14123.142080 13459.752381         8192         8192.0  97.0000 140.5683       21\n",
      "14179.047011 14234.951942        16384        16384.0 250.0000 212.8954       21\n",
      "\n",
      "finished run\n",
      "number of examples = 26864\n",
      "weighted example sum = 26864.000000\n",
      "weighted label sum = 3892096.000000\n",
      "average loss = 14303.847951\n",
      "best constant = 144.881470\n",
      "total feature number = 545038\n"
     ]
    }
   ],
   "source": [
    "! vw --testonly --initial_regressor airbnb-lin-model-tfidf.vw.bin --predictions airbnb-1-predictions-stems.txt airbnb-test-important-stems.vw"
   ]
  },
  {
   "cell_type": "code",
   "execution_count": 59,
   "metadata": {},
   "outputs": [
    {
     "name": "stdout",
     "output_type": "stream",
     "text": [
      "TF-IDF\n",
      "0.3535020945957654\n"
     ]
    }
   ],
   "source": [
    "print(\"TF-IDF\")\n",
    "print(calc_r2(\"airbnb-1-predictions-stems.txt\", \"airbnb-test-important-stems.vw\"))"
   ]
  },
  {
   "cell_type": "markdown",
   "metadata": {},
   "source": [
    "Видно, что качество сопоставимо с предыдущими запусками и лучше, чем в оригинальной модели, при этом сильно сжали данные - оставили всего по 20 слов в каждом тексте.\n",
    "\n",
    "Конечно, различия о времени вычислений очень небольшие, и счет идет на секунды, однако, в реальной жизни масштаб будет значительно больше, и это будут часы или даже дни. Ожидается, что эффект от примененных приемов будет пропорциональным на реальных данных."
   ]
  },
  {
   "cell_type": "markdown",
   "metadata": {},
   "source": [
    "# Запускаем на кластере"
   ]
  },
  {
   "cell_type": "code",
   "execution_count": 60,
   "metadata": {},
   "outputs": [],
   "source": [
    "import pyspark\n",
    "from pyspark.sql import SparkSession\n",
    "\n",
    "conf = (\n",
    "    pyspark.SparkConf()\n",
    "    .setAppName(\"CourseraLocalSpark\")\n",
    "    .setMaster(\"local[*]\")\n",
    ")\n",
    "\n",
    "sc = pyspark.SparkContext.getOrCreate(conf)\n",
    "spark = SparkSession.builder.appName('NLP-examples').getOrCreate()\n",
    "\n",
    "airbnb = spark.read.option(\"header\",True).option(\"parserLib\", \"univocity\")\\\n",
    "    .option(\"delimiter\", \"\\t\") \\\n",
    "    .csv('airbnb-100k.tsv')"
   ]
  },
  {
   "cell_type": "code",
   "execution_count": 61,
   "metadata": {},
   "outputs": [
    {
     "name": "stdout",
     "output_type": "stream",
     "text": [
      "root\n",
      " |-- Price: string (nullable = true)\n",
      " |-- Description: string (nullable = true)\n",
      "\n"
     ]
    }
   ],
   "source": [
    "airbnb.printSchema()"
   ]
  },
  {
   "cell_type": "code",
   "execution_count": 62,
   "metadata": {},
   "outputs": [],
   "source": [
    "def all_preprocess(row):\n",
    "    Y = row.Price\n",
    "    X_raw = row.Description\n",
    "    X_processed = stemm_description(preprocess(X_raw))\n",
    "    return (Y, X_processed)"
   ]
  },
  {
   "cell_type": "code",
   "execution_count": 63,
   "metadata": {},
   "outputs": [],
   "source": [
    "def convert_to_vw_spark(data):\n",
    "    target, text = data\n",
    "    return convert_to_vw(text, target)"
   ]
  },
  {
   "cell_type": "code",
   "execution_count": 64,
   "metadata": {},
   "outputs": [],
   "source": [
    "X_rdd = (\n",
    "    airbnb.rdd\n",
    "    .filter(lambda x: bool(x.Price) and bool(x.Description))\n",
    "    .filter(lambda x: detect_lang(x.Description)=='en')\n",
    "    .map(all_preprocess)\n",
    "    .cache()\n",
    ")"
   ]
  },
  {
   "cell_type": "code",
   "execution_count": 66,
   "metadata": {},
   "outputs": [
    {
     "name": "stdout",
     "output_type": "stream",
     "text": [
      "CPU times: user 3.3 ms, sys: 589 µs, total: 3.89 ms\n",
      "Wall time: 98.8 ms\n"
     ]
    },
    {
     "data": {
      "text/plain": [
       "[('50.0',\n",
       "  ['everyon',\n",
       "   'cosi',\n",
       "   'bedroom',\n",
       "   'modern',\n",
       "   'apart',\n",
       "   'locat',\n",
       "   'central',\n",
       "   'area',\n",
       "   'pari',\n",
       "   'apart',\n",
       "   'bedroom',\n",
       "   'one',\n",
       "   'mine',\n",
       "   'apart',\n",
       "   'fulli',\n",
       "   'renov',\n",
       "   'warm',\n",
       "   'atmospher',\n",
       "   'live',\n",
       "   'room',\n",
       "   'equip',\n",
       "   'kitchen',\n",
       "   'wifi',\n",
       "   'provid',\n",
       "   'towel',\n",
       "   'sheet',\n",
       "   'central',\n",
       "   'area',\n",
       "   'cosmopolit',\n",
       "   'non',\n",
       "   'tourist',\n",
       "   'close',\n",
       "   'marai',\n",
       "   'bastill',\n",
       "   'republ',\n",
       "   'transport',\n",
       "   'metro',\n",
       "   'walk',\n",
       "   'saint',\n",
       "   'ambrois',\n",
       "   'line',\n",
       "   'richard',\n",
       "   'lenoir',\n",
       "   'line',\n",
       "   'citi',\n",
       "   'bike',\n",
       "   'station',\n",
       "   'best']),\n",
       " ('125.0',\n",
       "  ['comfort',\n",
       "   'calm',\n",
       "   'apart',\n",
       "   'room',\n",
       "   'center',\n",
       "   'pari',\n",
       "   'bastill',\n",
       "   'area',\n",
       "   'welcom',\n",
       "   'explain',\n",
       "   'live',\n",
       "   'area',\n",
       "   'bakeri',\n",
       "   'market',\n",
       "   'restaur',\n",
       "   'bar',\n",
       "   'live',\n",
       "   'build',\n",
       "   'close',\n",
       "   'public',\n",
       "   'transport',\n",
       "   'metro',\n",
       "   'ledru',\n",
       "   'rollin',\n",
       "   'charonn',\n",
       "   'bastill',\n",
       "   'gare',\n",
       "   'lyon',\n",
       "   'bus',\n",
       "   'germain',\n",
       "   'louvr',\n",
       "   'gare',\n",
       "   'austerlitz',\n",
       "   'gare',\n",
       "   'nord',\n",
       "   'live',\n",
       "   'room',\n",
       "   'bedroom',\n",
       "   'kitchen',\n",
       "   'bathroom',\n",
       "   'sleep',\n",
       "   'person',\n",
       "   'doubl',\n",
       "   'bed',\n",
       "   'sofa',\n",
       "   'bed',\n",
       "   'also',\n",
       "   'divid',\n",
       "   'separ',\n",
       "   'part',\n",
       "   'quiet',\n",
       "   'apart',\n",
       "   'direct',\n",
       "   'opposit',\n",
       "   'love',\n",
       "   'park',\n",
       "   'central',\n",
       "   'locat',\n",
       "   'live',\n",
       "   'restaur',\n",
       "   'cafe',\n",
       "   'fruit',\n",
       "   'market',\n",
       "   'live',\n",
       "   'build',\n",
       "   'love',\n",
       "   'area',\n",
       "   'nice',\n",
       "   'vie',\n",
       "   'quartier',\n",
       "   'market',\n",
       "   'bakeri',\n",
       "   'apart',\n",
       "   'equip',\n",
       "   'fulli',\n",
       "   'equip',\n",
       "   'kitchen',\n",
       "   'refriger',\n",
       "   'freezer',\n",
       "   'toaster',\n",
       "   'kettl',\n",
       "   'microwav',\n",
       "   'induct',\n",
       "   'hob',\n",
       "   'dishwash',\n",
       "   'wash',\n",
       "   'machin',\n",
       "   'coffe',\n",
       "   'maker',\n",
       "   'sheet',\n",
       "   'towel',\n",
       "   'linen',\n",
       "   'provid',\n",
       "   'broadband',\n",
       "   'internet',\n",
       "   'adsl']),\n",
       " ('59.0',\n",
       "  ['minut',\n",
       "   'walk',\n",
       "   'publiqu',\n",
       "   'oberkampf',\n",
       "   'nilmont',\n",
       "   'lachais',\n",
       "   'rent',\n",
       "   'flat',\n",
       "   'includ',\n",
       "   'shower',\n",
       "   'room',\n",
       "   'toilet',\n",
       "   'equip',\n",
       "   'kitchen',\n",
       "   'coffe',\n",
       "   'machin',\n",
       "   'box',\n",
       "   'dvd',\n",
       "   'tabl',\n",
       "   'internet',\n",
       "   'access',\n",
       "   'easi',\n",
       "   'disneyland',\n",
       "   'rent',\n",
       "   'littl',\n",
       "   'full',\n",
       "   'equip',\n",
       "   'flat',\n",
       "   'right',\n",
       "   'near',\n",
       "   'publiqu',\n",
       "   'avenu',\n",
       "   'minut',\n",
       "   'walk',\n",
       "   'publiqu',\n",
       "   'oberkampf',\n",
       "   'lachais',\n",
       "   'bastill',\n",
       "   'marai',\n",
       "   'right',\n",
       "   'near',\n",
       "   'metro',\n",
       "   'line',\n",
       "   'walk',\n",
       "   'minut',\n",
       "   'find',\n",
       "   'supermarket',\n",
       "   'coffe',\n",
       "   'mani',\n",
       "   'restaur',\n",
       "   'bakeri',\n",
       "   'hair',\n",
       "   'cutter',\n",
       "   'need',\n",
       "   'studio',\n",
       "   'small',\n",
       "   'kitchen',\n",
       "   'bathroom',\n",
       "   'toilet',\n",
       "   'cabl',\n",
       "   'free',\n",
       "   'wifi',\n",
       "   'access',\n",
       "   'studio',\n",
       "   'minut',\n",
       "   'station',\n",
       "   'saint',\n",
       "   'maur',\n",
       "   'minut',\n",
       "   'supermarket',\n",
       "   'near',\n",
       "   'close',\n",
       "   'line',\n",
       "   'district',\n",
       "   'anim',\n",
       "   'famous',\n",
       "   'oberkampf',\n",
       "   'saint',\n",
       "   'maur',\n",
       "   'street',\n",
       "   'minut',\n",
       "   'walk',\n",
       "   'republiqu',\n",
       "   'minut',\n",
       "   'acc',\n",
       "   'des',\n",
       "   'voyageur',\n",
       "   'les',\n",
       "   'locatair',\n",
       "   'ont',\n",
       "   'acc',\n",
       "   'tou']),\n",
       " ('50.0',\n",
       "  ['come',\n",
       "   'stay',\n",
       "   'littl',\n",
       "   'nest',\n",
       "   'quiet',\n",
       "   'peac',\n",
       "   'place',\n",
       "   'near',\n",
       "   'everyth',\n",
       "   'downstair',\n",
       "   'enjoy',\n",
       "   'pari',\n",
       "   'afford',\n",
       "   'love',\n",
       "   'walk',\n",
       "   'picnic',\n",
       "   'canal',\n",
       "   'run',\n",
       "   'les',\n",
       "   'butt',\n",
       "   'chaumont',\n",
       "   'enjoy',\n",
       "   'perfect',\n",
       "   'meal',\n",
       "   'one',\n",
       "   'amaz',\n",
       "   'restaur',\n",
       "   'nextdoor',\n",
       "   'subway',\n",
       "   'minut',\n",
       "   'walk',\n",
       "   'find',\n",
       "   'groceri',\n",
       "   'everyth',\n",
       "   'need',\n",
       "   'close',\n",
       "   'locat',\n",
       "   'perfect',\n",
       "   'hope',\n",
       "   'enjoy',\n",
       "   'much',\n",
       "   'apart',\n",
       "   'one',\n",
       "   'real',\n",
       "   'bedroom',\n",
       "   'heart',\n",
       "   'pari',\n",
       "   'near',\n",
       "   'canal',\n",
       "   'saint',\n",
       "   'martin',\n",
       "   'minut',\n",
       "   'walk',\n",
       "   'subway',\n",
       "   'publiqu',\n",
       "   'line',\n",
       "   'quiet',\n",
       "   'courtyard',\n",
       "   'sunni',\n",
       "   'awesom',\n",
       "   'view',\n",
       "   'squar',\n",
       "   'meter',\n",
       "   'realli',\n",
       "   'nice',\n",
       "   'pari',\n",
       "   'floor',\n",
       "   'elev',\n",
       "   'locat',\n",
       "   'minut',\n",
       "   'walk',\n",
       "   'famous',\n",
       "   'canal',\n",
       "   'saint',\n",
       "   'martin',\n",
       "   'beauti',\n",
       "   'walk',\n",
       "   'minut',\n",
       "   'reach',\n",
       "   'famous',\n",
       "   'neighborhood',\n",
       "   'marai',\n",
       "   'lot',\n",
       "   'shop',\n",
       "   'best',\n",
       "   'falafel',\n",
       "   'notr',\n",
       "   'dame']),\n",
       " ('85.0',\n",
       "  ['room',\n",
       "   'appart',\n",
       "   'bastill',\n",
       "   'marai',\n",
       "   'canal',\n",
       "   'saint',\n",
       "   'martin',\n",
       "   'fulli',\n",
       "   'furnish',\n",
       "   'decor',\n",
       "   'accomod',\n",
       "   'peopl',\n",
       "   'comfort',\n",
       "   'close',\n",
       "   'metro',\n",
       "   'line',\n",
       "   'sever',\n",
       "   'buse',\n",
       "   'reach',\n",
       "   'major',\n",
       "   'area',\n",
       "   'pari',\n",
       "   'walk',\n",
       "   'transport',\n",
       "   'hart',\n",
       "   'bastill',\n",
       "   'area',\n",
       "   'modern',\n",
       "   'squar',\n",
       "   'meter',\n",
       "   'flat',\n",
       "   'fulli',\n",
       "   'furnish',\n",
       "   'decor',\n",
       "   'larg',\n",
       "   'live',\n",
       "   'room',\n",
       "   'sofa',\n",
       "   'turn',\n",
       "   'comfort',\n",
       "   'bed',\n",
       "   'separ',\n",
       "   'kitchen',\n",
       "   'fulli',\n",
       "   'furnish',\n",
       "   'right',\n",
       "   'next',\n",
       "   'live',\n",
       "   'room',\n",
       "   'bedroom',\n",
       "   'doubl',\n",
       "   'bed',\n",
       "   'larg',\n",
       "   'closet',\n",
       "   'larg',\n",
       "   'bathroom',\n",
       "   'separ',\n",
       "   'wifi',\n",
       "   'avail',\n",
       "   'everywher',\n",
       "   'flat',\n",
       "   'along',\n",
       "   'intern',\n",
       "   'channel',\n",
       "   'someon',\n",
       "   'know',\n",
       "   'place',\n",
       "   'well',\n",
       "   'welcom',\n",
       "   'close',\n",
       "   'histor',\n",
       "   'center',\n",
       "   'pari',\n",
       "   'major',\n",
       "   'point',\n",
       "   'interest',\n",
       "   'place',\n",
       "   'des',\n",
       "   'vosg',\n",
       "   'modern',\n",
       "   'opera',\n",
       "   'notr',\n",
       "   'dame',\n",
       "   'canal',\n",
       "   'saint',\n",
       "   'martin',\n",
       "   'access',\n",
       "   'area',\n",
       "   'walk',\n",
       "   'neighborhood',\n",
       "   'full',\n",
       "   'small',\n",
       "   'shop',\n",
       "   'restaur',\n",
       "   'find',\n",
       "   'popular',\n",
       "   'food',\n",
       "   'mar'])]"
      ]
     },
     "execution_count": 66,
     "metadata": {},
     "output_type": "execute_result"
    }
   ],
   "source": [
    "%%time \n",
    "\n",
    "X_rdd.take(5)"
   ]
  },
  {
   "cell_type": "code",
   "execution_count": 64,
   "metadata": {},
   "outputs": [
    {
     "name": "stdout",
     "output_type": "stream",
     "text": [
      "50.0 |d everyon cosi bedroom modern apart locat central area pari apart bedroom one mine apart fulli renov warm atmospher live room equip kitchen wifi provid towel sheet central area cosmopolit non tourist close marai bastill republ transport metro walk saint ambrois line richard lenoir line citi bike station best\n",
      "125.0 |d comfort calm apart room center pari bastill area welcom explain live area bakeri market restaur bar live build close public transport metro ledru rollin charonn bastill gare lyon bus germain louvr gare austerlitz gare nord live room bedroom kitchen bathroom sleep person doubl bed sofa bed also divid separ part quiet apart direct opposit love park central locat live restaur cafe fruit market live build love area nice vie quartier market bakeri apart equip fulli equip kitchen refriger freezer toaster kettl microwav induct hob dishwash wash machin coffe maker sheet towel linen provid broadband internet adsl\n",
      "59.0 |d minut walk publiqu oberkampf nilmont lachais rent flat includ shower room toilet equip kitchen coffe machin box dvd tabl internet access easi disneyland rent littl full equip flat right near publiqu avenu minut walk publiqu oberkampf lachais bastill marai right near metro line walk minut find supermarket coffe mani restaur bakeri hair cutter need studio small kitchen bathroom toilet cabl free wifi access studio minut station saint maur minut supermarket near close line district anim famous oberkampf saint maur street minut walk republiqu minut acc des voyageur les locatair ont acc tou\n",
      "50.0 |d come stay littl nest quiet peac place near everyth downstair enjoy pari afford love walk picnic canal run les butt chaumont enjoy perfect meal one amaz restaur nextdoor subway minut walk find groceri everyth need close locat perfect hope enjoy much apart one real bedroom heart pari near canal saint martin minut walk subway publiqu line quiet courtyard sunni awesom view squar meter realli nice pari floor elev locat minut walk famous canal saint martin beauti walk minut reach famous neighborhood marai lot shop best falafel notr dame\n",
      "85.0 |d room appart bastill marai canal saint martin fulli furnish decor accomod peopl comfort close metro line sever buse reach major area pari walk transport hart bastill area modern squar meter flat fulli furnish decor larg live room sofa turn comfort bed separ kitchen fulli furnish right next live room bedroom doubl bed larg closet larg bathroom separ wifi avail everywher flat along intern channel someon know place well welcom close histor center pari major point interest place des vosg modern opera notr dame canal saint martin access area walk neighborhood full small shop restaur find popular food mar\n"
     ]
    }
   ],
   "source": [
    "print(\"\\n\".join(X_rdd.map(convert_to_vw_spark).take(5)))"
   ]
  },
  {
   "cell_type": "code",
   "execution_count": null,
   "metadata": {},
   "outputs": [],
   "source": []
  },
  {
   "cell_type": "markdown",
   "metadata": {},
   "source": [
    "Для подсчета TF-IDF также можно воспользоваться стандартной библиотекой Spark. Для эффективной работы модуль расчета TF использует хеширование признаков."
   ]
  },
  {
   "cell_type": "code",
   "execution_count": 65,
   "metadata": {},
   "outputs": [],
   "source": [
    "from pyspark.mllib.feature import HashingTF, IDF"
   ]
  },
  {
   "cell_type": "code",
   "execution_count": 66,
   "metadata": {},
   "outputs": [
    {
     "data": {
      "text/plain": [
       "PythonRDD[18] at RDD at PythonRDD.scala:53"
      ]
     },
     "execution_count": 66,
     "metadata": {},
     "output_type": "execute_result"
    }
   ],
   "source": [
    "documents = X_rdd.map(lambda x: x[1])\n",
    "\n",
    "hashingTF = HashingTF(numFeatures=2**14)\n",
    "tf = hashingTF.transform(documents)\n",
    "tf.cache()"
   ]
  },
  {
   "cell_type": "code",
   "execution_count": 67,
   "metadata": {},
   "outputs": [
    {
     "name": "stdout",
     "output_type": "stream",
     "text": [
      "CPU times: user 3.46 ms, sys: 650 µs, total: 4.11 ms\n",
      "Wall time: 3.68 s\n"
     ]
    },
    {
     "data": {
      "text/plain": [
       "[SparseVector(16384, {436: 1.0, 812: 2.0, 1063: 1.0, 1202: 1.0, 1281: 1.0, 2081: 1.0, 2253: 1.0, 2374: 3.0, 2634: 1.0, 3420: 1.0, 3443: 1.0, 3613: 1.0, 3944: 1.0, 4750: 1.0, 4767: 1.0, 4949: 1.0, 5066: 1.0, 5789: 1.0, 6278: 1.0, 7254: 1.0, 7668: 1.0, 7695: 1.0, 8356: 1.0, 8459: 1.0, 8981: 2.0, 9012: 1.0, 9294: 1.0, 9536: 1.0, 11713: 1.0, 12131: 1.0, 12381: 1.0, 12556: 1.0, 12620: 1.0, 13067: 1.0, 13314: 1.0, 13467: 1.0, 13588: 1.0, 14296: 1.0, 14706: 2.0, 14722: 1.0, 15153: 1.0, 15706: 2.0})]"
      ]
     },
     "execution_count": 67,
     "metadata": {},
     "output_type": "execute_result"
    }
   ],
   "source": [
    "%%time\n",
    "\n",
    "tf.take(1)"
   ]
  },
  {
   "cell_type": "code",
   "execution_count": 68,
   "metadata": {},
   "outputs": [
    {
     "name": "stdout",
     "output_type": "stream",
     "text": [
      "CPU times: user 33 ms, sys: 13.8 ms, total: 46.7 ms\n",
      "Wall time: 10min 35s\n"
     ]
    }
   ],
   "source": [
    "%%time\n",
    "\n",
    "idf = IDF().fit(tf)\n",
    "tfidf = idf.transform(tf)"
   ]
  },
  {
   "cell_type": "code",
   "execution_count": 69,
   "metadata": {},
   "outputs": [
    {
     "data": {
      "text/plain": [
       "[SparseVector(16384, {436: 2.2216, 812: 3.4281, 1063: 5.5671, 1202: 7.5692, 1281: 2.1708, 2081: 4.5338, 2253: 2.9503, 2374: 2.2935, 2634: 3.9316, 3420: 2.1188, 3443: 0.6858, 3613: 0.608, 3944: 2.746, 4750: 1.1508, 4767: 1.1403, 4949: 2.804, 5066: 0.8053, 5789: 4.4441, 6278: 3.5627, 7254: 4.4749, 7668: 5.3961, 7695: 3.1881, 8356: 1.9695, 8459: 1.5621, 8981: 1.397, 9012: 3.2985, 9294: 1.4325, 9536: 8.3111, 11713: 3.1578, 12131: 1.7539, 12381: 7.1172, 12556: 1.8497, 12620: 0.6933, 13067: 2.14, 13314: 8.088, 13467: 2.033, 13588: 1.2257, 14296: 5.055, 14706: 2.1219, 14722: 0.5742, 15153: 1.5552, 15706: 4.0366})]"
      ]
     },
     "execution_count": 69,
     "metadata": {},
     "output_type": "execute_result"
    }
   ],
   "source": [
    "tfidf.take(1)"
   ]
  },
  {
   "cell_type": "code",
   "execution_count": null,
   "metadata": {},
   "outputs": [],
   "source": []
  }
 ],
 "metadata": {
  "kernelspec": {
   "display_name": "Python 3 (ipykernel)",
   "language": "python",
   "name": "python3"
  },
  "language_info": {
   "codemirror_mode": {
    "name": "ipython",
    "version": 3
   },
   "file_extension": ".py",
   "mimetype": "text/x-python",
   "name": "python",
   "nbconvert_exporter": "python",
   "pygments_lexer": "ipython3",
   "version": "3.9.7"
  }
 },
 "nbformat": 4,
 "nbformat_minor": 4
}

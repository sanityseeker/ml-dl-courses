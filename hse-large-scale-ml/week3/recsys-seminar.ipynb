{
 "cells": [
  {
   "cell_type": "markdown",
   "metadata": {},
   "source": [
    "<a target=\"_blank\" href=\"../cluster\" style=\"font-size:20px\">All Applications (YARN)</a>"
   ]
  },
  {
   "cell_type": "markdown",
   "metadata": {},
   "source": [
    "# Создаем SparkContext и SparkSession\n",
    "\n",
    "https://spark.apache.org/docs/latest/rdd-programming-guide.html\n",
    "\n",
    "http://spark.apache.org/docs/latest/sql-getting-started.html"
   ]
  },
  {
   "cell_type": "code",
   "execution_count": 1,
   "metadata": {},
   "outputs": [],
   "source": [
    "import findspark\n",
    "findspark.init()\n",
    "\n",
    "import pyspark\n",
    "sc = pyspark.SparkContext(appName='jupyter')\n",
    "\n",
    "from pyspark.sql import SparkSession, Row\n",
    "se = SparkSession(sc)"
   ]
  },
  {
   "cell_type": "markdown",
   "metadata": {},
   "source": [
    "# Датасет Яндекс.Музыка"
   ]
  },
  {
   "cell_type": "code",
   "execution_count": 2,
   "metadata": {},
   "outputs": [
    {
     "name": "stdout",
     "output_type": "stream",
     "text": [
      "total 3.7M\n",
      "-rwxrwxrwx 1 nobody nogroup 3.7M Nov 11  2020 artists.jsonl\n",
      "lrwxrwxrwx 1 nobody nogroup   44 Feb 15 20:07 events.csv -> /home/jovyan/work-ro/yandex_music/events.csv\n",
      "-rwxrwxrwx 1 nobody nogroup  254 Nov 11  2020 README.txt\n"
     ]
    }
   ],
   "source": [
    "! ls -lh yandex_music"
   ]
  },
  {
   "cell_type": "code",
   "execution_count": 3,
   "metadata": {},
   "outputs": [
    {
     "name": "stdout",
     "output_type": "stream",
     "text": [
      "{\"artistId\":0,\"artistName\":\"Mack Gordon\"}\n",
      "{\"artistId\":1,\"artistName\":\"Kenny Dorham\"}\n",
      "{\"artistId\":2,\"artistName\":\"Max Roach\"}\n",
      "{\"artistId\":3,\"artistName\":\"Francis Rossi\"}\n",
      "{\"artistId\":4,\"artistName\":\"Status Quo\"}\n"
     ]
    }
   ],
   "source": [
    "! head -n 5 yandex_music/artists.jsonl"
   ]
  },
  {
   "cell_type": "code",
   "execution_count": 4,
   "metadata": {},
   "outputs": [
    {
     "name": "stdout",
     "output_type": "stream",
     "text": [
      "userId,artistId,plays,skips\n",
      "0,335,1,0\n",
      "0,708,1,0\n",
      "0,710,2,1\n",
      "0,815,1,1\n"
     ]
    }
   ],
   "source": [
    "! head -n 5 yandex_music/events.csv"
   ]
  },
  {
   "cell_type": "markdown",
   "metadata": {},
   "source": [
    "# Копируем файлы в HDFS"
   ]
  },
  {
   "cell_type": "code",
   "execution_count": 5,
   "metadata": {},
   "outputs": [],
   "source": [
    "! hadoop fs -copyFromLocal yandex_music /"
   ]
  },
  {
   "cell_type": "code",
   "execution_count": 6,
   "metadata": {},
   "outputs": [
    {
     "name": "stdout",
     "output_type": "stream",
     "text": [
      "Found 3 items\n",
      "-rw-r--r--   1 jovyan supergroup        254 2022-02-16 17:08 /yandex_music/README.txt\n",
      "-rw-r--r--   1 jovyan supergroup      3.7 M 2022-02-16 17:08 /yandex_music/artists.jsonl\n",
      "-rw-r--r--   1 jovyan supergroup     47.6 M 2022-02-16 17:08 /yandex_music/events.csv\n"
     ]
    }
   ],
   "source": [
    "! hadoop fs -ls -h /yandex_music"
   ]
  },
  {
   "cell_type": "markdown",
   "metadata": {},
   "source": [
    "# Загружаем данные"
   ]
  },
  {
   "cell_type": "code",
   "execution_count": 7,
   "metadata": {},
   "outputs": [
    {
     "data": {
      "text/html": [
       "<div>\n",
       "<style scoped>\n",
       "    .dataframe tbody tr th:only-of-type {\n",
       "        vertical-align: middle;\n",
       "    }\n",
       "\n",
       "    .dataframe tbody tr th {\n",
       "        vertical-align: top;\n",
       "    }\n",
       "\n",
       "    .dataframe thead th {\n",
       "        text-align: right;\n",
       "    }\n",
       "</style>\n",
       "<table border=\"1\" class=\"dataframe\">\n",
       "  <thead>\n",
       "    <tr style=\"text-align: right;\">\n",
       "      <th></th>\n",
       "      <th>artistId</th>\n",
       "      <th>artistName</th>\n",
       "    </tr>\n",
       "  </thead>\n",
       "  <tbody>\n",
       "    <tr>\n",
       "      <th>0</th>\n",
       "      <td>0</td>\n",
       "      <td>Mack Gordon</td>\n",
       "    </tr>\n",
       "    <tr>\n",
       "      <th>1</th>\n",
       "      <td>1</td>\n",
       "      <td>Kenny Dorham</td>\n",
       "    </tr>\n",
       "    <tr>\n",
       "      <th>2</th>\n",
       "      <td>2</td>\n",
       "      <td>Max Roach</td>\n",
       "    </tr>\n",
       "    <tr>\n",
       "      <th>3</th>\n",
       "      <td>3</td>\n",
       "      <td>Francis Rossi</td>\n",
       "    </tr>\n",
       "    <tr>\n",
       "      <th>4</th>\n",
       "      <td>4</td>\n",
       "      <td>Status Quo</td>\n",
       "    </tr>\n",
       "  </tbody>\n",
       "</table>\n",
       "</div>"
      ],
      "text/plain": [
       "   artistId     artistName\n",
       "0         0    Mack Gordon\n",
       "1         1   Kenny Dorham\n",
       "2         2      Max Roach\n",
       "3         3  Francis Rossi\n",
       "4         4     Status Quo"
      ]
     },
     "execution_count": 7,
     "metadata": {},
     "output_type": "execute_result"
    }
   ],
   "source": [
    "artists = se.read.json(\"hdfs:///yandex_music/artists.jsonl\")\n",
    "artists.registerTempTable(\"artists\")\n",
    "artists.limit(5).toPandas()"
   ]
  },
  {
   "cell_type": "code",
   "execution_count": 8,
   "metadata": {},
   "outputs": [
    {
     "data": {
      "text/html": [
       "<div>\n",
       "<style scoped>\n",
       "    .dataframe tbody tr th:only-of-type {\n",
       "        vertical-align: middle;\n",
       "    }\n",
       "\n",
       "    .dataframe tbody tr th {\n",
       "        vertical-align: top;\n",
       "    }\n",
       "\n",
       "    .dataframe thead th {\n",
       "        text-align: right;\n",
       "    }\n",
       "</style>\n",
       "<table border=\"1\" class=\"dataframe\">\n",
       "  <thead>\n",
       "    <tr style=\"text-align: right;\">\n",
       "      <th></th>\n",
       "      <th>userId</th>\n",
       "      <th>artistId</th>\n",
       "      <th>plays</th>\n",
       "      <th>skips</th>\n",
       "    </tr>\n",
       "  </thead>\n",
       "  <tbody>\n",
       "    <tr>\n",
       "      <th>0</th>\n",
       "      <td>0</td>\n",
       "      <td>335</td>\n",
       "      <td>1</td>\n",
       "      <td>0</td>\n",
       "    </tr>\n",
       "    <tr>\n",
       "      <th>1</th>\n",
       "      <td>0</td>\n",
       "      <td>708</td>\n",
       "      <td>1</td>\n",
       "      <td>0</td>\n",
       "    </tr>\n",
       "    <tr>\n",
       "      <th>2</th>\n",
       "      <td>0</td>\n",
       "      <td>710</td>\n",
       "      <td>2</td>\n",
       "      <td>1</td>\n",
       "    </tr>\n",
       "    <tr>\n",
       "      <th>3</th>\n",
       "      <td>0</td>\n",
       "      <td>815</td>\n",
       "      <td>1</td>\n",
       "      <td>1</td>\n",
       "    </tr>\n",
       "    <tr>\n",
       "      <th>4</th>\n",
       "      <td>0</td>\n",
       "      <td>880</td>\n",
       "      <td>1</td>\n",
       "      <td>1</td>\n",
       "    </tr>\n",
       "  </tbody>\n",
       "</table>\n",
       "</div>"
      ],
      "text/plain": [
       "   userId  artistId  plays  skips\n",
       "0       0       335      1      0\n",
       "1       0       708      1      0\n",
       "2       0       710      2      1\n",
       "3       0       815      1      1\n",
       "4       0       880      1      1"
      ]
     },
     "execution_count": 8,
     "metadata": {},
     "output_type": "execute_result"
    }
   ],
   "source": [
    "events = se.read.csv(\"hdfs:///yandex_music/events.csv\", header=True, \n",
    "                     schema='userId bigint, artistId bigint, plays INT, skips INT')\n",
    "events.registerTempTable(\"events\")\n",
    "events.limit(5).toPandas()"
   ]
  },
  {
   "cell_type": "code",
   "execution_count": 9,
   "metadata": {},
   "outputs": [
    {
     "data": {
      "text/html": [
       "<div>\n",
       "<style scoped>\n",
       "    .dataframe tbody tr th:only-of-type {\n",
       "        vertical-align: middle;\n",
       "    }\n",
       "\n",
       "    .dataframe tbody tr th {\n",
       "        vertical-align: top;\n",
       "    }\n",
       "\n",
       "    .dataframe thead th {\n",
       "        text-align: right;\n",
       "    }\n",
       "</style>\n",
       "<table border=\"1\" class=\"dataframe\">\n",
       "  <thead>\n",
       "    <tr style=\"text-align: right;\">\n",
       "      <th></th>\n",
       "      <th>users</th>\n",
       "      <th>artists</th>\n",
       "      <th>interactions</th>\n",
       "      <th>density</th>\n",
       "    </tr>\n",
       "  </thead>\n",
       "  <tbody>\n",
       "    <tr>\n",
       "      <th>0</th>\n",
       "      <td>4999</td>\n",
       "      <td>53031</td>\n",
       "      <td>3412504</td>\n",
       "      <td>0.012872</td>\n",
       "    </tr>\n",
       "  </tbody>\n",
       "</table>\n",
       "</div>"
      ],
      "text/plain": [
       "   users  artists  interactions   density\n",
       "0   4999    53031       3412504  0.012872"
      ]
     },
     "execution_count": 9,
     "metadata": {},
     "output_type": "execute_result"
    }
   ],
   "source": [
    "# статистики\n",
    "se.sql(\"\"\"\n",
    "select\n",
    "    count(distinct userId) as users,\n",
    "    count(distinct artistId) as artists,\n",
    "    count(*) as interactions,\n",
    "    count(*) / (count(distinct userId) * count(distinct artistId)) as density\n",
    "from \n",
    "    events\n",
    "\"\"\").toPandas()"
   ]
  },
  {
   "cell_type": "code",
   "execution_count": 10,
   "metadata": {
    "scrolled": true
   },
   "outputs": [
    {
     "data": {
      "text/html": [
       "<div>\n",
       "<style scoped>\n",
       "    .dataframe tbody tr th:only-of-type {\n",
       "        vertical-align: middle;\n",
       "    }\n",
       "\n",
       "    .dataframe tbody tr th {\n",
       "        vertical-align: top;\n",
       "    }\n",
       "\n",
       "    .dataframe thead th {\n",
       "        text-align: right;\n",
       "    }\n",
       "</style>\n",
       "<table border=\"1\" class=\"dataframe\">\n",
       "  <thead>\n",
       "    <tr style=\"text-align: right;\">\n",
       "      <th></th>\n",
       "      <th>artistName</th>\n",
       "      <th>popularity</th>\n",
       "    </tr>\n",
       "  </thead>\n",
       "  <tbody>\n",
       "    <tr>\n",
       "      <th>0</th>\n",
       "      <td>Imagine Dragons</td>\n",
       "      <td>43447</td>\n",
       "    </tr>\n",
       "    <tr>\n",
       "      <th>1</th>\n",
       "      <td>Би-2</td>\n",
       "      <td>29415</td>\n",
       "    </tr>\n",
       "    <tr>\n",
       "      <th>2</th>\n",
       "      <td>Баста</td>\n",
       "      <td>27264</td>\n",
       "    </tr>\n",
       "    <tr>\n",
       "      <th>3</th>\n",
       "      <td>Ленинград</td>\n",
       "      <td>26311</td>\n",
       "    </tr>\n",
       "    <tr>\n",
       "      <th>4</th>\n",
       "      <td>Сплин</td>\n",
       "      <td>25062</td>\n",
       "    </tr>\n",
       "    <tr>\n",
       "      <th>5</th>\n",
       "      <td>Queen</td>\n",
       "      <td>24905</td>\n",
       "    </tr>\n",
       "    <tr>\n",
       "      <th>6</th>\n",
       "      <td>Sia</td>\n",
       "      <td>22803</td>\n",
       "    </tr>\n",
       "    <tr>\n",
       "      <th>7</th>\n",
       "      <td>LOBODA</td>\n",
       "      <td>21923</td>\n",
       "    </tr>\n",
       "    <tr>\n",
       "      <th>8</th>\n",
       "      <td>Noize MC</td>\n",
       "      <td>21774</td>\n",
       "    </tr>\n",
       "    <tr>\n",
       "      <th>9</th>\n",
       "      <td>Linkin Park</td>\n",
       "      <td>21584</td>\n",
       "    </tr>\n",
       "    <tr>\n",
       "      <th>10</th>\n",
       "      <td>Монеточка</td>\n",
       "      <td>21564</td>\n",
       "    </tr>\n",
       "    <tr>\n",
       "      <th>11</th>\n",
       "      <td>Miyagi &amp; Эндшпиль</td>\n",
       "      <td>20349</td>\n",
       "    </tr>\n",
       "    <tr>\n",
       "      <th>12</th>\n",
       "      <td>Макс Корж</td>\n",
       "      <td>20065</td>\n",
       "    </tr>\n",
       "    <tr>\n",
       "      <th>13</th>\n",
       "      <td>Jah Khalib</td>\n",
       "      <td>20024</td>\n",
       "    </tr>\n",
       "    <tr>\n",
       "      <th>14</th>\n",
       "      <td>Егор Крид</td>\n",
       "      <td>19606</td>\n",
       "    </tr>\n",
       "    <tr>\n",
       "      <th>15</th>\n",
       "      <td>Oxxxymiron</td>\n",
       "      <td>18989</td>\n",
       "    </tr>\n",
       "    <tr>\n",
       "      <th>16</th>\n",
       "      <td>Земфира</td>\n",
       "      <td>18845</td>\n",
       "    </tr>\n",
       "    <tr>\n",
       "      <th>17</th>\n",
       "      <td>Кино</td>\n",
       "      <td>18326</td>\n",
       "    </tr>\n",
       "    <tr>\n",
       "      <th>18</th>\n",
       "      <td>David Guetta</td>\n",
       "      <td>16538</td>\n",
       "    </tr>\n",
       "    <tr>\n",
       "      <th>19</th>\n",
       "      <td>Полина Гагарина</td>\n",
       "      <td>15775</td>\n",
       "    </tr>\n",
       "    <tr>\n",
       "      <th>20</th>\n",
       "      <td>Макс Барских</td>\n",
       "      <td>15733</td>\n",
       "    </tr>\n",
       "    <tr>\n",
       "      <th>21</th>\n",
       "      <td>Twenty One Pilots</td>\n",
       "      <td>15551</td>\n",
       "    </tr>\n",
       "    <tr>\n",
       "      <th>22</th>\n",
       "      <td>Eminem</td>\n",
       "      <td>14911</td>\n",
       "    </tr>\n",
       "    <tr>\n",
       "      <th>23</th>\n",
       "      <td>Король и Шут</td>\n",
       "      <td>14764</td>\n",
       "    </tr>\n",
       "    <tr>\n",
       "      <th>24</th>\n",
       "      <td>Мот</td>\n",
       "      <td>14378</td>\n",
       "    </tr>\n",
       "    <tr>\n",
       "      <th>25</th>\n",
       "      <td>Елена Темникова</td>\n",
       "      <td>14260</td>\n",
       "    </tr>\n",
       "    <tr>\n",
       "      <th>26</th>\n",
       "      <td>Элджей</td>\n",
       "      <td>13935</td>\n",
       "    </tr>\n",
       "    <tr>\n",
       "      <th>27</th>\n",
       "      <td>Мумий Тролль</td>\n",
       "      <td>13564</td>\n",
       "    </tr>\n",
       "    <tr>\n",
       "      <th>28</th>\n",
       "      <td>Григорий Лепс</td>\n",
       "      <td>13366</td>\n",
       "    </tr>\n",
       "    <tr>\n",
       "      <th>29</th>\n",
       "      <td>Muse</td>\n",
       "      <td>12337</td>\n",
       "    </tr>\n",
       "  </tbody>\n",
       "</table>\n",
       "</div>"
      ],
      "text/plain": [
       "           artistName  popularity\n",
       "0     Imagine Dragons       43447\n",
       "1                Би-2       29415\n",
       "2               Баста       27264\n",
       "3           Ленинград       26311\n",
       "4               Сплин       25062\n",
       "5               Queen       24905\n",
       "6                 Sia       22803\n",
       "7              LOBODA       21923\n",
       "8            Noize MC       21774\n",
       "9         Linkin Park       21584\n",
       "10          Монеточка       21564\n",
       "11  Miyagi & Эндшпиль       20349\n",
       "12          Макс Корж       20065\n",
       "13         Jah Khalib       20024\n",
       "14          Егор Крид       19606\n",
       "15         Oxxxymiron       18989\n",
       "16            Земфира       18845\n",
       "17               Кино       18326\n",
       "18       David Guetta       16538\n",
       "19    Полина Гагарина       15775\n",
       "20       Макс Барских       15733\n",
       "21  Twenty One Pilots       15551\n",
       "22             Eminem       14911\n",
       "23       Король и Шут       14764\n",
       "24                Мот       14378\n",
       "25    Елена Темникова       14260\n",
       "26             Элджей       13935\n",
       "27       Мумий Тролль       13564\n",
       "28      Григорий Лепс       13366\n",
       "29               Muse       12337"
      ]
     },
     "execution_count": 10,
     "metadata": {},
     "output_type": "execute_result"
    }
   ],
   "source": [
    "# самые популярные исполнители\n",
    "se.sql(\"\"\"\n",
    "select\n",
    "    artists.artistName,\n",
    "    sum(plays) as popularity\n",
    "from \n",
    "    events join artists on events.artistId = artists.artistId\n",
    "group by artistName\n",
    "order by popularity desc\n",
    "limit 30\n",
    "\"\"\").toPandas()"
   ]
  },
  {
   "cell_type": "markdown",
   "metadata": {},
   "source": [
    "# Обучаем iALS\n",
    "\n",
    "Будем считать, что рейтинг – это plays"
   ]
  },
  {
   "cell_type": "code",
   "execution_count": 11,
   "metadata": {},
   "outputs": [],
   "source": [
    "import numpy as np"
   ]
  },
  {
   "cell_type": "code",
   "execution_count": 12,
   "metadata": {},
   "outputs": [
    {
     "name": "stdout",
     "output_type": "stream",
     "text": [
      "CPU times: user 21.7 ms, sys: 2.13 ms, total: 23.8 ms\n",
      "Wall time: 28.1 s\n"
     ]
    }
   ],
   "source": [
    "%%time\n",
    "train, test = events.rdd.randomSplit([0.95, 0.05], seed=0)\n",
    "\n",
    "# кэшируем для скорости, будем обращаться несколько раз\n",
    "train.cache()\n",
    "test.cache()\n",
    "\n",
    "train.count()\n",
    "test.count()"
   ]
  },
  {
   "cell_type": "code",
   "execution_count": 13,
   "metadata": {},
   "outputs": [
    {
     "data": {
      "text/plain": [
       "[Row(userId=0, artistId=335, plays=1, skips=0),\n",
       " Row(userId=0, artistId=708, plays=1, skips=0),\n",
       " Row(userId=0, artistId=710, plays=2, skips=1),\n",
       " Row(userId=0, artistId=815, plays=1, skips=1),\n",
       " Row(userId=0, artistId=880, plays=1, skips=1)]"
      ]
     },
     "execution_count": 13,
     "metadata": {},
     "output_type": "execute_result"
    }
   ],
   "source": [
    "train.take(5)"
   ]
  },
  {
   "cell_type": "code",
   "execution_count": 14,
   "metadata": {},
   "outputs": [
    {
     "name": "stdout",
     "output_type": "stream",
     "text": [
      "CPU times: user 237 ms, sys: 70.1 ms, total: 307 ms\n",
      "Wall time: 1min 14s\n"
     ]
    }
   ],
   "source": [
    "%%time\n",
    "from pyspark.mllib.recommendation import ALS\n",
    "model = ALS().trainImplicit(\n",
    "    train.map(lambda x: (x.userId, x.artistId, np.log2(x.plays + 1))),\n",
    "    rank=32, iterations=10, lambda_=0.01, alpha=10.0, seed=0\n",
    ")"
   ]
  },
  {
   "cell_type": "code",
   "execution_count": 15,
   "metadata": {},
   "outputs": [
    {
     "name": "stdout",
     "output_type": "stream",
     "text": [
      "(52665, 32)\n"
     ]
    }
   ],
   "source": [
    "# достаем все профили исполнителей\n",
    "import numpy as np\n",
    "\n",
    "artist_to_name = {}\n",
    "for row in artists.collect():\n",
    "    artist_to_name[row.artistId] = row.artistName\n",
    "\n",
    "artist_ids = []\n",
    "artist_names = []\n",
    "artist_profiles = []\n",
    "\n",
    "for artistId, profile in model.productFeatures().collect():\n",
    "    artist_ids.append(artistId)\n",
    "    artist_names.append(artist_to_name[artistId])\n",
    "    artist_profiles.append(profile)\n",
    "\n",
    "artist_ids = np.array(artist_ids)\n",
    "artist_names = np.array(artist_names)\n",
    "artist_profiles = np.vstack(artist_profiles)\n",
    "print(artist_profiles.shape)"
   ]
  },
  {
   "cell_type": "markdown",
   "metadata": {},
   "source": [
    "# Похожести исполнителей"
   ]
  },
  {
   "cell_type": "code",
   "execution_count": 16,
   "metadata": {},
   "outputs": [
    {
     "data": {
      "text/plain": [
       "{11563: '50 Cent', 22207: 'AC/DC', 32914: 'Coldplay'}"
      ]
     },
     "execution_count": 16,
     "metadata": {},
     "output_type": "execute_result"
    }
   ],
   "source": [
    "target_artists = {index: v \n",
    "                  for index, v in enumerate(artist_names) \n",
    "                  if \"Coldplay\" == v or \"50 Cent\" == v or \"AC/DC\" == v}\n",
    "target_artists"
   ]
  },
  {
   "cell_type": "code",
   "execution_count": 17,
   "metadata": {},
   "outputs": [
    {
     "name": "stdout",
     "output_type": "stream",
     "text": [
      "############# 50 Cent #############\n",
      "50 Cent \t 1.0\n",
      "Dr. Dre \t 0.87176920263\n",
      "Lloyd Banks \t 0.862571081123\n",
      "Jay-Z \t 0.835235793381\n",
      "2Chainz \t 0.822563140385\n",
      "Cashis \t 0.812456739525\n",
      "Snoop Dogg \t 0.810484217851\n",
      "Missy  Elliott \t 0.805635315489\n",
      "Akon \t 0.798163079104\n",
      "Busta Rhymes \t 0.787780080328\n",
      "############# AC/DC #############\n",
      "AC/DC \t 1.0\n",
      "The Offspring \t 0.880806285576\n",
      "Nirvana \t 0.87660720058\n",
      "Metallica \t 0.874860631399\n",
      "Red Hot Chili Peppers \t 0.873863202133\n",
      "System of A Down \t 0.853683802014\n",
      "Limp Bizkit \t 0.853453742095\n",
      "Bon Jovi \t 0.850678176659\n",
      "Nickelback \t 0.846709868065\n",
      "Scorpions \t 0.842406452006\n",
      "############# Coldplay #############\n",
      "Coldplay \t 1.0\n",
      "Lana Del Rey \t 0.957398977112\n",
      "Adele \t 0.954771689577\n",
      "OneRepublic \t 0.951114667239\n",
      "Maroon 5 \t 0.950856957375\n",
      "Sam Smith \t 0.929694792036\n",
      "Katy Perry \t 0.921320013598\n",
      "Ed Sheeran \t 0.919972991344\n",
      "Pharrell Williams \t 0.919839118559\n",
      "Twenty One Pilots \t 0.91862092206\n"
     ]
    }
   ],
   "source": [
    "import scipy\n",
    "import scipy.spatial\n",
    "\n",
    "for index, name in target_artists.items():\n",
    "    print(\"#############\", name, \"#############\")\n",
    "    \n",
    "    cosines = (-scipy.spatial.distance.cdist([artist_profiles[index]], artist_profiles, metric='cosine') + 1)[0]\n",
    "    cosines[np.isnan(cosines)] = -1e20\n",
    "\n",
    "    for idx in np.argsort(cosines)[::-1][:10]:\n",
    "        print(artist_names[idx], \"\\t\", cosines[idx])"
   ]
  },
  {
   "cell_type": "markdown",
   "metadata": {},
   "source": [
    "# NDCG"
   ]
  },
  {
   "cell_type": "code",
   "execution_count": 21,
   "metadata": {},
   "outputs": [],
   "source": [
    "def dcg(ratings):\n",
    "    return float(np.sum((2 ** np.array(ratings, np.float32) - 1) / np.log2(np.arange(1, len(ratings) + 1) + 1)))\n",
    "\n",
    "\n",
    "def ndcg(ratings, at=None):\n",
    "    idcg = dcg(sorted(ratings, reverse=True))\n",
    "    return dcg(ratings) / idcg if idcg > 0 else 0\n",
    "\n",
    "\n",
    "def ndcg_score(y_true, y_pred):\n",
    "    assert y_true.shape == y_pred.shape\n",
    "    order = np.argsort(y_pred)[::-1]\n",
    "    return ndcg(y_true[order])\n",
    "\n",
    "\n",
    "# tests\n",
    "def test1():\n",
    "    y_true = np.array([  0,   0,   2,   1,   0])\n",
    "    y_pred = np.array([0.2, 0.1, 0.5, 0.3, 0.4])\n",
    "    correct_ndcg = (3 / np.log(1 + 1) + 1 / np.log(3 + 1)) / (3 / np.log(1 + 1) + 1 / np.log(2 + 1))\n",
    "    assert np.allclose(ndcg_score(y_true, y_pred), correct_ndcg)\n",
    "\n",
    "    \n",
    "def test2():\n",
    "    y_true = np.array([  0,   0,   0,   0,   0])\n",
    "    y_pred = np.array([0.2, 0.1, 0.5, 0.3, 0.4])\n",
    "    assert np.allclose(ndcg_score(y_true, y_pred), 0.0)\n",
    "\n",
    "    \n",
    "def test3():\n",
    "    y_true = np.array([  1,   0,   0,   0,   0])\n",
    "    y_pred = np.array([0.2, 0.1, 0.5, 0.3, 0.4])\n",
    "    correct_ndcg = (1 / np.log(4 + 1)) / (1 / np.log(1 + 1))\n",
    "    assert np.allclose(ndcg_score(y_true, y_pred), correct_ndcg)\n",
    "\n",
    "\n",
    "test1()\n",
    "test2()\n",
    "test3()"
   ]
  },
  {
   "cell_type": "code",
   "execution_count": 22,
   "metadata": {},
   "outputs": [
    {
     "name": "stdout",
     "output_type": "stream",
     "text": [
      "45.64282878502658\n",
      "33.64282878502658\n",
      "44.963945628433834\n"
     ]
    }
   ],
   "source": [
    "print(dcg([5, 4, 3, 2, 1]))\n",
    "print(dcg([3, 4, 5, 2, 1]))\n",
    "print(dcg([5, 4, 1, 2, 3]))"
   ]
  },
  {
   "cell_type": "markdown",
   "metadata": {},
   "source": [
    "# Считаем NDCG для базового решения\n",
    "\n",
    "Всегда ранжируем исполнителей по популярности"
   ]
  },
  {
   "cell_type": "code",
   "execution_count": 23,
   "metadata": {},
   "outputs": [],
   "source": [
    "artist_to_popularity = (\n",
    "    train\n",
    "    .map(lambda x: (x.artistId, x.plays))\n",
    "    .reduceByKey(lambda a, b: a + b)\n",
    "    .collect()\n",
    ")\n",
    "\n",
    "artist_to_popularity = {a: p for a, p in artist_to_popularity}"
   ]
  },
  {
   "cell_type": "code",
   "execution_count": 24,
   "metadata": {},
   "outputs": [],
   "source": [
    "predictions_and_ratings_per_user = (\n",
    "    test\n",
    "    .map(lambda x: (x.userId, (artist_to_popularity.get(x.artistId, 0), np.log2(x.plays + 1))))\n",
    "    .groupByKey()\n",
    "    .map(lambda x: (x[0], list(x[1])))\n",
    ")"
   ]
  },
  {
   "cell_type": "code",
   "execution_count": 25,
   "metadata": {
    "scrolled": true
   },
   "outputs": [
    {
     "data": {
      "text/plain": [
       "[(0,\n",
       "  [(2371, 1.0),\n",
       "   (22102, 3.3219280948873622),\n",
       "   (609, 1.0),\n",
       "   (7399, 1.0),\n",
       "   (884, 1.5849625007211561),\n",
       "   (481, 1.5849625007211561),\n",
       "   (4008, 1.0),\n",
       "   (2325, 1.5849625007211561),\n",
       "   (774, 1.0),\n",
       "   (1035, 1.5849625007211561),\n",
       "   (4484, 3.5849625007211561),\n",
       "   (234, 1.0),\n",
       "   (1523, 1.0),\n",
       "   (2273, 1.5849625007211561),\n",
       "   (1243, 2.3219280948873622),\n",
       "   (5388, 2.3219280948873622),\n",
       "   (7856, 5.9772799234999168),\n",
       "   (781, 1.0),\n",
       "   (4743, 1.5849625007211561),\n",
       "   (1234, 1.0),\n",
       "   (1569, 0.0),\n",
       "   (650, 0.0),\n",
       "   (817, 0.0),\n",
       "   (1579, 0.0),\n",
       "   (1397, 0.0),\n",
       "   (9438, 0.0),\n",
       "   (9, 0.0),\n",
       "   (773, 0.0),\n",
       "   (543, 0.0),\n",
       "   (46, 0.0),\n",
       "   (574, 0.0),\n",
       "   (9578, 0.0),\n",
       "   (241, 0.0)])]"
      ]
     },
     "execution_count": 25,
     "metadata": {},
     "output_type": "execute_result"
    }
   ],
   "source": [
    "predictions_and_ratings_per_user.take(1)"
   ]
  },
  {
   "cell_type": "code",
   "execution_count": 26,
   "metadata": {},
   "outputs": [
    {
     "data": {
      "text/plain": [
       "0.6610150124257518"
      ]
     },
     "execution_count": 26,
     "metadata": {},
     "output_type": "execute_result"
    }
   ],
   "source": [
    "def ndcg_for_user(x):\n",
    "    y_pred = np.array([e[0] for e in x])\n",
    "    y_true = np.array([e[1] for e in x])\n",
    "    return ndcg_score(y_true, y_pred)\n",
    "    \n",
    "(\n",
    "    predictions_and_ratings_per_user\n",
    "    .map(lambda x: ndcg_for_user(x[1]))\n",
    "    .mean()\n",
    ")"
   ]
  },
  {
   "cell_type": "markdown",
   "metadata": {},
   "source": [
    "# NDCG для iALS"
   ]
  },
  {
   "cell_type": "code",
   "execution_count": 27,
   "metadata": {},
   "outputs": [],
   "source": [
    "predictions = (\n",
    "    model\n",
    "    .predictAll(test.map(lambda x: (x.userId, x.artistId)))\n",
    "    .map(lambda x: ((x[0], x[1]), x[2]))\n",
    ")"
   ]
  },
  {
   "cell_type": "code",
   "execution_count": 28,
   "metadata": {},
   "outputs": [
    {
     "data": {
      "text/plain": [
       "[((2464, 17312), 0.7113483998861412),\n",
       " ((3949, 17312), 0.8030995046830238),\n",
       " ((1858, 17312), 0.3888120783910832),\n",
       " ((4147, 17312), -0.1829481711739028),\n",
       " ((77, 3456), 0.30611075912876945)]"
      ]
     },
     "execution_count": 28,
     "metadata": {},
     "output_type": "execute_result"
    }
   ],
   "source": [
    "predictions.take(5)"
   ]
  },
  {
   "cell_type": "code",
   "execution_count": 29,
   "metadata": {},
   "outputs": [],
   "source": [
    "predictions_and_ratings_per_user = (\n",
    "    predictions\n",
    "    .join(test.map(lambda x: ((x.userId, x.artistId), np.log2(x.plays + 1))))\n",
    "    .map(lambda x: (x[0][0], x[1]))\n",
    "    .groupByKey()\n",
    "    .map(lambda x: (x[0], list(x[1])))\n",
    ")"
   ]
  },
  {
   "cell_type": "code",
   "execution_count": 30,
   "metadata": {},
   "outputs": [
    {
     "data": {
      "text/plain": [
       "[(96,\n",
       "  [(1.0849417236113745, 1.0),\n",
       "   (0.7144303997635124, 1.0),\n",
       "   (0.5114239784729908, 1.0),\n",
       "   (0.18255648185233259, 1.5849625007211561),\n",
       "   (0.7491707940072484, 1.0),\n",
       "   (0.6321712326683473, 1.0),\n",
       "   (0.7683826553700539, 1.0),\n",
       "   (0.677685685303794, 2.0),\n",
       "   (0.9798890490844336, 1.5849625007211561),\n",
       "   (0.4607632137355492, 1.0),\n",
       "   (0.7553091695158917, 1.0),\n",
       "   (0.9052658988985727, 2.0),\n",
       "   (0.7161830270603652, 1.0),\n",
       "   (0.444178762598336, 1.0),\n",
       "   (0.798676768696861, 1.0),\n",
       "   (0.5129975120074302, 1.5849625007211561),\n",
       "   (0.6173897353011186, 2.3219280948873622),\n",
       "   (0.3019529742887951, 1.0),\n",
       "   (0.7967404255723357, 1.5849625007211561),\n",
       "   (-0.011930253274327831, 0.0),\n",
       "   (0.5978614297793097, 0.0),\n",
       "   (0.8262770475356271, 0.0),\n",
       "   (0.6037709275290899, 1.0),\n",
       "   (1.107849133421495, 1.0),\n",
       "   (0.5053338495413762, 1.0),\n",
       "   (0.9786339527860086, 2.0),\n",
       "   (0.856785336309896, 1.5849625007211561),\n",
       "   (0.9950012216893022, 1.0),\n",
       "   (1.0400502444928788, 1.0),\n",
       "   (1.0215764343653677, 1.0),\n",
       "   (0.20902344492666353, 1.0),\n",
       "   (0.9468169724914025, 2.0),\n",
       "   (0.6951304630127049, 2.0),\n",
       "   (0.93446390644858, 1.5849625007211561),\n",
       "   (0.9559886978888226, 1.0),\n",
       "   (0.6139019261001912, 1.0),\n",
       "   (0.6942114137321939, 0.0),\n",
       "   (0.5238870049629926, 1.0),\n",
       "   (0.9090430980388179, 1.0),\n",
       "   (0.3614980834241461, 1.0),\n",
       "   (0.6500512784221912, 1.0),\n",
       "   (1.0330894686744887, 2.8073549220576042),\n",
       "   (0.7700271699037681, 1.0),\n",
       "   (0.6284799713104061, 1.0),\n",
       "   (1.114221015893907, 2.0),\n",
       "   (0.2528189036156984, 1.0),\n",
       "   (0.8722384732315043, 1.0),\n",
       "   (0.38499900362873674, 1.0),\n",
       "   (0.257087431525047, 1.0),\n",
       "   (0.46585214792223806, 1.0),\n",
       "   (0.7751716552675458, 1.5849625007211561),\n",
       "   (0.7670337527142713, 1.0),\n",
       "   (0.0943414057967834, 0.0),\n",
       "   (1.0337405038807086, 1.5849625007211561),\n",
       "   (0.4901177835141445, 0.0),\n",
       "   (0.5407986180506053, 1.0),\n",
       "   (0.8272125460321196, 1.0),\n",
       "   (0.49231529164727994, 1.0),\n",
       "   (0.4487757152137086, 1.0),\n",
       "   (0.99802176883269, 1.0),\n",
       "   (0.0897683380261488, 0.0),\n",
       "   (0.6161371860243468, 1.5849625007211561),\n",
       "   (0.9122983139286194, 1.0),\n",
       "   (0.39552181186650204, 1.5849625007211561),\n",
       "   (0.464429357794339, 1.0),\n",
       "   (0.9558968450616443, 1.5849625007211561),\n",
       "   (0.931848579233401, 1.0),\n",
       "   (1.017883333264255, 2.5849625007211561),\n",
       "   (0.753482092944377, 1.0),\n",
       "   (0.543741261781364, 1.0),\n",
       "   (0.41044912169874115, 0.0),\n",
       "   (0.09508187811480293, 0.0),\n",
       "   (0.6234752680801416, 1.0),\n",
       "   (0.44683541652815895, 1.0),\n",
       "   (0.5836152782509365, 2.0),\n",
       "   (0.78672729362035, 2.0),\n",
       "   (0.6474403908614467, 0.0),\n",
       "   (1.278710667873207, 1.0),\n",
       "   (1.1342112686654917, 2.3219280948873622),\n",
       "   (0.6974920610298359, 1.0),\n",
       "   (0.86825405846141, 1.5849625007211561),\n",
       "   (0.7494185248028519, 2.0),\n",
       "   (0.5474730555680322, 1.0),\n",
       "   (0.7336049009374596, 1.0),\n",
       "   (0.01243508242406123, 1.0),\n",
       "   (0.08729551241009492, 1.0),\n",
       "   (0.28332188901286526, 1.0),\n",
       "   (0.9929165146120745, 2.0),\n",
       "   (0.7236099922444864, 1.5849625007211561),\n",
       "   (0.5871994067758152, 2.0),\n",
       "   (1.0505463264684671, 2.5849625007211561),\n",
       "   (0.9116396697838218, 1.0),\n",
       "   (0.5344963160630546, 1.0),\n",
       "   (0.6941905910327761, 1.0),\n",
       "   (0.7743877751195121, 1.0),\n",
       "   (0.8354427190372651, 1.5849625007211561),\n",
       "   (0.2731309123972949, 1.0),\n",
       "   (0.7933492448402403, 1.5849625007211561),\n",
       "   (0.6760958787864335, 1.0),\n",
       "   (0.5306058396493555, 2.3219280948873622),\n",
       "   (0.7343076101723838, 1.0),\n",
       "   (0.8923086145622358, 1.5849625007211561),\n",
       "   (0.8280461230271571, 1.0),\n",
       "   (0.7123915736502036, 1.0),\n",
       "   (0.3063791118355607, 1.0),\n",
       "   (0.5642185470347205, 1.0),\n",
       "   (1.056325204249021, 2.0),\n",
       "   (1.157999713606017, 1.0)])]"
      ]
     },
     "execution_count": 30,
     "metadata": {},
     "output_type": "execute_result"
    }
   ],
   "source": [
    "predictions_and_ratings_per_user.take(1)"
   ]
  },
  {
   "cell_type": "code",
   "execution_count": 31,
   "metadata": {},
   "outputs": [
    {
     "data": {
      "text/plain": [
       "0.7165281799560415"
      ]
     },
     "execution_count": 31,
     "metadata": {},
     "output_type": "execute_result"
    }
   ],
   "source": [
    "def ndcg_for_user(x):\n",
    "    y_pred = np.array([e[0] for e in x])\n",
    "    y_true = np.array([e[1] for e in x])\n",
    "    return ndcg_score(y_true, y_pred)\n",
    "    \n",
    "(\n",
    "    predictions_and_ratings_per_user\n",
    "    .map(lambda x: ndcg_for_user(x[1]))\n",
    "    .mean()\n",
    ")"
   ]
  },
  {
   "cell_type": "code",
   "execution_count": 32,
   "metadata": {},
   "outputs": [
    {
     "name": "stdout",
     "output_type": "stream",
     "text": [
      "Улучшение на 8.32 процентов!\n"
     ]
    }
   ],
   "source": [
    "print(\"Улучшение на {:0.3} процентов!\".format(100 * (0.716 / 0.661 - 1)))"
   ]
  },
  {
   "cell_type": "code",
   "execution_count": 34,
   "metadata": {},
   "outputs": [],
   "source": [
    "sc.stop()"
   ]
  },
  {
   "cell_type": "code",
   "execution_count": null,
   "metadata": {},
   "outputs": [],
   "source": []
  }
 ],
 "metadata": {
  "kernelspec": {
   "display_name": "Python 3 (ipykernel)",
   "language": "python",
   "name": "python3"
  },
  "language_info": {
   "codemirror_mode": {
    "name": "ipython",
    "version": 3
   },
   "file_extension": ".py",
   "mimetype": "text/x-python",
   "name": "python",
   "nbconvert_exporter": "python",
   "pygments_lexer": "ipython3",
   "version": "3.9.12"
  }
 },
 "nbformat": 4,
 "nbformat_minor": 4
}

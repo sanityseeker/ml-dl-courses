{
 "cells": [
  {
   "cell_type": "markdown",
   "metadata": {},
   "source": [
    "<a target=\"_blank\" href=\"../cluster\" style=\"font-size:20px\">All Applications (YARN)</a>"
   ]
  },
  {
   "cell_type": "markdown",
   "metadata": {},
   "source": [
    "# Домашнее задание\n",
    "\n",
    "В лекциях мы обсуждали меру Жаккара и то, как ее эффективно считать на MapReduce.\n",
    "\n",
    "Вам предлагается посчитать меру Жаккара на Spark для поиска похожих исполнителей во всем наборе данных и ответить на следующие вопросы:\n",
    "1. **Сколько исполнителей остаются в рассмотрении после применения всех фильтров из описания задания?**\n",
    "2. **Для скольких пар исполнителей удалось насчитать ненулевую похожесть по Жаккару? Здесь учитываются всевозможные пары (a, b) и (b, a), а также (a, a), для проверки корректности.**\n",
    "3. **Найдите 5 самых похожих исполнителей на \"Maroon 5\" по посчитанной мере Жаккара. В результат запишите имена 5 исполнителей отличных от \"Maroon 5\".**\n",
    "\n",
    "Несколько напутственных слов:\n",
    "- Используйте данные, загруженные в разделе <a href=\"#Загружаем-данные\">Загружаем данные</a>.\n",
    "- Пользователи, прослушавшие $N$ исполнителей внесут вклад в похожесть $N^2$ пар артистов. Поэтому редкие очень активные пользователи будут сильно замедлять наш алгоритм. Для таких пользователей на практике берут подмножество прослушиваний, например, 1000. Мы поступим проще и будем учитывать только прослушивания, где $plays > 2$, таким образом оставим только наиболее уверенные предпочтения пользователя.\n",
    "- Чтобы похожести были более уверенными, будем считать их только для тех исполнителей, которых прослушали строго больше 50 человек (с учетом предыдущего фильтра по прослушиваниям).\n",
    "- Для отладки алгоритма на меньшем объеме данных можно использовать трансформацию <a href=\"https://spark.apache.org/docs/latest/api/python/pyspark.html#pyspark.RDD.sample\">events.sample(False, 0.01)</a>, чтобы не ждать долго отладочных запусков.\n",
    "- Можно считать, что данные об исполнителях (например, их популярность) поместятся в памяти каждой машины. Просто нет так много исполнителей в мире, чтобы не поместиться.\n",
    "- Если какой-то шаг выполняется очень долго, можно увеличить степень параллелизма, например, \n",
    "<a href=\"https://spark.apache.org/docs/latest/api/python/pyspark.html#pyspark.RDD.groupByKey\">groupByKey(numPartitions=100)</a>, чтобы увидеть более гранулярный прогресс выполнения.\n",
    "- Иногда посчитанный результат имеет смысл сохранить в HDFS, чтобы не пересчитывать его заново каждый раз, когда он нужен.\n",
    "- При работе с большими данными требуется терпение, авторское решение работает около 10 минут.\n",
    "- Эту задачу можно решить и на Spark SQL, если вам он нравится больше.\n",
    "\n",
    "Решение сохраните в файл `result.json`. Пример содержимого файла:\n",
    "```json\n",
    "{\n",
    "    \"q1\": 123,\n",
    "    \"q2\": 456,\n",
    "    \"q3\": [\n",
    "        \"artistName1\",\n",
    "        \"artistName2\",\n",
    "        \"artistName3\",\n",
    "        \"artistName4\",\n",
    "        \"artistName5\"\n",
    "    ]\n",
    "}\n",
    "```"
   ]
  },
  {
   "cell_type": "markdown",
   "metadata": {},
   "source": [
    "# Копируем файлы в HDFS"
   ]
  },
  {
   "cell_type": "code",
   "execution_count": null,
   "metadata": {},
   "outputs": [],
   "source": [
    "! hadoop fs -copyFromLocal yandex_music /"
   ]
  },
  {
   "cell_type": "code",
   "execution_count": null,
   "metadata": {},
   "outputs": [
    {
     "name": "stdout",
     "output_type": "stream",
     "text": [
      "Found 3 items\n",
      "-rw-r--r--   1 jovyan supergroup        254 2022-02-16 18:12 /yandex_music/README.txt\n",
      "-rw-r--r--   1 jovyan supergroup      3.7 M 2022-02-16 18:12 /yandex_music/artists.jsonl\n",
      "-rw-r--r--   1 jovyan supergroup     47.6 M 2022-02-16 18:12 /yandex_music/events.csv\n"
     ]
    }
   ],
   "source": [
    "! hadoop fs -ls -h /yandex_music"
   ]
  },
  {
   "cell_type": "markdown",
   "metadata": {},
   "source": [
    "# Загружаем данные"
   ]
  },
  {
   "cell_type": "code",
   "execution_count": null,
   "metadata": {},
   "outputs": [
    {
     "ename": "ValueError",
     "evalue": "Cannot run multiple SparkContexts at once; existing SparkContext(app=jupyter, master=yarn) created by __init__ at <ipython-input-5-3835b93bac9b>:5 ",
     "output_type": "error",
     "traceback": [
      "\u001b[0;31m---------------------------------------------------------------------------\u001b[0m",
      "\u001b[0;31mValueError\u001b[0m                                Traceback (most recent call last)",
      "\u001b[0;32m<ipython-input-6-3835b93bac9b>\u001b[0m in \u001b[0;36m<module>\u001b[0;34m()\u001b[0m\n\u001b[1;32m      3\u001b[0m \u001b[0;34m\u001b[0m\u001b[0m\n\u001b[1;32m      4\u001b[0m \u001b[0;32mimport\u001b[0m \u001b[0mpyspark\u001b[0m\u001b[0;34m\u001b[0m\u001b[0m\n\u001b[0;32m----> 5\u001b[0;31m \u001b[0msc\u001b[0m \u001b[0;34m=\u001b[0m \u001b[0mpyspark\u001b[0m\u001b[0;34m.\u001b[0m\u001b[0mSparkContext\u001b[0m\u001b[0;34m(\u001b[0m\u001b[0mappName\u001b[0m\u001b[0;34m=\u001b[0m\u001b[0;34m'jupyter'\u001b[0m\u001b[0;34m)\u001b[0m\u001b[0;34m\u001b[0m\u001b[0m\n\u001b[0m\u001b[1;32m      6\u001b[0m \u001b[0;34m\u001b[0m\u001b[0m\n\u001b[1;32m      7\u001b[0m \u001b[0;32mfrom\u001b[0m \u001b[0mpyspark\u001b[0m\u001b[0;34m.\u001b[0m\u001b[0msql\u001b[0m \u001b[0;32mimport\u001b[0m \u001b[0mSparkSession\u001b[0m\u001b[0;34m,\u001b[0m \u001b[0mRow\u001b[0m\u001b[0;34m\u001b[0m\u001b[0m\n",
      "\u001b[0;32m/usr/local/spark/python/pyspark/context.py\u001b[0m in \u001b[0;36m__init__\u001b[0;34m(self, master, appName, sparkHome, pyFiles, environment, batchSize, serializer, conf, gateway, jsc, profiler_cls)\u001b[0m\n\u001b[1;32m    131\u001b[0m                 \" is not allowed as it is a security risk.\")\n\u001b[1;32m    132\u001b[0m \u001b[0;34m\u001b[0m\u001b[0m\n\u001b[0;32m--> 133\u001b[0;31m         \u001b[0mSparkContext\u001b[0m\u001b[0;34m.\u001b[0m\u001b[0m_ensure_initialized\u001b[0m\u001b[0;34m(\u001b[0m\u001b[0mself\u001b[0m\u001b[0;34m,\u001b[0m \u001b[0mgateway\u001b[0m\u001b[0;34m=\u001b[0m\u001b[0mgateway\u001b[0m\u001b[0;34m,\u001b[0m \u001b[0mconf\u001b[0m\u001b[0;34m=\u001b[0m\u001b[0mconf\u001b[0m\u001b[0;34m)\u001b[0m\u001b[0;34m\u001b[0m\u001b[0m\n\u001b[0m\u001b[1;32m    134\u001b[0m         \u001b[0;32mtry\u001b[0m\u001b[0;34m:\u001b[0m\u001b[0;34m\u001b[0m\u001b[0m\n\u001b[1;32m    135\u001b[0m             self._do_init(master, appName, sparkHome, pyFiles, environment, batchSize, serializer,\n",
      "\u001b[0;32m/usr/local/spark/python/pyspark/context.py\u001b[0m in \u001b[0;36m_ensure_initialized\u001b[0;34m(cls, instance, gateway, conf)\u001b[0m\n\u001b[1;32m    339\u001b[0m                         \u001b[0;34m\" created by %s at %s:%s \"\u001b[0m\u001b[0;34m\u001b[0m\u001b[0m\n\u001b[1;32m    340\u001b[0m                         % (currentAppName, currentMaster,\n\u001b[0;32m--> 341\u001b[0;31m                             callsite.function, callsite.file, callsite.linenum))\n\u001b[0m\u001b[1;32m    342\u001b[0m                 \u001b[0;32melse\u001b[0m\u001b[0;34m:\u001b[0m\u001b[0;34m\u001b[0m\u001b[0m\n\u001b[1;32m    343\u001b[0m                     \u001b[0mSparkContext\u001b[0m\u001b[0;34m.\u001b[0m\u001b[0m_active_spark_context\u001b[0m \u001b[0;34m=\u001b[0m \u001b[0minstance\u001b[0m\u001b[0;34m\u001b[0m\u001b[0m\n",
      "\u001b[0;31mValueError\u001b[0m: Cannot run multiple SparkContexts at once; existing SparkContext(app=jupyter, master=yarn) created by __init__ at <ipython-input-5-3835b93bac9b>:5 "
     ]
    }
   ],
   "source": [
    "import findspark\n",
    "findspark.init()\n",
    "\n",
    "import pyspark\n",
    "sc = pyspark.SparkContext(appName='jupyter')\n",
    "\n",
    "from pyspark.sql import SparkSession, Row\n",
    "se = SparkSession(sc)"
   ]
  },
  {
   "cell_type": "code",
   "execution_count": null,
   "metadata": {},
   "outputs": [
    {
     "data": {
      "text/html": [
       "<div>\n",
       "<style scoped>\n",
       "    .dataframe tbody tr th:only-of-type {\n",
       "        vertical-align: middle;\n",
       "    }\n",
       "\n",
       "    .dataframe tbody tr th {\n",
       "        vertical-align: top;\n",
       "    }\n",
       "\n",
       "    .dataframe thead th {\n",
       "        text-align: right;\n",
       "    }\n",
       "</style>\n",
       "<table border=\"1\" class=\"dataframe\">\n",
       "  <thead>\n",
       "    <tr style=\"text-align: right;\">\n",
       "      <th></th>\n",
       "      <th>artistId</th>\n",
       "      <th>artistName</th>\n",
       "    </tr>\n",
       "  </thead>\n",
       "  <tbody>\n",
       "    <tr>\n",
       "      <th>0</th>\n",
       "      <td>0</td>\n",
       "      <td>Mack Gordon</td>\n",
       "    </tr>\n",
       "    <tr>\n",
       "      <th>1</th>\n",
       "      <td>1</td>\n",
       "      <td>Kenny Dorham</td>\n",
       "    </tr>\n",
       "    <tr>\n",
       "      <th>2</th>\n",
       "      <td>2</td>\n",
       "      <td>Max Roach</td>\n",
       "    </tr>\n",
       "    <tr>\n",
       "      <th>3</th>\n",
       "      <td>3</td>\n",
       "      <td>Francis Rossi</td>\n",
       "    </tr>\n",
       "    <tr>\n",
       "      <th>4</th>\n",
       "      <td>4</td>\n",
       "      <td>Status Quo</td>\n",
       "    </tr>\n",
       "  </tbody>\n",
       "</table>\n",
       "</div>"
      ],
      "text/plain": [
       "   artistId     artistName\n",
       "0         0    Mack Gordon\n",
       "1         1   Kenny Dorham\n",
       "2         2      Max Roach\n",
       "3         3  Francis Rossi\n",
       "4         4     Status Quo"
      ]
     },
     "execution_count": 8,
     "metadata": {},
     "output_type": "execute_result"
    }
   ],
   "source": [
    "artists = se.read.json(\"hdfs:///yandex_music/artists.jsonl\")\n",
    "artists.registerTempTable(\"artists\")\n",
    "artists.limit(5).toPandas()"
   ]
  },
  {
   "cell_type": "code",
   "execution_count": null,
   "metadata": {},
   "outputs": [
    {
     "data": {
      "text/html": [
       "<div>\n",
       "<style scoped>\n",
       "    .dataframe tbody tr th:only-of-type {\n",
       "        vertical-align: middle;\n",
       "    }\n",
       "\n",
       "    .dataframe tbody tr th {\n",
       "        vertical-align: top;\n",
       "    }\n",
       "\n",
       "    .dataframe thead th {\n",
       "        text-align: right;\n",
       "    }\n",
       "</style>\n",
       "<table border=\"1\" class=\"dataframe\">\n",
       "  <thead>\n",
       "    <tr style=\"text-align: right;\">\n",
       "      <th></th>\n",
       "      <th>userId</th>\n",
       "      <th>artistId</th>\n",
       "      <th>plays</th>\n",
       "      <th>skips</th>\n",
       "    </tr>\n",
       "  </thead>\n",
       "  <tbody>\n",
       "    <tr>\n",
       "      <th>0</th>\n",
       "      <td>0</td>\n",
       "      <td>335</td>\n",
       "      <td>1</td>\n",
       "      <td>0</td>\n",
       "    </tr>\n",
       "    <tr>\n",
       "      <th>1</th>\n",
       "      <td>0</td>\n",
       "      <td>708</td>\n",
       "      <td>1</td>\n",
       "      <td>0</td>\n",
       "    </tr>\n",
       "    <tr>\n",
       "      <th>2</th>\n",
       "      <td>0</td>\n",
       "      <td>710</td>\n",
       "      <td>2</td>\n",
       "      <td>1</td>\n",
       "    </tr>\n",
       "    <tr>\n",
       "      <th>3</th>\n",
       "      <td>0</td>\n",
       "      <td>815</td>\n",
       "      <td>1</td>\n",
       "      <td>1</td>\n",
       "    </tr>\n",
       "    <tr>\n",
       "      <th>4</th>\n",
       "      <td>0</td>\n",
       "      <td>880</td>\n",
       "      <td>1</td>\n",
       "      <td>1</td>\n",
       "    </tr>\n",
       "  </tbody>\n",
       "</table>\n",
       "</div>"
      ],
      "text/plain": [
       "   userId  artistId  plays  skips\n",
       "0       0       335      1      0\n",
       "1       0       708      1      0\n",
       "2       0       710      2      1\n",
       "3       0       815      1      1\n",
       "4       0       880      1      1"
      ]
     },
     "execution_count": 9,
     "metadata": {},
     "output_type": "execute_result"
    }
   ],
   "source": [
    "events = se.read.csv(\"hdfs:///yandex_music/events.csv\", header=True, \n",
    "                     schema='userId bigint, artistId bigint, plays INT, skips INT')\n",
    "events.registerTempTable(\"events\")\n",
    "events.limit(5).toPandas()"
   ]
  },
  {
   "cell_type": "code",
   "execution_count": null,
   "metadata": {},
   "outputs": [
    {
     "name": "stdout",
     "output_type": "stream",
     "text": [
      "+------+--------+-----+-----+\n",
      "|userId|artistId|plays|skips|\n",
      "+------+--------+-----+-----+\n",
      "|     0|     335|    1|    0|\n",
      "+------+--------+-----+-----+\n",
      "only showing top 1 row\n",
      "\n"
     ]
    }
   ],
   "source": [
    "events.show(1)"
   ]
  },
  {
   "cell_type": "markdown",
   "metadata": {},
   "source": [
    "# Фильтруем"
   ]
  },
  {
   "cell_type": "markdown",
   "metadata": {},
   "source": [
    "Выделим артистов с > 50 человек"
   ]
  },
  {
   "cell_type": "code",
   "execution_count": null,
   "metadata": {},
   "outputs": [],
   "source": [
    "n = 50\n",
    "\n",
    "popular_artists = se.sql(f\"\"\"\n",
    "    select artistId, count(distinct userId) as users, sum(plays) as total_plays\n",
    "    from events\n",
    "    where plays > 2\n",
    "    group by artistId\n",
    "    having users > {n}\n",
    "\"\"\"\n",
    ")\n",
    "\n",
    "popular_artists.registerTempTable(\"popular_artists\")"
   ]
  },
  {
   "cell_type": "code",
   "execution_count": null,
   "metadata": {},
   "outputs": [
    {
     "name": "stdout",
     "output_type": "stream",
     "text": [
      "+--------+-----+-----------+\n",
      "|artistId|users|total_plays|\n",
      "+--------+-----+-----------+\n",
      "|   10156|  874|      11483|\n",
      "|   11434|  114|       1431|\n",
      "|   23019|   90|       1218|\n",
      "|   28078|  332|       3337|\n",
      "|   21899|   73|        308|\n",
      "+--------+-----+-----------+\n",
      "only showing top 5 rows\n",
      "\n"
     ]
    }
   ],
   "source": [
    "popular_artists.show(5)"
   ]
  },
  {
   "cell_type": "markdown",
   "metadata": {},
   "source": [
    "Отфильтруем данные по ним"
   ]
  },
  {
   "cell_type": "code",
   "execution_count": null,
   "metadata": {},
   "outputs": [],
   "source": [
    "filtered_data = se.sql(\n",
    "f\"\"\"\n",
    "select \n",
    "    userId,\n",
    "    e.artistId,\n",
    "    plays\n",
    "from events as e\n",
    "join popular_artists pa on e.artistId = pa.artistId\n",
    "where plays > 2\n",
    "and pa.users > {n}\n",
    "\"\"\")\n",
    "\n",
    "filtered_data.registerTempTable(\"popular_data\")"
   ]
  },
  {
   "cell_type": "markdown",
   "metadata": {},
   "source": [
    "# IOU"
   ]
  },
  {
   "cell_type": "code",
   "execution_count": null,
   "metadata": {},
   "outputs": [],
   "source": [
    "def calc_iou(pow_a: int, pow_b: int, pow_intersect: int) -> float:\n",
    "    union = pow_a + pow_b - pow_intersect\n",
    "    if union == 0:\n",
    "        return 0\n",
    "    return pow_intersect / union"
   ]
  },
  {
   "cell_type": "markdown",
   "metadata": {},
   "source": [
    "## Посчитаем на подвыборке"
   ]
  },
  {
   "cell_type": "code",
   "execution_count": null,
   "metadata": {},
   "outputs": [
    {
     "data": {
      "text/plain": [
       "DataFrame[userId: bigint, artistId: bigint, plays: int]"
      ]
     },
     "execution_count": 209,
     "metadata": {},
     "output_type": "execute_result"
    }
   ],
   "source": [
    "filtered_data.persist()"
   ]
  },
  {
   "cell_type": "code",
   "execution_count": null,
   "metadata": {},
   "outputs": [
    {
     "data": {
      "text/plain": [
       "[Row(userId=24, artistId=1806, plays=5),\n",
       " Row(userId=103, artistId=1806, plays=3),\n",
       " Row(userId=109, artistId=1806, plays=9),\n",
       " Row(userId=152, artistId=1806, plays=5),\n",
       " Row(userId=199, artistId=1806, plays=17)]"
      ]
     },
     "execution_count": 237,
     "metadata": {},
     "output_type": "execute_result"
    }
   ],
   "source": [
    "filtered_data.take(5)"
   ]
  },
  {
   "cell_type": "code",
   "execution_count": null,
   "metadata": {},
   "outputs": [],
   "source": [
    "filtered_sample = filtered_data.sample(False, 0.05)"
   ]
  },
  {
   "cell_type": "code",
   "execution_count": null,
   "metadata": {},
   "outputs": [],
   "source": [
    "users_artists = (\n",
    "filtered_sample.rdd\n",
    "    .map(lambda x: (x.userId, (x.artistId, x.plays)))\n",
    "    .groupByKey()\n",
    "    .map(lambda x: (x[0], list(x[1])))    \n",
    ")"
   ]
  },
  {
   "cell_type": "markdown",
   "metadata": {},
   "source": [
    "Посмотрим на корректность"
   ]
  },
  {
   "cell_type": "code",
   "execution_count": null,
   "metadata": {},
   "outputs": [
    {
     "data": {
      "text/plain": [
       "[(2848,\n",
       "  [(21042, 18), (1120, 3), (12819, 7), (8202, 9), (13585, 3), (42408, 28)])]"
      ]
     },
     "execution_count": 41,
     "metadata": {},
     "output_type": "execute_result"
    }
   ],
   "source": [
    "users_artists.take(1)"
   ]
  },
  {
   "cell_type": "code",
   "execution_count": null,
   "metadata": {},
   "outputs": [
    {
     "data": {
      "text/plain": [
       "[Row(userId=2848, artistId=13585, plays=3),\n",
       " Row(userId=2848, artistId=21042, plays=18),\n",
       " Row(userId=2848, artistId=42408, plays=28),\n",
       " Row(userId=2848, artistId=1120, plays=3),\n",
       " Row(userId=2848, artistId=8202, plays=9),\n",
       " Row(userId=2848, artistId=12819, plays=7)]"
      ]
     },
     "execution_count": 43,
     "metadata": {},
     "output_type": "execute_result"
    }
   ],
   "source": [
    "filtered_sample.where('userId=2848').take(20)"
   ]
  },
  {
   "cell_type": "markdown",
   "metadata": {},
   "source": [
    "## Преобразуем данные в новые ключи и посчитаем пересечения"
   ]
  },
  {
   "cell_type": "code",
   "execution_count": null,
   "metadata": {},
   "outputs": [],
   "source": [
    "from itertools import combinations, combinations_with_replacement\n",
    "\n",
    "def get_artists_pairs(l: list):\n",
    "    pairs = combinations(l, 2)\n",
    "    keys = []\n",
    "    \n",
    "    for pair in pairs:\n",
    "        key_one, val_one = pair[0]\n",
    "        key_two, val_two = pair[1]\n",
    "        keys.append((tuple(sorted((key_one, key_two))), 1))\n",
    "    \n",
    "    return keys"
   ]
  },
  {
   "cell_type": "code",
   "execution_count": null,
   "metadata": {},
   "outputs": [],
   "source": [
    "from operator import add\n",
    "\n",
    "artists_intersections = ( \n",
    "    users_artists\n",
    "    .flatMap(lambda x: get_artists_pairs(x[1]))\n",
    "    .reduceByKey(add)\n",
    "    .collect()\n",
    ")"
   ]
  },
  {
   "cell_type": "code",
   "execution_count": null,
   "metadata": {},
   "outputs": [],
   "source": [
    "artists_intersections = {key : val for key, val in artists_intersections}"
   ]
  },
  {
   "cell_type": "markdown",
   "metadata": {},
   "source": [
    "## Посчитаем мощности"
   ]
  },
  {
   "cell_type": "code",
   "execution_count": null,
   "metadata": {},
   "outputs": [],
   "source": [
    "artists_plays = se.sql(\n",
    "\"\"\"\n",
    "    select artistId, users, total_plays\n",
    "    from popular_artists\n",
    "\"\"\"\n",
    ").toPandas()"
   ]
  },
  {
   "cell_type": "code",
   "execution_count": null,
   "metadata": {},
   "outputs": [],
   "source": [
    "artists_unions = {}\n",
    "for data in artists_plays.iterrows():\n",
    "    row = data[1]\n",
    "    artists_unions[row.artistId] = row.users"
   ]
  },
  {
   "cell_type": "markdown",
   "metadata": {},
   "source": [
    "## Перейдем к полным данным"
   ]
  },
  {
   "cell_type": "code",
   "execution_count": null,
   "metadata": {},
   "outputs": [],
   "source": [
    "users_artists_full = (\n",
    "filtered_data.rdd\n",
    "    .map(lambda x: (x.userId, (x.artistId, x.plays)))\n",
    "    .groupByKey()\n",
    "    .map(lambda x: (x[0], list(x[1])))\n",
    ")"
   ]
  },
  {
   "cell_type": "code",
   "execution_count": null,
   "metadata": {},
   "outputs": [],
   "source": [
    "artists_intersections_full = ( \n",
    "    users_artists_full\n",
    "    .flatMap(lambda x: get_artists_pairs(x[1]))\n",
    "    .reduceByKey(add)\n",
    "    .collect()\n",
    ")\n",
    "\n",
    "artists_intersections_full = {key : val for key, val in artists_intersections_full}"
   ]
  },
  {
   "cell_type": "code",
   "execution_count": null,
   "metadata": {},
   "outputs": [],
   "source": [
    "ious = {}\n",
    "\n",
    "for key, val in artists_intersections_full.items():\n",
    "    a, b = key\n",
    "    ious[key] = calc_iou(artists_unions[a], artists_unions[b], val)"
   ]
  },
  {
   "cell_type": "markdown",
   "metadata": {},
   "source": [
    "# Answers"
   ]
  },
  {
   "cell_type": "markdown",
   "metadata": {},
   "source": [
    "**Сколько исполнителей остаются в рассмотрении после применения всех фильтров из описания задания?**"
   ]
  },
  {
   "cell_type": "code",
   "execution_count": null,
   "metadata": {},
   "outputs": [],
   "source": [
    "artists_answer = se.sql(\n",
    "\"\"\"\n",
    "    select pa.artistId, artistName, users\n",
    "    from popular_artists pa\n",
    "    left join artists using(artistId) \n",
    "\"\"\"\n",
    ").toPandas()"
   ]
  },
  {
   "cell_type": "code",
   "execution_count": null,
   "metadata": {},
   "outputs": [
    {
     "data": {
      "text/plain": [
       "(2889,)"
      ]
     },
     "execution_count": 287,
     "metadata": {},
     "output_type": "execute_result"
    }
   ],
   "source": [
    "artists_answer.artistId.unique().shape"
   ]
  },
  {
   "cell_type": "markdown",
   "metadata": {},
   "source": [
    "**Для скольких пар исполнителей удалось насчитать ненулевую похожесть по Жаккару? Здесь учитываются всевозможные пары (a, b) и (b, a), а также (a, a), для проверки корректности.**"
   ]
  },
  {
   "cell_type": "code",
   "execution_count": null,
   "metadata": {
    "tags": []
   },
   "outputs": [
    {
     "data": {
      "text/plain": [
       "3417845"
      ]
     },
     "execution_count": 307,
     "metadata": {},
     "output_type": "execute_result"
    }
   ],
   "source": [
    "len([val for val in ious.values() if val > 0])"
   ]
  },
  {
   "cell_type": "markdown",
   "metadata": {},
   "source": [
    "**Найдите 5 самых похожих исполнителей на \"Maroon 5\" по посчитанной мере Жаккара. В результат запишите имена 5 исполнителей отличных от \"Maroon 5\".**"
   ]
  },
  {
   "cell_type": "code",
   "execution_count": null,
   "metadata": {},
   "outputs": [
    {
     "data": {
      "text/html": [
       "<div>\n",
       "<style scoped>\n",
       "    .dataframe tbody tr th:only-of-type {\n",
       "        vertical-align: middle;\n",
       "    }\n",
       "\n",
       "    .dataframe tbody tr th {\n",
       "        vertical-align: top;\n",
       "    }\n",
       "\n",
       "    .dataframe thead th {\n",
       "        text-align: right;\n",
       "    }\n",
       "</style>\n",
       "<table border=\"1\" class=\"dataframe\">\n",
       "  <thead>\n",
       "    <tr style=\"text-align: right;\">\n",
       "      <th></th>\n",
       "      <th>artistId</th>\n",
       "      <th>artistName</th>\n",
       "      <th>users</th>\n",
       "    </tr>\n",
       "  </thead>\n",
       "  <tbody>\n",
       "    <tr>\n",
       "      <th>1490</th>\n",
       "      <td>14803</td>\n",
       "      <td>Maroon 5</td>\n",
       "      <td>919</td>\n",
       "    </tr>\n",
       "  </tbody>\n",
       "</table>\n",
       "</div>"
      ],
      "text/plain": [
       "      artistId artistName  users\n",
       "1490     14803   Maroon 5    919"
      ]
     },
     "execution_count": 291,
     "metadata": {},
     "output_type": "execute_result"
    }
   ],
   "source": [
    "band_name = \"Maroon 5\"\n",
    "artists_answer.query(f'artistName == \"{band_name}\"')"
   ]
  },
  {
   "cell_type": "code",
   "execution_count": null,
   "metadata": {},
   "outputs": [],
   "source": [
    "band_id = 14803"
   ]
  },
  {
   "cell_type": "code",
   "execution_count": null,
   "metadata": {},
   "outputs": [],
   "source": [
    "band_ious = [(key, val) for key, val in ious.items() if band_id in key]"
   ]
  },
  {
   "cell_type": "code",
   "execution_count": null,
   "metadata": {},
   "outputs": [],
   "source": [
    "from operator import itemgetter\n",
    "\n",
    "best_band_ious = sorted(band_ious, key=itemgetter(1), reverse=True)[:10]"
   ]
  },
  {
   "cell_type": "code",
   "execution_count": null,
   "metadata": {},
   "outputs": [
    {
     "data": {
      "text/plain": [
       "[((3568, 14803), 0.33197556008146639),\n",
       " ((3629, 14803), 0.31266017426960535),\n",
       " ((259, 14803), 0.29184782608695653),\n",
       " ((14803, 22629), 0.28674481514878269),\n",
       " ((14803, 59783), 0.28589032655576091),\n",
       " ((11368, 14803), 0.28221597751906863),\n",
       " ((14803, 64627), 0.27981995498874718),\n",
       " ((404, 14803), 0.27945619335347432),\n",
       " ((14803, 70542), 0.27321981424148606),\n",
       " ((4073, 14803), 0.26656025538707101)]"
      ]
     },
     "execution_count": 295,
     "metadata": {},
     "output_type": "execute_result"
    }
   ],
   "source": [
    "best_band_ious"
   ]
  },
  {
   "cell_type": "code",
   "execution_count": null,
   "metadata": {},
   "outputs": [],
   "source": [
    "band_mates = [key for data in best_band_ious for key in data[0] if key != band_id]"
   ]
  },
  {
   "cell_type": "code",
   "execution_count": null,
   "metadata": {},
   "outputs": [
    {
     "data": {
      "text/plain": [
       "[3568, 3629, 259, 22629, 59783, 11368, 64627, 404, 70542, 4073]"
      ]
     },
     "execution_count": 297,
     "metadata": {},
     "output_type": "execute_result"
    }
   ],
   "source": [
    "band_mates"
   ]
  },
  {
   "cell_type": "code",
   "execution_count": null,
   "metadata": {},
   "outputs": [
    {
     "data": {
      "text/html": [
       "<div>\n",
       "<style scoped>\n",
       "    .dataframe tbody tr th:only-of-type {\n",
       "        vertical-align: middle;\n",
       "    }\n",
       "\n",
       "    .dataframe tbody tr th {\n",
       "        vertical-align: top;\n",
       "    }\n",
       "\n",
       "    .dataframe thead th {\n",
       "        text-align: right;\n",
       "    }\n",
       "</style>\n",
       "<table border=\"1\" class=\"dataframe\">\n",
       "  <thead>\n",
       "    <tr style=\"text-align: right;\">\n",
       "      <th></th>\n",
       "      <th>artistName</th>\n",
       "      <th>users</th>\n",
       "    </tr>\n",
       "    <tr>\n",
       "      <th>artistId</th>\n",
       "      <th></th>\n",
       "      <th></th>\n",
       "    </tr>\n",
       "  </thead>\n",
       "  <tbody>\n",
       "    <tr>\n",
       "      <th>3568</th>\n",
       "      <td>OneRepublic</td>\n",
       "      <td>1043</td>\n",
       "    </tr>\n",
       "    <tr>\n",
       "      <th>3629</th>\n",
       "      <td>Sia</td>\n",
       "      <td>1642</td>\n",
       "    </tr>\n",
       "    <tr>\n",
       "      <th>259</th>\n",
       "      <td>David Guetta</td>\n",
       "      <td>1458</td>\n",
       "    </tr>\n",
       "    <tr>\n",
       "      <th>22629</th>\n",
       "      <td>Bruno Mars</td>\n",
       "      <td>508</td>\n",
       "    </tr>\n",
       "    <tr>\n",
       "      <th>59783</th>\n",
       "      <td>Calvin Harris</td>\n",
       "      <td>1168</td>\n",
       "    </tr>\n",
       "    <tr>\n",
       "      <th>11368</th>\n",
       "      <td>Imagine Dragons</td>\n",
       "      <td>2275</td>\n",
       "    </tr>\n",
       "    <tr>\n",
       "      <th>64627</th>\n",
       "      <td>Ed Sheeran</td>\n",
       "      <td>787</td>\n",
       "    </tr>\n",
       "    <tr>\n",
       "      <th>404</th>\n",
       "      <td>Coldplay</td>\n",
       "      <td>775</td>\n",
       "    </tr>\n",
       "    <tr>\n",
       "      <th>70542</th>\n",
       "      <td>Sam Smith</td>\n",
       "      <td>726</td>\n",
       "    </tr>\n",
       "    <tr>\n",
       "      <th>4073</th>\n",
       "      <td>Katy Perry</td>\n",
       "      <td>668</td>\n",
       "    </tr>\n",
       "  </tbody>\n",
       "</table>\n",
       "</div>"
      ],
      "text/plain": [
       "               artistName  users\n",
       "artistId                        \n",
       "3568          OneRepublic   1043\n",
       "3629                  Sia   1642\n",
       "259          David Guetta   1458\n",
       "22629          Bruno Mars    508\n",
       "59783       Calvin Harris   1168\n",
       "11368     Imagine Dragons   2275\n",
       "64627          Ed Sheeran    787\n",
       "404              Coldplay    775\n",
       "70542           Sam Smith    726\n",
       "4073           Katy Perry    668"
      ]
     },
     "execution_count": 298,
     "metadata": {},
     "output_type": "execute_result"
    }
   ],
   "source": [
    "artists_answer.set_index('artistId').loc[band_mates]"
   ]
  },
  {
   "cell_type": "markdown",
   "metadata": {},
   "source": [
    "**Пишем ответ**"
   ]
  },
  {
   "cell_type": "code",
   "execution_count": null,
   "metadata": {},
   "outputs": [
    {
     "name": "stdout",
     "output_type": "stream",
     "text": [
      "Overwriting result.json\n"
     ]
    }
   ],
   "source": [
    "%%writefile result.json\n",
    "{\n",
    "    \"q1\": 2889,\n",
    "    \"q2\": 3417845,\n",
    "    \"q3\": [\n",
    "        \"OneRepublic\",\n",
    "        \"Sia\",\n",
    "        \"David Guetta\",\n",
    "        \"Bruno Mars\",\n",
    "        \"Calvin Harris\"\n",
    "    ]\n",
    "}"
   ]
  },
  {
   "cell_type": "code",
   "execution_count": null,
   "metadata": {},
   "outputs": [],
   "source": [
    "# останавливаем Spark (и YARN приложение)\n",
    "# sc.stop()"
   ]
  }
 ],
 "metadata": {
  "coursera": {
   "schema_names": [
    "lab-task-5a2a5e"
   ]
  },
  "kernelspec": {
   "display_name": "Python 3 (ipykernel)",
   "language": "python",
   "name": "python3"
  },
  "language_info": {
   "codemirror_mode": {
    "name": "ipython",
    "version": 3
   },
   "file_extension": ".py",
   "mimetype": "text/x-python",
   "name": "python",
   "nbconvert_exporter": "python",
   "pygments_lexer": "ipython3",
   "version": "3.9.12"
  }
 },
 "nbformat": 4,
 "nbformat_minor": 4
}

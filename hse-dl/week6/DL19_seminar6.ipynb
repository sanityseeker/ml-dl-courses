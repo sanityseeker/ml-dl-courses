{
 "cells": [
  {
   "cell_type": "markdown",
   "metadata": {
    "colab_type": "text",
    "id": "ozLuJF3kIaPF"
   },
   "source": [
    "# Генерация коротких текстов с помощью RNN\n",
    "\n",
    "\n",
    "Генерировать тексты можно с помощью RNN, предсказывающей следующий символ последовательности по предыдущим.\n",
    "\n",
    "В этом задании предлагается написать и проучить на небольшом датасете имен [генеративную модель на основе символов -- Char-RNN](http://karpathy.github.io/2015/05/21/rnn-effectiveness/).\n",
    "\n",
    "![charseq](./charseq.jpeg)\n",
    "Картинка взята из [статьи Karpathy](http://karpathy.github.io/2015/05/21/rnn-effectiveness/)"
   ]
  },
  {
   "cell_type": "code",
   "execution_count": 1,
   "metadata": {
    "colab": {},
    "colab_type": "code",
    "id": "a_s_Z5lbIaPG"
   },
   "outputs": [],
   "source": [
    "import numpy as np\n",
    "import matplotlib.pyplot as plt\n",
    "import random\n",
    "import torch\n",
    "%matplotlib inline\n",
    "\n",
    "random.seed(42)\n",
    "np.random.seed(42)\n",
    "torch.manual_seed(42)\n",
    "if torch.cuda.is_available():\n",
    "    torch.cuda.manual_seed_all(42)"
   ]
  },
  {
   "cell_type": "markdown",
   "metadata": {
    "colab_type": "text",
    "id": "n6nXxU8WIaPM"
   },
   "source": [
    "В файле `names` находится ~8k имен на латинице.\n",
    "\n",
    "Модель будет получать на вход имя `Amandy` и выдавать его же, только со сдвигом: `mandy `.\n",
    "\n",
    "Чтобы сеть училась генерировать заглавные буквы, добавим в начало специальный токен, пробел:\n",
    "```\n",
    "_Amandy --> Amandy_\n",
    "```\n",
    "\n",
    "Для практического использования, на каждом шаге будем подавать на вход букву, предсказанную на предыдущем.\n",
    "Так что нам потребуется правило для останова генерации (это может быть просто ограничение на количество шагов).\n",
    "С другой стороны, можно добавить в конец каждого примера обучающей выборки специальный `<EOS>` токен. В данном случае обозначим его `#`:\n",
    "\n",
    "```\n",
    "_Amandy --> Amandy#\n",
    "```\n",
    "\n",
    "Будем прекращать генерацию при досрочном выпадании `<EOS>`."
   ]
  },
  {
   "cell_type": "code",
   "execution_count": 2,
   "metadata": {
    "colab": {},
    "colab_type": "code",
    "id": "TFRHva2zIaPN"
   },
   "outputs": [
    {
     "name": "stdout",
     "output_type": "stream",
     "text": [
      "There are 7578 names: \n",
      " Collin#\n",
      " Priscella#\n",
      " Claribel#\n",
      " Chloette#\n",
      " Katey#\n",
      " Margareta#\n",
      " Gilberte#\n",
      " Mohamed#\n"
     ]
    }
   ],
   "source": [
    "import os\n",
    "start_token = \" \"\n",
    "eos = '#'\n",
    "\n",
    "with open(\"names\") as f:\n",
    "    names = f.readlines()\n",
    "    names = [start_token + name.strip() + eos for name in names]\n",
    "\n",
    "names = list(set(names))  # в датасете есть повторы\n",
    "print('There are {} names: '.format(len(names)))\n",
    "for x in names[::1000]:\n",
    "    print(x)"
   ]
  },
  {
   "cell_type": "code",
   "execution_count": 3,
   "metadata": {
    "colab": {},
    "colab_type": "code",
    "id": "RizB5cBTIaPP"
   },
   "outputs": [],
   "source": [
    "from collections import defaultdict\n",
    "import string"
   ]
  },
  {
   "cell_type": "code",
   "execution_count": 4,
   "metadata": {
    "colab": {},
    "colab_type": "code",
    "id": "DSve0HBaIaPS"
   },
   "outputs": [
    {
     "name": "stdout",
     "output_type": "stream",
     "text": [
      "defaultdict(<class 'int'>, {'c': 1264, 'o': 2207, 'l': 3608, 'i': 4041, 'n': 3932, 's': 1922, 'h': 1343, 'e': 5873, 'a': 6049, 'm': 1366, 'y': 1305, 'x': 69, 'd': 1679, 'r': 3709, 't': 2178, 'g': 756, 'p': 409, 'w': 347, 'f': 440, 'u': 805, 'b': 904, 'k': 625, 'z': 176, 'j': 459, 'v': 465, 'q': 57})\n"
     ]
    },
    {
     "data": {
      "image/png": "[encoded data removed]",
      "text/plain": [
       "<Figure size 1152x576 with 1 Axes>"
      ]
     },
     "metadata": {
      "needs_background": "light"
     },
     "output_type": "display_data"
    }
   ],
   "source": [
    "# TODO: постройте частоты употреблений букв\n",
    "# <your code>\n",
    "freqs = defaultdict(int)\n",
    "\n",
    "for name in names:\n",
    "    for symbol in name:\n",
    "        if symbol in set(string.ascii_letters):\n",
    "            freqs[symbol.lower()] += 1\n",
    "# HINT: для графика возьмите plt.bar\n",
    "\n",
    "print(freqs)\n",
    "plt.figure(figsize=(16, 8))\n",
    "plt.title('letters freqs')\n",
    "plt.bar(freqs.keys(), freqs.values())\n",
    "plt.grid()"
   ]
  },
  {
   "cell_type": "code",
   "execution_count": 5,
   "metadata": {
    "colab": {},
    "colab_type": "code",
    "id": "QAeSKss4IaPV"
   },
   "outputs": [
    {
     "name": "stdout",
     "output_type": "stream",
     "text": [
      "max length = 17\n"
     ]
    },
    {
     "data": {
      "image/png": "[encoded data removed]",
      "text/plain": [
       "<Figure size 432x288 with 1 Axes>"
      ]
     },
     "metadata": {
      "needs_background": "light"
     },
     "output_type": "display_data"
    }
   ],
   "source": [
    "# датасете есть слова с разными длинами\n",
    "MAX_LENGTH = max(map(len,names))\n",
    "print(\"max length =\", MAX_LENGTH)\n",
    "\n",
    "plt.title('Sequence length distribution')\n",
    "plt.hist(list(map(len,names)), bins=25);"
   ]
  },
  {
   "cell_type": "code",
   "execution_count": 6,
   "metadata": {
    "colab": {},
    "colab_type": "code",
    "id": "cWnDPWr9IaPY"
   },
   "outputs": [
    {
     "data": {
      "text/plain": [
       "[' Collin#',\n",
       " ' Lishe#',\n",
       " ' Naoma#',\n",
       " ' Sloan#',\n",
       " ' Holly#',\n",
       " ' Maxy#',\n",
       " ' Dorit#',\n",
       " ' Glenna#',\n",
       " ' Alpa#',\n",
       " ' Wolfy#']"
      ]
     },
     "execution_count": 6,
     "metadata": {},
     "output_type": "execute_result"
    }
   ],
   "source": [
    "names[:10]"
   ]
  },
  {
   "cell_type": "code",
   "execution_count": 7,
   "metadata": {
    "colab": {},
    "colab_type": "code",
    "id": "zgB0VE9BIaPa"
   },
   "outputs": [
    {
     "name": "stdout",
     "output_type": "stream",
     "text": [
      "There are 56 tokens\n",
      "Vocabular:  #'-ABCDEFGHIJKLMNOPQRSTUVWXYZabcdefghijklmnopqrstuvwxyz\n"
     ]
    }
   ],
   "source": [
    "# TODO: отберите уникальные токены и заполните два словаря для конвертации токенов <-> индексы\n",
    "# сделайте так, чтобы пробел имел номер 0\n",
    "    \n",
    "tokens = sorted(list(set.union(*[set(name) for name in names])))\n",
    "\n",
    "tok2id = dict(zip(tokens, np.arange(len(tokens))))\n",
    "id2tok = dict(enumerate(tokens))\n",
    "\n",
    "n_tokens = len(tokens)\n",
    "print (f'There are {n_tokens} tokens')\n",
    "\n",
    "assert 50 < n_tokens < 60\n",
    "\n",
    "print('Vocabular: ' + \"\".join(tokens))"
   ]
  },
  {
   "cell_type": "code",
   "execution_count": 8,
   "metadata": {
    "colab": {},
    "colab_type": "code",
    "id": "jF_ukJotIaPd"
   },
   "outputs": [],
   "source": [
    "def to_matrix(names, max_len=None, pad=tok2id[' '], dtype=np.int64):\n",
    "    \"\"\"Casts a list of names into rnn-digestable matrix\"\"\"\n",
    "    \n",
    "    max_len = max_len or max(map(len, names))\n",
    "    names_ix = np.zeros([len(names), max_len], dtype) + pad\n",
    "\n",
    "    for i in range(len(names)):\n",
    "        name_ix = list(map(tok2id.get, names[i]))\n",
    "        names_ix[i, :len(name_ix)] = name_ix\n",
    "\n",
    "    return names_ix"
   ]
  },
  {
   "cell_type": "code",
   "execution_count": 9,
   "metadata": {
    "colab": {},
    "colab_type": "code",
    "id": "wmg_il5MIaPg"
   },
   "outputs": [
    {
     "name": "stdout",
     "output_type": "stream",
     "text": [
      " Collin#\n",
      " Lishe#\n",
      " Naoma#\n",
      " Sloan#\n",
      " Holly#\n",
      " Maxy#\n",
      " Dorit#\n",
      " Glenna#\n",
      " Alpa#\n",
      " Wolfy#\n",
      "[[ 0  6 44 41 41 38 43  1]\n",
      " [ 0 15 38 48 37 34  1  0]\n",
      " [ 0 17 30 44 42 30  1  0]\n",
      " [ 0 22 41 44 30 43  1  0]\n",
      " [ 0 11 44 41 41 54  1  0]\n",
      " [ 0 16 30 53 54  1  0  0]\n",
      " [ 0  7 44 47 38 49  1  0]\n",
      " [ 0 10 41 34 43 43 30  1]\n",
      " [ 0  4 41 45 30  1  0  0]\n",
      " [ 0 26 44 41 35 54  1  0]]\n"
     ]
    }
   ],
   "source": [
    "print('\\n'.join(names[:10]))\n",
    "print(to_matrix(names[:10]))"
   ]
  },
  {
   "cell_type": "code",
   "execution_count": 10,
   "metadata": {},
   "outputs": [],
   "source": [
    "from sklearn.model_selection import train_test_split"
   ]
  },
  {
   "cell_type": "code",
   "execution_count": 11,
   "metadata": {
    "colab": {},
    "colab_type": "code",
    "id": "64C8xOqCIaPk"
   },
   "outputs": [
    {
     "data": {
      "text/plain": [
       "(6062, 1516)"
      ]
     },
     "execution_count": 11,
     "metadata": {},
     "output_type": "execute_result"
    }
   ],
   "source": [
    "# TODO: разбейте все имена на тренировочную (80%) и тестовую часть (20%)\n",
    "# <your code>\n",
    "split_data = lambda x : train_test_split(x, test_size=0.2)\n",
    "\n",
    "train_data, val_data = split_data(names)\n",
    "\n",
    "len(train_data), len(val_data)"
   ]
  },
  {
   "cell_type": "code",
   "execution_count": 12,
   "metadata": {
    "colab": {},
    "colab_type": "code",
    "id": "mfGnm2QoIaPo"
   },
   "outputs": [],
   "source": [
    "import torch\n",
    "import torch.nn as nn\n",
    "from torch.nn import functional as F\n",
    "from torch import optim\n",
    "from IPython.display import clear_output"
   ]
  },
  {
   "cell_type": "markdown",
   "metadata": {
    "colab_type": "text",
    "id": "NhgqoEHOIaPr"
   },
   "source": [
    "# Char-RNN для имен (0.2 балла)\n",
    "\n",
    "Вам нужно написать сеть, кодирующую номера входных символов с помощью таблицы Embeddings. \n",
    "Получившиеся тензоры пропустить через RNN ячейку, затем преобразовать в логиты для предсказания номера нового символа."
   ]
  },
  {
   "cell_type": "code",
   "execution_count": 13,
   "metadata": {
    "colab": {},
    "colab_type": "code",
    "id": "KJCf0LYIIaPt"
   },
   "outputs": [],
   "source": [
    "# NB: обратите внимание на порядок осей при вызове forward\n",
    "# http://pytorch.org/docs/master/nn.html#recurrent-layers\n",
    "\n",
    "# Сделайте возможность выбора типа ячейки, RNN, GRU или LSTM\n",
    "# TODO: заполните пропуски. Функция forward будет вызываться на каждый шаг нами\n",
    "\n",
    "class NameRNN(nn.Module):\n",
    "    def __init__(self, vocab_size, hidden_size, output_size, cell=\"rnn\", n_layers=1):\n",
    "        super(NameRNN, self).__init__()\n",
    "        # добавьте возможность выбрать тип ячейки RNN/LSTM\n",
    "        self.vocab_size = vocab_size\n",
    "        self.hidden_size = hidden_size\n",
    "        self.output_size = output_size\n",
    "        self.n_layers = n_layers\n",
    "        self.cell = cell\n",
    "        \n",
    "#         <your code>\n",
    "\n",
    "        self.encoder = nn.Embedding(vocab_size, hidden_size)\n",
    "\n",
    "        if self.cell == \"rnn\":\n",
    "            self.rnn = nn.RNN(hidden_size, hidden_size, n_layers, batch_first=True)\n",
    "        elif self.cell == \"gru\":\n",
    "            self.rnn = nn.GRU(hidden_size, hidden_size, n_layers, batch_first=True)\n",
    "        elif self.cell == \"lstm\":\n",
    "            self.rnn = nn.LSTM(hidden_size, hidden_size, n_layers, batch_first=True)\n",
    "            \n",
    "        self.decoder = nn.Linear(hidden_size, output_size)\n",
    "        \n",
    "    def forward(self, input, hidden):\n",
    "#         print(input.shape)\n",
    "#         input = torch.from_numpy(input)\n",
    "        encoded = self.encoder(input)\n",
    "        output, hidden = self.rnn(encoded, hidden)\n",
    "#         print(output.shape)\n",
    "        output = self.decoder(output)\n",
    "        \n",
    "        return output, hidden\n",
    "\n",
    "    def init_hidden(self, batch_size):\n",
    "        if self.cell == \"lstm\":\n",
    "            return (torch.zeros(self.n_layers, batch_size, self.hidden_size, requires_grad=True),\n",
    "                    torch.zeros(self.n_layers, batch_size, self.hidden_size, requires_grad=True))\n",
    "        \n",
    "        return torch.zeros(self.n_layers, batch_size, self.hidden_size, requires_grad=True)"
   ]
  },
  {
   "cell_type": "markdown",
   "metadata": {
    "colab_type": "text",
    "id": "BmkgMHc8IaPu"
   },
   "source": [
    "# Код для тренировки RNN (0.2 балла)"
   ]
  },
  {
   "cell_type": "code",
   "execution_count": 14,
   "metadata": {
    "colab": {},
    "colab_type": "code",
    "id": "S164svO9IaPw"
   },
   "outputs": [],
   "source": [
    "def train_epoch(model, optimizer, train_batches):\n",
    "    loss_log = []\n",
    "    model.train()\n",
    "    \n",
    "    for batch in train_batches:\n",
    "        # можно вынести подсчет ошибки в модельку\n",
    "        \n",
    "        nums = torch.from_numpy(to_matrix(batch))\n",
    "#         <your code>\n",
    "\n",
    "        optimizer.zero_grad()\n",
    "        output, _ = model(nums[:, :-1], model.init_hidden(nums.shape[0]))\n",
    "        \n",
    "        criterion = nn.CrossEntropyLoss()\n",
    "#         print(output.view(-1, output.size(2)), output.view(-1, output.size(2)).shape)\n",
    "#         print(nums[:, 1:].contiguous().view(-1), nums[:, 1:].contiguous().view(-1).shape)\n",
    "        \n",
    "        loss = criterion(output.view(-1, output.size(2)), nums[:, 1:].contiguous().view(-1))\n",
    "        \n",
    "        loss.backward()\n",
    "        optimizer.step()\n",
    "            \n",
    "        loss = loss.item()\n",
    "        loss_log.append(loss)\n",
    "    return loss_log   \n",
    "\n",
    "def test(model, test_batches):\n",
    "    loss_log = []\n",
    "    model.eval()\n",
    "    for batch in test_batches:  \n",
    "        \n",
    "        nums = torch.from_numpy(to_matrix(batch))\n",
    "#         <your code>\n",
    "        \n",
    "        output, _ = model(nums[:, :-1], model.init_hidden(nums.shape[0]))\n",
    "        \n",
    "        criterion = nn.CrossEntropyLoss()\n",
    "\n",
    "        loss = criterion(output.view(-1, output.size(2)), nums[:, 1:].contiguous().view(-1))\n",
    "        \n",
    "        loss = loss.item()\n",
    "        loss_log.append(loss)\n",
    "    return loss_log\n",
    "\n",
    "def plot_history(train_history, val_history, title='loss'):\n",
    "    plt.figure()\n",
    "    plt.title('{}'.format(title))\n",
    "    plt.plot(train_history, label='train', zorder=1)    \n",
    "    points = np.array(val_history)\n",
    "    plt.scatter(points[:, 0], points[:, 1], marker='+', s=180, c='orange', label='val', zorder=2)\n",
    "    plt.xlabel('train steps')\n",
    "    plt.legend(loc='best')\n",
    "    plt.grid()\n",
    "    plt.show()\n",
    "    \n",
    "def train(model, opt, n_epochs):\n",
    "    train_log = []\n",
    "    val_log = []\n",
    "    \n",
    "    bs = 32\n",
    "    total_steps = 0\n",
    "    train_batches = np.array_split(train_data, len(train_data) // bs)\n",
    "    test_batches = np.array_split(val_data, len(val_data) // bs)\n",
    "    for epoch in range(n_epochs):\n",
    "        train_loss = train_epoch(model, opt, train_batches)\n",
    "        train_log.extend(train_loss)\n",
    "        total_steps += len(train_batches)\n",
    "        \n",
    "        val_loss = test(model, test_batches)\n",
    "        train_log.extend(train_loss)\n",
    "        \n",
    "        val_log.append((len(train_log), np.mean(val_loss)))\n",
    "        \n",
    "        clear_output()\n",
    "        plot_history(train_log, val_log)"
   ]
  },
  {
   "cell_type": "code",
   "execution_count": 15,
   "metadata": {
    "colab": {},
    "colab_type": "code",
    "id": "Sxrc0a10IaPy"
   },
   "outputs": [
    {
     "data": {
      "image/png": "[encoded data removed]",
      "text/plain": [
       "<Figure size 432x288 with 1 Axes>"
      ]
     },
     "metadata": {
      "needs_background": "light"
     },
     "output_type": "display_data"
    }
   ],
   "source": [
    "rnn = NameRNN(len(tokens), 50, len(tokens), cell='rnn')\n",
    "\n",
    "opt = torch.optim.Adam(rnn.parameters(), lr=1e-4)\n",
    "train(rnn, opt, 20)"
   ]
  },
  {
   "cell_type": "code",
   "execution_count": 16,
   "metadata": {
    "colab": {},
    "colab_type": "code",
    "id": "b8wvbm8HIaP1"
   },
   "outputs": [
    {
     "data": {
      "image/png": "[encoded data removed]",
      "text/plain": [
       "<Figure size 432x288 with 1 Axes>"
      ]
     },
     "metadata": {
      "needs_background": "light"
     },
     "output_type": "display_data"
    }
   ],
   "source": [
    "rnn = NameRNN(len(tokens), 50, len(tokens), cell='lstm')\n",
    "\n",
    "opt = torch.optim.Adam(rnn.parameters(), lr=1e-4)\n",
    "train(rnn, opt, 20)"
   ]
  },
  {
   "cell_type": "markdown",
   "metadata": {
    "colab_type": "text",
    "id": "ffTAktWAIaP5"
   },
   "source": [
    "# Генерация по argmax (0.2 балла)"
   ]
  },
  {
   "cell_type": "code",
   "execution_count": 17,
   "metadata": {
    "colab": {},
    "colab_type": "code",
    "id": "ugRlkX2ZIaP6"
   },
   "outputs": [
    {
     "name": "stdout",
     "output_type": "stream",
     "text": [
      " Ku|ulin#\n"
     ]
    }
   ],
   "source": [
    "# Напишите функцию генерации продолжения строки\n",
    "def pick_by_argmax(logits):\n",
    "#     <your code>\n",
    "    return torch.argmax(logits, dim=-1)\n",
    "    \n",
    "\n",
    "def ids2string(ids):\n",
    "    return \"\".join(id2tok[_] for _ in ids)\n",
    "\n",
    "\n",
    "def gen_continuation(model, prefix=\" \", limit=15):\n",
    "    hidden = model.init_hidden(1)\n",
    "    nums = to_matrix([prefix])\n",
    "    nums = torch.from_numpy(nums)\n",
    "    \n",
    "    # TODO: сначала сверните строку с помощью RNN:\n",
    "    # нас интересует последний output и hidden\n",
    "#     <your code>\n",
    "    model.eval()\n",
    "    \n",
    "    # TODO: затем сгенерируйте несколько последующих символов\n",
    "    # outs -- это массив с номерами токенов\n",
    "#     <your code>\n",
    "\n",
    "    outs = \"\"\n",
    "    i = 1\n",
    "    \n",
    "    while not outs.endswith('#') and i < limit:\n",
    "        output, _ = model(nums, hidden)\n",
    "        nums = torch.cat([nums, pick_by_argmax(output[:, -1]).view(1, -1)], -1)\n",
    "        i += 1\n",
    "        outs = ids2string(nums.numpy()[:, len(prefix) - 1:].tolist()[0])\n",
    "    \n",
    "    print(f'{prefix}|{outs}')\n",
    "gen_continuation(rnn, \" Ku\")"
   ]
  },
  {
   "cell_type": "markdown",
   "metadata": {
    "colab_type": "text",
    "id": "00547AA-IaP_"
   },
   "source": [
    "# Генерация с семплированием (0.4 балла)\n",
    "\n",
    "Обычный софтмакс \n",
    "$$p_i = \\frac{\\exp (x_i)}{\\sum \\exp (x_j)}$$\n",
    "можно модернизировать с помощью температуры:\n",
    "$$p_i = \\frac{\\exp (x_i / T)}{\\sum \\exp (x_j / T)}$$\n",
    "\n",
    "Это позволит плавно переходить от выбора наиболее вероятного элемента ($T << 1$) до практически равновероятного ($T >> 1$)\n"
   ]
  },
  {
   "cell_type": "code",
   "execution_count": 18,
   "metadata": {
    "colab": {},
    "colab_type": "code",
    "id": "71cOcFxpIaQA"
   },
   "outputs": [],
   "source": [
    "# Напишите функцию генерации батчами с семплированием из распределения и температурой\n",
    "def batch2string(ids, prefix):\n",
    "    # модифицируйте ids2string для работы с батчами\n",
    "#     <your code>\n",
    "    return ([f'{prefix}|{ids2string(id)}' for id in ids])\n",
    "\n",
    "def pick_by_distribution(logits):\n",
    "    # превратите логиты в распределение\n",
    "    # затем семлируйте из него batch примеров\n",
    "#     <your code>\n",
    "    return [np.random.choice(range(len(part)), p=F.softmax(torch.FloatTensor(part), -1).detach().numpy())\n",
    "            for part in logits]\n",
    "\n",
    "\n",
    "def gen_continuation_temp(model, prefix=\" \", temperature=1.0, n=10):\n",
    "    hidden = model.init_hidden(n)\n",
    "    nums = to_matrix([prefix] * n)\n",
    "    nums = torch.from_numpy(nums)\n",
    "\n",
    "    # аналогично, сначала получите батч output, hidden\n",
    "    model.eval()\n",
    "    \n",
    "    # затем, сгенерируйте n последующих символов\n",
    "    # в outs положите матрицу номеров токенов и отобразите ее\n",
    "    \n",
    "    outs = \"\"\n",
    "    \n",
    "    while not np.any(np.array([\"#\" in s for s in outs])):\n",
    "        output, _ = model(nums, hidden)\n",
    "#         print(torch.LongTensor(pick_by_distribution(output[:, -1])).view(n, -1))\n",
    "#         print(nums)\n",
    "        nums = torch.cat((nums, torch.LongTensor(pick_by_distribution(output[:, -1] / temperature)).view(n, -1)), 1)\n",
    "        outs = batch2string(nums.numpy()[:, len(prefix) - 1:].tolist(), prefix)\n",
    "#         print(nums.numpy()[:, len(prefix) - 1:].tolist()[0])\n",
    "#         print(np.array(outs))\n",
    "        \n",
    "    print(outs)"
   ]
  },
  {
   "cell_type": "code",
   "execution_count": 20,
   "metadata": {
    "colab": {},
    "colab_type": "code",
    "id": "8pElLbEKIaQD"
   },
   "outputs": [
    {
     "name": "stdout",
     "output_type": "stream",
     "text": [
      "[' eclaire|e#', ' eclaire|e#', ' eclaire|e#', ' eclaire|e#', ' eclaire|e#', ' eclaire|e#', ' eclaire|e#', ' eclaire|e#', ' eclaire|e#', ' eclaire|e#']\n"
     ]
    }
   ],
   "source": [
    "gen_continuation_temp(rnn, prefix=\" eclaire\", temperature=0.5, n=10)"
   ]
  },
  {
   "cell_type": "code",
   "execution_count": null,
   "metadata": {},
   "outputs": [],
   "source": []
  }
 ],
 "metadata": {
  "colab": {
   "collapsed_sections": [],
   "name": "DL18_seminar6.ipynb",
   "provenance": [],
   "version": "0.3.2"
  },
  "hse_dl_year": 2019,
  "kernelspec": {
   "display_name": "Python 3 (ipykernel)",
   "language": "python",
   "name": "python3"
  },
  "language_info": {
   "codemirror_mode": {
    "name": "ipython",
    "version": 3
   },
   "file_extension": ".py",
   "mimetype": "text/x-python",
   "name": "python",
   "nbconvert_exporter": "python",
   "pygments_lexer": "ipython3",
   "version": "3.9.7"
  },
  "latex_envs": {
   "LaTeX_envs_menu_present": true,
   "autoclose": false,
   "autocomplete": true,
   "bibliofile": "biblio.bib",
   "cite_by": "apalike",
   "current_citInitial": 1,
   "eqLabelWithNumbers": true,
   "eqNumInitial": 1,
   "hotkeys": {
    "equation": "Ctrl-E",
    "itemize": "Ctrl-I"
   },
   "labels_anchors": false,
   "latex_user_defs": false,
   "report_style_numbering": false,
   "user_envs_cfg": false
  },
  "toc": {
   "base_numbering": 1,
   "nav_menu": {},
   "number_sections": true,
   "sideBar": true,
   "skip_h1_title": false,
   "title_cell": "Table of Contents",
   "title_sidebar": "Contents",
   "toc_cell": false,
   "toc_position": {},
   "toc_section_display": true,
   "toc_window_display": false
  }
 },
 "nbformat": 4,
 "nbformat_minor": 4
}

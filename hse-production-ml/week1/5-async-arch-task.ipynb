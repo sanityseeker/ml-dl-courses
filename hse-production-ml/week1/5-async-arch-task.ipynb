{
 "cells": [
  {
   "cell_type": "markdown",
   "metadata": {},
   "source": [
    "# Задача \n",
    "\n",
    "В следующей ячейке написал код по обучению модели машинного обучения для классификации Ирисов.\n",
    "Необходимо реализовать веб-сервис на Flask и обработчик на Celery таким образом, чтобы получившаяся система позволяла использовать эту модель для классификации через сеть. "
   ]
  },
  {
   "cell_type": "code",
   "execution_count": 58,
   "metadata": {
    "pycharm": {
     "name": "#%%\n"
    }
   },
   "outputs": [],
   "source": [
    "from sklearn.datasets import load_iris\n",
    "import pickle\n",
    "from sklearn.linear_model import LogisticRegression\n",
    "\n",
    "\n",
    "X, y = load_iris(return_X_y=True)\n",
    "clf = LogisticRegression(random_state=0).fit(X, y)"
   ]
  },
  {
   "cell_type": "code",
   "execution_count": 59,
   "metadata": {},
   "outputs": [],
   "source": [
    "with open('clf.pickle', 'wb') as f:\n",
    "    f.write(pickle.dumps(clf))"
   ]
  },
  {
   "cell_type": "code",
   "execution_count": 102,
   "metadata": {},
   "outputs": [
    {
     "name": "stdout",
     "output_type": "stream",
     "text": [
      "Overwriting server.py\n"
     ]
    }
   ],
   "source": [
    "%%writefile server.py\n",
    "import pickle\n",
    "import json\n",
    "import numpy as np\n",
    "from flask import Flask, request\n",
    "from celery import Celery\n",
    "from celery.result import AsyncResult\n",
    "\n",
    "celery_app = Celery('server', backend='redis://localhost', broker='redis://localhost')  # и брокер и база - redis\n",
    "app = Flask(__name__)\n",
    "\n",
    "\n",
    "def load_model(pickle_path):\n",
    "    with open(pickle_path, 'rb') as f:\n",
    "        raw_data = f.read()\n",
    "        model = pickle.loads(raw_data)\n",
    "    return model\n",
    "\n",
    "model = load_model('clf.pickle')\n",
    "\n",
    "@celery_app.task\n",
    "def classify_iris(iris_data):\n",
    "    result = model.predict(iris_data)\n",
    "    return int(result[0])\n",
    "\n",
    "\n",
    "@app.route('/iris', methods=[\"GET\", \"POST\"])\n",
    "def iris_handler():\n",
    "    if request.method == 'POST':\n",
    "        data = request.get_json(force=True)\n",
    "        iris_data = np.reshape(data['iris'], (1, -1)).tolist()  # needs to be serializable\n",
    "        task = classify_iris.delay(iris_data)\n",
    "        response = {\n",
    "            \"task_id\": task.id\n",
    "        }\n",
    "        \n",
    "        return json.dumps(response)\n",
    "\n",
    "@app.route('/iris/<task_id>')\n",
    "def iris_check_handler(task_id):\n",
    "    task = AsyncResult(task_id, app=celery_app)\n",
    "    if task.ready():\n",
    "        response = {\n",
    "            \"status\": \"DONE\",\n",
    "            \"result\": task.result\n",
    "        }\n",
    "    else:\n",
    "        response = {\n",
    "            \"status\": \"IN_PROGRESS\"\n",
    "        }\n",
    "    return json.dumps(response)\n",
    "    \n",
    "if __name__ == '__main__':\n",
    "    app.run(\"0.0.0.0\", 8000)  # Запускаем сервер на 8000 порту"
   ]
  },
  {
   "cell_type": "code",
   "execution_count": 100,
   "metadata": {},
   "outputs": [
    {
     "name": "stdout",
     "output_type": "stream",
     "text": [
      "Success!\n"
     ]
    }
   ],
   "source": [
    "! start-worker.sh"
   ]
  },
  {
   "cell_type": "code",
   "execution_count": 101,
   "metadata": {},
   "outputs": [
    {
     "name": "stdout",
     "output_type": "stream",
     "text": [
      "Success!\n"
     ]
    }
   ],
   "source": [
    "! launch-server.sh server.py"
   ]
  },
  {
   "cell_type": "markdown",
   "metadata": {},
   "source": [
    "После того, как вы реализуете свой веб-сервис, достаточно будет его запустить и нажать кнопку \"Отправить решение\". После нажатия автоматически запустится скрипт `check-server.py`, который создаст файл `result.json`. \n",
    "\n",
    "Сам скрипт можно использовать для проверки корректности своего решения."
   ]
  },
  {
   "cell_type": "code",
   "execution_count": 2,
   "metadata": {
    "pycharm": {
     "name": "#%%\n"
    }
   },
   "outputs": [
    {
     "name": "stdout",
     "output_type": "stream",
     "text": [
      "#!/usr/bin/env python3\n",
      "\n",
      "import requests\n",
      "import json\n",
      "import time\n",
      "\n",
      "questions = [\n",
      "    [4.6, 3.1, 1.5, 0.2],\n",
      "    [5.2, 2.7, 3.9, 1.4],\n",
      "    [6.9, 3.1, 5.1, 2.3]\n",
      "]\n",
      "\n",
      "result = []\n",
      "for q in questions:\n",
      "    data = {\n",
      "        'iris': q\n",
      "    }\n",
      "\n",
      "    response = requests.post(\"http://localhost:8000/iris\", json=data)\n",
      "    task_id = response.json()['task_id']\n",
      "    status = \"IN_PROGRESS\"\n",
      "    while status != \"DONE\":\n",
      "        time.sleep(2.0)\n",
      "        r = requests.get('http://localhost:8000/iris/{}'.format(task_id))\n",
      "        status = r.json()['status']\n",
      "\n",
      "    result.append(r.json()['result'])\n",
      "\n",
      "with open('/home/jovyan/work/result.json', 'w') as f:\n",
      "    f.write(json.dumps(result, indent=4))"
     ]
    }
   ],
   "source": [
    "! cat $(which check-server.py)"
   ]
  },
  {
   "cell_type": "code",
   "execution_count": null,
   "metadata": {},
   "outputs": [],
   "source": []
  }
 ],
 "metadata": {
  "coursera": {
   "schema_names": [
    "5-async-arch-task-799220123"
   ]
  },
  "kernelspec": {
   "display_name": "Python 3 (ipykernel)",
   "language": "python",
   "name": "python3"
  },
  "language_info": {
   "codemirror_mode": {
    "name": "ipython",
    "version": 3
   },
   "file_extension": ".py",
   "mimetype": "text/x-python",
   "name": "python",
   "nbconvert_exporter": "python",
   "pygments_lexer": "ipython3",
   "version": "3.9.7"
  }
 },
 "nbformat": 4,
 "nbformat_minor": 4
}

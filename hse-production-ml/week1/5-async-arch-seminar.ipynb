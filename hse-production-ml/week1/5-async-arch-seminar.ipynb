{
 "cells": [
  {
   "cell_type": "markdown",
   "metadata": {},
   "source": [
    "<img src=\"img/celery-logo.png\">\n",
    "https://docs.celeryproject.org/"
   ]
  },
  {
   "cell_type": "markdown",
   "metadata": {},
   "source": [
    "# Celery\n",
    "\n",
    "Celery - это библитека для создания приложений на основе распределенных очередей сообщений. Она позволяет определять фукнции-обработчики для определенных сообщений в очередях и предоставляет удобный интерфейс для создания таких сообщений и сохранения результатов.\n",
    "\n",
    "Celery не умеет работать сам по себе - для работы ему требуется сама система очередей. Для этих целей мы будем использовать Redis, так как Redis может работать и как распределенная очередь сообщений (брокер сообщений) и как база данных для хранения результатов. В текущем окружении Redis уже работает и обрабатывает запросы на порту 6379.\n",
    "\n",
    "Также здесь есть два скрипта для фонового запуска компонентов нашего сервиса. `launch-server.sh` работает также как и в предыдущей лабораторной и запускает Flask приложение. `start-worker.sh` работает похожим образом. Этот скрипт предполагает, что существует скрипт `server.py` и в нем создана переменная `celery_app`, в которой записано основное celery приложение. Если условия удовлетворены, команда в фоновом режиме запускает воркера, который будет следить за очередью.\n",
    "\n",
    "ВАЖНО - сервер пишет свои логи в `log.txt`, а обработчик celery  - в `log-worker.txt`. Если что-то сломается, то первое куда нужно посмотреть - это в эти файлы. Перезапуск сервера или обработчика также может решить проблему - иногда они просто не успевают перезапустится и поэтому запрос к ним падает с ошибкой.\n",
    "\n",
    "Попробуем создать вначале просто набор задач и позапускать их в ручном режиме."
   ]
  },
  {
   "cell_type": "code",
   "execution_count": 4,
   "metadata": {},
   "outputs": [
    {
     "name": "stdout",
     "output_type": "stream",
     "text": [
      "#!/bin/bash\n",
      "\n",
      "set -e\n",
      "\n",
      "cd /home/jovyan/work\n",
      "\n",
      "export COMMAND=\"python3 $1 > log.txt 2>&1\"\n",
      "\n",
      "rm -r __pycache__/ 2> /dev/null || true\n",
      "\n",
      "(tmux kill-session -t flask-server 2> /dev/null || exit 0) && sleep 3 && tmux new -s flask-server -d \"$COMMAND\" 2> /dev/null\n",
      "\n",
      "echo \"Success!\""
     ]
    }
   ],
   "source": [
    "! cat $(which launch-server.sh)"
   ]
  },
  {
   "cell_type": "code",
   "execution_count": 5,
   "metadata": {},
   "outputs": [
    {
     "name": "stdout",
     "output_type": "stream",
     "text": [
      "#!/bin/bash\n",
      "\n",
      "set -e\n",
      "\n",
      "cd /home/jovyan/work\n",
      "\n",
      "export COMMAND=\"celery worker -A server:celery_app -c 2 > log-worker.txt 2>&1\"\n",
      "\n",
      "rm -r __pycache__/ 2> /dev/null || true\n",
      "\n",
      "(tmux kill-session -t celery-worker 2> /dev/null || exit 0) && sleep 3 && tmux new -s celery-worker -d \"$COMMAND\" 2> /dev/null\n",
      "\n",
      "echo \"Success!\""
     ]
    }
   ],
   "source": [
    "! cat $(which start-worker.sh)"
   ]
  },
  {
   "cell_type": "code",
   "execution_count": 1,
   "metadata": {},
   "outputs": [
    {
     "name": "stdout",
     "output_type": "stream",
     "text": [
      "Writing server.py\n"
     ]
    }
   ],
   "source": [
    "%%writefile server.py\n",
    "from celery import Celery\n",
    "import time\n",
    "\n",
    "celery_app = Celery('server', backend='redis://localhost', broker='redis://localhost')  # и брокер и база - redis\n",
    "\n",
    "@celery_app.task\n",
    "def add(x, y):\n",
    "    time.sleep(7.0)\n",
    "    return x + y"
   ]
  },
  {
   "cell_type": "markdown",
   "metadata": {},
   "source": [
    "Теперь запускаем воркера с нашим обработчиком"
   ]
  },
  {
   "cell_type": "code",
   "execution_count": 2,
   "metadata": {},
   "outputs": [
    {
     "name": "stdout",
     "output_type": "stream",
     "text": [
      "Success!\n"
     ]
    }
   ],
   "source": [
    "! start-worker.sh"
   ]
  },
  {
   "cell_type": "markdown",
   "metadata": {},
   "source": [
    "Теперь, когда у нас есть работающий воркер, можем импортировать задачи и отправить несколько задачек в очередь."
   ]
  },
  {
   "cell_type": "code",
   "execution_count": 3,
   "metadata": {},
   "outputs": [],
   "source": [
    "from server import add"
   ]
  },
  {
   "cell_type": "code",
   "execution_count": 4,
   "metadata": {},
   "outputs": [],
   "source": [
    "r = add.delay(5, 10)"
   ]
  },
  {
   "cell_type": "code",
   "execution_count": 5,
   "metadata": {},
   "outputs": [
    {
     "data": {
      "text/plain": [
       "<AsyncResult: c10a2d22-97d4-4858-8c2f-7c377fa66764>"
      ]
     },
     "execution_count": 5,
     "metadata": {},
     "output_type": "execute_result"
    }
   ],
   "source": [
    "r"
   ]
  },
  {
   "cell_type": "code",
   "execution_count": 6,
   "metadata": {},
   "outputs": [
    {
     "data": {
      "text/plain": [
       "'c10a2d22-97d4-4858-8c2f-7c377fa66764'"
      ]
     },
     "execution_count": 6,
     "metadata": {},
     "output_type": "execute_result"
    }
   ],
   "source": [
    "r.id"
   ]
  },
  {
   "cell_type": "code",
   "execution_count": 7,
   "metadata": {},
   "outputs": [
    {
     "data": {
      "text/plain": [
       "False"
      ]
     },
     "execution_count": 7,
     "metadata": {},
     "output_type": "execute_result"
    }
   ],
   "source": [
    "r.ready()"
   ]
  },
  {
   "cell_type": "code",
   "execution_count": 11,
   "metadata": {},
   "outputs": [
    {
     "data": {
      "text/plain": [
       "15"
      ]
     },
     "execution_count": 11,
     "metadata": {},
     "output_type": "execute_result"
    }
   ],
   "source": [
    "r.result"
   ]
  },
  {
   "cell_type": "code",
   "execution_count": 12,
   "metadata": {},
   "outputs": [
    {
     "data": {
      "text/plain": [
       "True"
      ]
     },
     "execution_count": 12,
     "metadata": {},
     "output_type": "execute_result"
    }
   ],
   "source": [
    "r.ready()"
   ]
  },
  {
   "cell_type": "code",
   "execution_count": 13,
   "metadata": {},
   "outputs": [
    {
     "data": {
      "text/plain": [
       "15"
      ]
     },
     "execution_count": 13,
     "metadata": {},
     "output_type": "execute_result"
    }
   ],
   "source": [
    "r.result"
   ]
  },
  {
   "cell_type": "markdown",
   "metadata": {},
   "source": [
    "Отлично! Через некоторое время наша задача посчиталась и мы получили ее результат.\n",
    "\n",
    "Для того, чтобы получить результат достаточно знать лишь его идентификатор. Попробуем получить результат, зная только идентификатор."
   ]
  },
  {
   "cell_type": "code",
   "execution_count": 14,
   "metadata": {},
   "outputs": [],
   "source": [
    "from celery.result import AsyncResult\n",
    "from server import celery_app"
   ]
  },
  {
   "cell_type": "code",
   "execution_count": 15,
   "metadata": {},
   "outputs": [
    {
     "name": "stdout",
     "output_type": "stream",
     "text": [
      "ea605124-f752-490b-a79b-42e5125c96ef\n"
     ]
    }
   ],
   "source": [
    "task_id = add.delay(12, 13).id\n",
    "print(task_id)"
   ]
  },
  {
   "cell_type": "code",
   "execution_count": 16,
   "metadata": {},
   "outputs": [
    {
     "name": "stdout",
     "output_type": "stream",
     "text": [
      "False\n"
     ]
    }
   ],
   "source": [
    "r = AsyncResult(task_id, app=celery_app)\n",
    "print(r.ready())"
   ]
  },
  {
   "cell_type": "code",
   "execution_count": 20,
   "metadata": {},
   "outputs": [
    {
     "data": {
      "text/plain": [
       "25"
      ]
     },
     "execution_count": 20,
     "metadata": {},
     "output_type": "execute_result"
    }
   ],
   "source": [
    "r.result"
   ]
  },
  {
   "cell_type": "markdown",
   "metadata": {},
   "source": [
    "# Подключаем web-сервер\n",
    "\n",
    "Этих знаний нам должно хватить, чтобы запустить сервис вместе с веб-сервером. Веб-сервер, получая запрос от пользователя будет создавать новую задачу и посылать ее в очередь, возвращая пользователю идентификатор задачи. \n",
    "\n",
    "Потом пользователь сможет повторно прийти и узнать у веб-сервера состояние задачи."
   ]
  },
  {
   "cell_type": "code",
   "execution_count": 21,
   "metadata": {},
   "outputs": [
    {
     "name": "stdout",
     "output_type": "stream",
     "text": [
      "Overwriting server.py\n"
     ]
    }
   ],
   "source": [
    "%%writefile server.py\n",
    "from celery import Celery\n",
    "from celery.result import AsyncResult\n",
    "import time\n",
    "from flask import Flask, request\n",
    "import json\n",
    "\n",
    "\n",
    "celery_app = Celery('server', backend='redis://localhost', broker='redis://localhost')  # и брокер и база - redis\n",
    "app = Flask(__name__)  # Основной объект приложения Flask\n",
    "\n",
    "\n",
    "@celery_app.task\n",
    "def add(numbers):\n",
    "    time.sleep(7.0)\n",
    "    result = 0\n",
    "    for n in numbers:\n",
    "        result += n\n",
    "    return result\n",
    "\n",
    "\n",
    "@app.route('/sum', methods=[\"GET\", \"POST\"])\n",
    "def sum_handler():\n",
    "    if request.method == 'POST':\n",
    "        data = request.get_json(force=True)\n",
    "        numbers = data['numbers']\n",
    "        \n",
    "        task = add.delay(numbers) \n",
    "            \n",
    "        response = {\n",
    "            \"task_id\": task.id\n",
    "        }\n",
    "        return json.dumps(response)\n",
    "    \n",
    "    \n",
    "@app.route('/sum/<task_id>')\n",
    "def sum_check_handler(task_id):\n",
    "    task = AsyncResult(task_id, app=celery_app)\n",
    "    if task.ready():\n",
    "        response = {\n",
    "            \"status\": \"DONE\",\n",
    "            \"result\": task.result\n",
    "        }\n",
    "    else:\n",
    "        response = {\n",
    "            \"status\": \"IN_PROGRESS\"\n",
    "        }\n",
    "    return json.dumps(response)\n",
    "\n",
    "\n",
    "if __name__ == \"__main__\":\n",
    "    app.run('0.0.0.0', 8000)"
   ]
  },
  {
   "cell_type": "code",
   "execution_count": 22,
   "metadata": {},
   "outputs": [
    {
     "name": "stdout",
     "output_type": "stream",
     "text": [
      "Success!\n"
     ]
    }
   ],
   "source": [
    "! start-worker.sh"
   ]
  },
  {
   "cell_type": "code",
   "execution_count": 23,
   "metadata": {},
   "outputs": [
    {
     "name": "stdout",
     "output_type": "stream",
     "text": [
      "Success!\n"
     ]
    }
   ],
   "source": [
    "! launch-server.sh server.py"
   ]
  },
  {
   "cell_type": "code",
   "execution_count": 24,
   "metadata": {},
   "outputs": [
    {
     "name": "stdout",
     "output_type": "stream",
     "text": [
      "{'task_id': 'abdcc70c-f82e-4908-868a-d20ab249bc8c'}\n"
     ]
    }
   ],
   "source": [
    "import requests\n",
    "\n",
    "data = {\n",
    "    \"numbers\": [2, 34, 65, 23, 79]\n",
    "}\n",
    "\n",
    "r = requests.post(\"http://localhost:8000/sum\", json=data)\n",
    "\n",
    "r_data = r.json()\n",
    "print(r_data)"
   ]
  },
  {
   "cell_type": "code",
   "execution_count": 25,
   "metadata": {},
   "outputs": [
    {
     "name": "stdout",
     "output_type": "stream",
     "text": [
      "{\"status\": \"IN_PROGRESS\"}\n"
     ]
    }
   ],
   "source": [
    "check_url = \"http://localhost:8000/sum/{}\".format(r_data['task_id'])\n",
    "\n",
    "r = requests.get(check_url)\n",
    "\n",
    "print(r.text)"
   ]
  },
  {
   "cell_type": "markdown",
   "metadata": {},
   "source": [
    "Напишем функцию для клиента, который будет ожидать результат"
   ]
  },
  {
   "cell_type": "code",
   "execution_count": 26,
   "metadata": {},
   "outputs": [],
   "source": [
    "import time\n",
    "\n",
    "def calc(numbers):\n",
    "    response = requests.post(\"http://localhost:8000/sum\", json={'numbers': numbers})\n",
    "    task_id = response.json()['task_id']\n",
    "    print(\"Task {}\".format(task_id))\n",
    "    status = \"IN_PROGRESS\"\n",
    "    while status != \"DONE\":\n",
    "        time.sleep(2.0)\n",
    "        r = requests.get('http://localhost:8000/sum/{}'.format(task_id))\n",
    "        status = r.json()['status']\n",
    "        print('Status - {}'.format(status))\n",
    "    return r.json()['result']"
   ]
  },
  {
   "cell_type": "code",
   "execution_count": 27,
   "metadata": {},
   "outputs": [
    {
     "name": "stdout",
     "output_type": "stream",
     "text": [
      "Task 8d13aee4-84ea-4473-87f3-464debbfb18b\n",
      "Status - IN_PROGRESS\n",
      "Status - IN_PROGRESS\n",
      "Status - IN_PROGRESS\n",
      "Status - DONE\n"
     ]
    },
    {
     "data": {
      "text/plain": [
       "22"
      ]
     },
     "execution_count": 27,
     "metadata": {},
     "output_type": "execute_result"
    }
   ],
   "source": [
    "calc([2, 4, 1, 4, 2, 9])"
   ]
  },
  {
   "cell_type": "code",
   "execution_count": null,
   "metadata": {},
   "outputs": [],
   "source": []
  },
  {
   "cell_type": "markdown",
   "metadata": {},
   "source": [
    "# Сложные модели\n",
    "\n",
    "Загрузка более сложных моделей практически ничем не отличается от того, что мы делали в предыдущей лабораторной. Попробуем воспроизвести точно такой же сервис, однако теперь используя очередь сообщений."
   ]
  },
  {
   "cell_type": "code",
   "execution_count": 28,
   "metadata": {},
   "outputs": [
    {
     "name": "stdout",
     "output_type": "stream",
     "text": [
      "Writing freqmeter.py\n"
     ]
    }
   ],
   "source": [
    "%%writefile freqmeter.py\n",
    "\n",
    "import re\n",
    "\n",
    "class FrequencyMeter:\n",
    "    def __init__(self):\n",
    "        self._counter = {}\n",
    "        self._word_pattern = re.compile(r\"[a-z]+\")\n",
    "        \n",
    "    def fit(self, data):\n",
    "        for match in self._word_pattern.finditer(data.lower()):\n",
    "            word = match.group(0)\n",
    "            if word in self._counter:\n",
    "                self._counter[word] += 1\n",
    "            else:\n",
    "                self._counter[word] = 1\n",
    "    \n",
    "    def compute(self, word):\n",
    "        if word not in self._counter:\n",
    "            return 0\n",
    "        return self._counter[word]"
   ]
  },
  {
   "cell_type": "code",
   "execution_count": 29,
   "metadata": {},
   "outputs": [],
   "source": [
    "from freqmeter import FrequencyMeter\n",
    "import pickle\n",
    "\n",
    "fmeter = FrequencyMeter()\n",
    "\n",
    "with open('wizard-of-oz.txt') as f:\n",
    "    data = f.read()\n",
    "    \n",
    "fmeter.fit(data)\n",
    "\n",
    "raw_data = pickle.dumps(fmeter)\n",
    "\n",
    "with open('fmeter-model.pickle', 'wb') as f:\n",
    "    f.write(raw_data)"
   ]
  },
  {
   "cell_type": "code",
   "execution_count": 30,
   "metadata": {},
   "outputs": [
    {
     "name": "stdout",
     "output_type": "stream",
     "text": [
      "Overwriting server.py\n"
     ]
    }
   ],
   "source": [
    "%%writefile server.py\n",
    "from celery import Celery\n",
    "from celery.result import AsyncResult\n",
    "import time\n",
    "from flask import Flask, request\n",
    "import json\n",
    "import pickle\n",
    "import re\n",
    "\n",
    "\n",
    "celery_app = Celery('server', backend='redis://localhost', broker='redis://localhost')  # и брокер и база - redis\n",
    "app = Flask(__name__)  # Основной объект приложения Flask\n",
    "\n",
    "\n",
    "def load_model(pickle_path):\n",
    "    with open(pickle_path, 'rb') as f:\n",
    "        raw_data = f.read()\n",
    "        model = pickle.loads(raw_data)\n",
    "    return model\n",
    "\n",
    "model = load_model('fmeter-model.pickle')\n",
    "\n",
    "\n",
    "@celery_app.task\n",
    "def freq(sentence):\n",
    "    result = {}\n",
    "    word_pattern = re.compile(r\"[a-z]+\")\n",
    "    for match in word_pattern.finditer(sentence.lower()):\n",
    "        word = match.group(0)\n",
    "        result[word] = model.compute(word)\n",
    "    return result\n",
    "\n",
    "\n",
    "@app.route('/frequency', methods=[\"GET\", \"POST\"])\n",
    "def frequency_handler():\n",
    "    if request.method == 'POST':\n",
    "        data = request.get_json(force=True)\n",
    "        sentence = data['sentence']\n",
    "        \n",
    "        task = freq.delay(sentence) \n",
    "            \n",
    "        response = {\n",
    "            \"task_id\": task.id\n",
    "        }\n",
    "        return json.dumps(response)\n",
    "    \n",
    "    \n",
    "@app.route('/frequency/<task_id>')\n",
    "def frequency_check_handler(task_id):\n",
    "    task = AsyncResult(task_id, app=celery_app)\n",
    "    if task.ready():\n",
    "        response = {\n",
    "            \"status\": \"DONE\",\n",
    "            \"result\": task.result\n",
    "        }\n",
    "    else:\n",
    "        response = {\n",
    "            \"status\": \"IN_PROGRESS\"\n",
    "        }\n",
    "    return json.dumps(response)\n",
    "\n",
    "\n",
    "if __name__ == \"__main__\":\n",
    "    app.run('0.0.0.0', 8000)"
   ]
  },
  {
   "cell_type": "code",
   "execution_count": 31,
   "metadata": {},
   "outputs": [
    {
     "name": "stdout",
     "output_type": "stream",
     "text": [
      "Success!\n"
     ]
    }
   ],
   "source": [
    "! start-worker.sh"
   ]
  },
  {
   "cell_type": "code",
   "execution_count": 32,
   "metadata": {},
   "outputs": [
    {
     "name": "stdout",
     "output_type": "stream",
     "text": [
      "Success!\n"
     ]
    }
   ],
   "source": [
    "! launch-server.sh server.py"
   ]
  },
  {
   "cell_type": "code",
   "execution_count": 33,
   "metadata": {},
   "outputs": [],
   "source": [
    "import time\n",
    "\n",
    "def calc(sentence):\n",
    "    response = requests.post(\"http://localhost:8000/frequency\", json={'sentence': sentence})\n",
    "    task_id = response.json()['task_id']\n",
    "    print(\"Task {}\".format(task_id))\n",
    "    status = \"IN_PROGRESS\"\n",
    "    while status != \"DONE\":\n",
    "        time.sleep(2.0)\n",
    "        r = requests.get('http://localhost:8000/frequency/{}'.format(task_id))\n",
    "        status = r.json()['status']\n",
    "        print('Status - {}'.format(status))\n",
    "    return r.json()['result']"
   ]
  },
  {
   "cell_type": "code",
   "execution_count": 37,
   "metadata": {},
   "outputs": [
    {
     "name": "stdout",
     "output_type": "stream",
     "text": [
      "Task b6725e4e-8a4b-4eb5-8bc9-acfc9a3f90cd\n",
      "Status - DONE\n"
     ]
    },
    {
     "data": {
      "text/plain": [
       "{'dorothy': 369,\n",
       " 'lived': 19,\n",
       " 'in': 542,\n",
       " 'the': 3212,\n",
       " 'midst': 5,\n",
       " 'of': 974,\n",
       " 'great': 145,\n",
       " 'kansas': 51,\n",
       " 'prairies': 2}"
      ]
     },
     "execution_count": 37,
     "metadata": {},
     "output_type": "execute_result"
    }
   ],
   "source": [
    "calc(\"Dorothy lived in the midst of the great Kansas prairies\")"
   ]
  },
  {
   "cell_type": "code",
   "execution_count": null,
   "metadata": {},
   "outputs": [],
   "source": []
  }
 ],
 "metadata": {
  "kernelspec": {
   "display_name": "Python 3 (ipykernel)",
   "language": "python",
   "name": "python3"
  },
  "language_info": {
   "codemirror_mode": {
    "name": "ipython",
    "version": 3
   },
   "file_extension": ".py",
   "mimetype": "text/x-python",
   "name": "python",
   "nbconvert_exporter": "python",
   "pygments_lexer": "ipython3",
   "version": "3.9.7"
  }
 },
 "nbformat": 4,
 "nbformat_minor": 4
}

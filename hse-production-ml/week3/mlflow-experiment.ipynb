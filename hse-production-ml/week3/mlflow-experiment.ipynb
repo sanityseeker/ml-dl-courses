{
 "cells": [
  {
   "cell_type": "markdown",
   "metadata": {
    "colab_type": "text",
    "id": "QP38QZmetiOF"
   },
   "source": [
    "## Архитектура MLflow\n",
    "\n",
    "### Компонтенты MLflow и их задачи\n",
    "\n",
    " - MLflow Project - создание среды для экспериментов, группировка экспериментов.\n",
    " - MLflow Tracking - фиксация параметров и метрик качества экспериментов.\n",
    " - MLflow Models - подготовка версии модели к дистрибуции.\n",
    " - MLflow Registry - централизованное хранилище моделей и выкладка в эксплуатацию.\n",
    "\n",
    "#### MLflow Projects\n",
    "\n",
    "- Настройка окружения:\n",
    "\t- языки программирования\n",
    "\t- менеджер пакетов (например, conda)\n",
    "\t- зависимости (библиотеки xgboost, scikit-learn, ...)\n",
    "\n",
    "- Описание окружения (Infrastructure as code):\n",
    "\t- различные ОС\n",
    "\t- локальное окружение\n",
    "\t- облачные сервисы\n",
    "\n",
    "#### MLflow Tracking\n",
    "\n",
    "Фиксирует все, что связано с запуском модели:\n",
    " - Наборы данных (для обучения и тестирования)\n",
    " - Наборы параметров (например, количество деревьев, слоев, L1/L2)\n",
    " - Значения метрик качества\n",
    " - Скорость работы и прочие технические метрики\n",
    "\n",
    "#### MLflow Models\n",
    "\n",
    "Cериализует артефакты моделей устраняя необходимость дополнительной разработки\n",
    "\n",
    "#### MLflow Registry\n",
    "\n",
    " - Централизованное хранение версий моделей для удобного поиска.\n",
    " - Информация о том, какая модель используется на какой среде\n",
    " - История всех версий и их использования в средах\n",
    "\n"
   ]
  },
  {
   "cell_type": "markdown",
   "metadata": {
    "colab_type": "text",
    "id": "BEePQncutiOG"
   },
   "source": [
    "## 1. Работа с проектом и запуск эксперимента\n",
    "\n",
    "Проект представляет собой папку с файлами, связанными с этим проектом:\n",
    " - Файл с метаданными MLProject (формат YAML) и также включаемые файлы (например, conda.yaml)\n",
    " - Файлы с кодом для запуска экспериментов (например, на Python)\n",
    "\n",
    "Чтобы создать проект, дотсаточно описать корректный MLProject файл."
   ]
  },
  {
   "cell_type": "markdown",
   "metadata": {
    "colab_type": "text",
    "id": "dNTCeR9mtiOG"
   },
   "source": [
    "### Пример создания проекта\n",
    "\n",
    "В файле проекта `MLproject` указано, что тренировка модели происходит в среде `conda`, и используется `scikit-learn` в качестве ML-библиотеки (указано в `conda.yaml`). Само обучение модели описано в файле `train.py`, там же описана необходимая подготовка данных."
   ]
  },
  {
   "cell_type": "code",
   "execution_count": 1,
   "metadata": {
    "colab": {},
    "colab_type": "code",
    "id": "sG2RbzP8tiOH"
   },
   "outputs": [
    {
     "name": "stdout",
     "output_type": "stream",
     "text": [
      "Overwriting MLproject\n"
     ]
    }
   ],
   "source": [
    "%%writefile MLproject\n",
    "name: tutorial\n",
    "\n",
    "conda_env: conda.yaml\n",
    "\n",
    "entry_points:\n",
    "  main:\n",
    "    parameters:\n",
    "      alpha: float\n",
    "      l1_ratio: {type: float, default: 0.1}\n",
    "    command: \"python train.py {alpha} {l1_ratio}\""
   ]
  },
  {
   "cell_type": "code",
   "execution_count": 2,
   "metadata": {
    "colab": {},
    "colab_type": "code",
    "id": "pLbCF8xMtiOL"
   },
   "outputs": [
    {
     "name": "stdout",
     "output_type": "stream",
     "text": [
      "Overwriting conda.yaml\n"
     ]
    }
   ],
   "source": [
    "%%writefile conda.yaml\n",
    "name: tutorial\n",
    "channels:\n",
    "  - defaults\n",
    "dependencies:\n",
    "  - numpy>=1.14.3\n",
    "  - pandas>=1.0.0\n",
    "  - scikit-learn=0.19.1\n",
    "  - pip\n",
    "  - pip:\n",
    "    - mlflow"
   ]
  },
  {
   "cell_type": "markdown",
   "metadata": {
    "colab_type": "text",
    "id": "ShvNNVefzZMy"
   },
   "source": [
    "Далее используется проект [Wine Quality](https://github.com/mlflow/mlflow-example)"
   ]
  },
  {
   "cell_type": "markdown",
   "metadata": {
    "colab_type": "text",
    "id": "u9sT2UELtiOO"
   },
   "source": [
    "#### Подготовка данных для эксперимента\n",
    "\n",
    "Следующий код импортирует необходимые для работы модули, загружается данные из файла `wine-quality.csv` и разделяет их на тестовую и валидационную выборки"
   ]
  },
  {
   "cell_type": "code",
   "execution_count": 3,
   "metadata": {
    "colab": {},
    "colab_type": "code",
    "id": "71EbeHxctiOO"
   },
   "outputs": [],
   "source": [
    "import os\n",
    "import sys\n",
    "import warnings\n",
    "from pprint import pprint\n",
    "\n",
    "import pandas as pd\n",
    "import numpy as np\n",
    "from sklearn.metrics import mean_squared_error, mean_absolute_error, r2_score\n",
    "from sklearn.model_selection import train_test_split\n",
    "from sklearn.linear_model import ElasticNet\n",
    "\n",
    "import mlflow\n",
    "import mlflow.sklearn"
   ]
  },
  {
   "cell_type": "code",
   "execution_count": 4,
   "metadata": {
    "colab": {},
    "colab_type": "code",
    "id": "71EbeHxctiOO"
   },
   "outputs": [],
   "source": [
    "warnings.filterwarnings(\"ignore\")\n",
    "np.random.seed(40)\n",
    "data = pd.read_csv(\"mlflow-example/wine-quality.csv\")\n",
    "\n",
    "train, test = train_test_split(data)\n",
    "\n",
    "train_x = train.drop([\"quality\"], axis=1)\n",
    "test_x = test.drop([\"quality\"], axis=1)\n",
    "train_y = train[[\"quality\"]]\n",
    "test_y = test[[\"quality\"]]"
   ]
  },
  {
   "cell_type": "code",
   "execution_count": 5,
   "metadata": {},
   "outputs": [
    {
     "data": {
      "text/html": [
       "<div>\n",
       "<style scoped>\n",
       "    .dataframe tbody tr th:only-of-type {\n",
       "        vertical-align: middle;\n",
       "    }\n",
       "\n",
       "    .dataframe tbody tr th {\n",
       "        vertical-align: top;\n",
       "    }\n",
       "\n",
       "    .dataframe thead th {\n",
       "        text-align: right;\n",
       "    }\n",
       "</style>\n",
       "<table border=\"1\" class=\"dataframe\">\n",
       "  <thead>\n",
       "    <tr style=\"text-align: right;\">\n",
       "      <th></th>\n",
       "      <th>fixed acidity</th>\n",
       "      <th>volatile acidity</th>\n",
       "      <th>citric acid</th>\n",
       "      <th>residual sugar</th>\n",
       "      <th>chlorides</th>\n",
       "      <th>free sulfur dioxide</th>\n",
       "      <th>total sulfur dioxide</th>\n",
       "      <th>density</th>\n",
       "      <th>pH</th>\n",
       "      <th>sulphates</th>\n",
       "      <th>alcohol</th>\n",
       "      <th>quality</th>\n",
       "    </tr>\n",
       "  </thead>\n",
       "  <tbody>\n",
       "    <tr>\n",
       "      <th>0</th>\n",
       "      <td>7.0</td>\n",
       "      <td>0.27</td>\n",
       "      <td>0.36</td>\n",
       "      <td>20.7</td>\n",
       "      <td>0.045</td>\n",
       "      <td>45.0</td>\n",
       "      <td>170.0</td>\n",
       "      <td>1.0010</td>\n",
       "      <td>3.00</td>\n",
       "      <td>0.45</td>\n",
       "      <td>8.8</td>\n",
       "      <td>6</td>\n",
       "    </tr>\n",
       "    <tr>\n",
       "      <th>1</th>\n",
       "      <td>6.3</td>\n",
       "      <td>0.30</td>\n",
       "      <td>0.34</td>\n",
       "      <td>1.6</td>\n",
       "      <td>0.049</td>\n",
       "      <td>14.0</td>\n",
       "      <td>132.0</td>\n",
       "      <td>0.9940</td>\n",
       "      <td>3.30</td>\n",
       "      <td>0.49</td>\n",
       "      <td>9.5</td>\n",
       "      <td>6</td>\n",
       "    </tr>\n",
       "    <tr>\n",
       "      <th>2</th>\n",
       "      <td>8.1</td>\n",
       "      <td>0.28</td>\n",
       "      <td>0.40</td>\n",
       "      <td>6.9</td>\n",
       "      <td>0.050</td>\n",
       "      <td>30.0</td>\n",
       "      <td>97.0</td>\n",
       "      <td>0.9951</td>\n",
       "      <td>3.26</td>\n",
       "      <td>0.44</td>\n",
       "      <td>10.1</td>\n",
       "      <td>6</td>\n",
       "    </tr>\n",
       "    <tr>\n",
       "      <th>3</th>\n",
       "      <td>7.2</td>\n",
       "      <td>0.23</td>\n",
       "      <td>0.32</td>\n",
       "      <td>8.5</td>\n",
       "      <td>0.058</td>\n",
       "      <td>47.0</td>\n",
       "      <td>186.0</td>\n",
       "      <td>0.9956</td>\n",
       "      <td>3.19</td>\n",
       "      <td>0.40</td>\n",
       "      <td>9.9</td>\n",
       "      <td>6</td>\n",
       "    </tr>\n",
       "    <tr>\n",
       "      <th>4</th>\n",
       "      <td>7.2</td>\n",
       "      <td>0.23</td>\n",
       "      <td>0.32</td>\n",
       "      <td>8.5</td>\n",
       "      <td>0.058</td>\n",
       "      <td>47.0</td>\n",
       "      <td>186.0</td>\n",
       "      <td>0.9956</td>\n",
       "      <td>3.19</td>\n",
       "      <td>0.40</td>\n",
       "      <td>9.9</td>\n",
       "      <td>6</td>\n",
       "    </tr>\n",
       "  </tbody>\n",
       "</table>\n",
       "</div>"
      ],
      "text/plain": [
       "   fixed acidity  volatile acidity  citric acid  residual sugar  chlorides  \\\n",
       "0            7.0              0.27         0.36            20.7      0.045   \n",
       "1            6.3              0.30         0.34             1.6      0.049   \n",
       "2            8.1              0.28         0.40             6.9      0.050   \n",
       "3            7.2              0.23         0.32             8.5      0.058   \n",
       "4            7.2              0.23         0.32             8.5      0.058   \n",
       "\n",
       "   free sulfur dioxide  total sulfur dioxide  density    pH  sulphates  \\\n",
       "0                 45.0                 170.0   1.0010  3.00       0.45   \n",
       "1                 14.0                 132.0   0.9940  3.30       0.49   \n",
       "2                 30.0                  97.0   0.9951  3.26       0.44   \n",
       "3                 47.0                 186.0   0.9956  3.19       0.40   \n",
       "4                 47.0                 186.0   0.9956  3.19       0.40   \n",
       "\n",
       "   alcohol  quality  \n",
       "0      8.8        6  \n",
       "1      9.5        6  \n",
       "2     10.1        6  \n",
       "3      9.9        6  \n",
       "4      9.9        6  "
      ]
     },
     "execution_count": 5,
     "metadata": {},
     "output_type": "execute_result"
    }
   ],
   "source": [
    "data.head()"
   ]
  },
  {
   "cell_type": "markdown",
   "metadata": {
    "colab_type": "text",
    "id": "bYpEklGEtiON"
   },
   "source": [
    "### Создание и запуск эксперимента\n",
    "\n",
    "Код самого эксперимента не зависит от MLflow, можно использовать уже готовый код.\n",
    "\n",
    "Чтобы зафиксировать параметры запуска и метрики модели, нужно запустить обучение в рамках эксперимента и проекта.\n",
    "\n",
    "`tracking_url` - адрес поднятого `mlflow` сервера, который будет использоваться для хранения экспериментов. Также по этому адресу доступен веб-интерфейс для просмотра результатов запусков."
   ]
  },
  {
   "cell_type": "markdown",
   "metadata": {},
   "source": [
    "you can run ml-flow server e.g. \n",
    "\n",
    "    mlflow server \\\n",
    "        --backend-store-uri sqlite:///mlflow.db \\\n",
    "        --default-artifact-root ./artifacts \\\n",
    "        --host 0.0.0.0"
   ]
  },
  {
   "cell_type": "code",
   "execution_count": 6,
   "metadata": {},
   "outputs": [],
   "source": [
    "MLFLOW_SERVER_URL = 'http://127.0.0.1:5000/'  # 5000 is a default port"
   ]
  },
  {
   "cell_type": "markdown",
   "metadata": {
    "colab_type": "text",
    "id": "wI_qE7zNtiOR"
   },
   "source": [
    "#### Запуск эксперимента\n",
    "\n",
    "Чтобы запустить эксперимент, нужно выполнить код создания модели внутри контекста запуска MLflow и в этом контексте сохранить параметры и результирующие метрики."
   ]
  },
  {
   "cell_type": "code",
   "execution_count": 7,
   "metadata": {
    "colab": {},
    "colab_type": "code",
    "id": "drfGPepntiOR"
   },
   "outputs": [
    {
     "name": "stdout",
     "output_type": "stream",
     "text": [
      "Elasticnet model (alpha=0.5, l1_ratio=0.5):\n",
      "  RMSE: 0.8222428497595401\n",
      "  MAE: 0.6278761410160693\n",
      "  R2: 0.12678721972772666\n"
     ]
    }
   ],
   "source": [
    "# подключаемся к серверу\n",
    "mlflow.set_tracking_uri(MLFLOW_SERVER_URL)\n",
    "\n",
    "experiment_name = 'experiment2'\n",
    "mlflow.set_experiment(experiment_name)\n",
    "\n",
    "# запуск в эксперименте\n",
    "with mlflow.start_run():\n",
    "    alpha = 0.5\n",
    "    l1_ratio = 0.5\n",
    "\n",
    "    # модель\n",
    "    lr = ElasticNet(alpha=alpha, l1_ratio=l1_ratio, random_state=42)\n",
    "    lr.fit(train_x, train_y)\n",
    "\n",
    "    # метрики\n",
    "    predicted_qualities = lr.predict(test_x)\n",
    "    rmse = np.sqrt(mean_squared_error(test_y, predicted_qualities))\n",
    "    mae = mean_absolute_error(test_y, predicted_qualities)\n",
    "    r2 = r2_score(test_y, predicted_qualities)\n",
    "\n",
    "    print(f\"Elasticnet model (alpha={alpha}, l1_ratio={l1_ratio}):\")\n",
    "    print(f\"  RMSE: {rmse}\")\n",
    "    print(f\"  MAE: {mae}\")\n",
    "    print(f\"  R2: {r2}\")\n",
    "\n",
    "    # сохраняем значения эксперимента в системе\n",
    "    mlflow.log_param(\"alpha\", alpha)\n",
    "    mlflow.log_param(\"l1_ratio\", l1_ratio)\n",
    "    mlflow.log_metric(\"rmse\", rmse)\n",
    "    mlflow.log_metric(\"r2\", r2)\n",
    "    mlflow.log_metric(\"mae\", mae)\n",
    "\n",
    "    mlflow.sklearn.log_model(lr, \"model\")"
   ]
  },
  {
   "cell_type": "markdown",
   "metadata": {
    "colab_type": "text",
    "id": "sIYTUGvStiOU"
   },
   "source": [
    "## 2. Подготовка модели к дистрибуции\n",
    "\n",
    "Запуск успешного эксперимента можно подготовить к вводу в эксплуатацию.\n",
    "\n",
    "Для этого используется  `MLflow Model Registry`."
   ]
  },
  {
   "cell_type": "markdown",
   "metadata": {
    "colab_type": "text",
    "id": "50MQhVLYtiOU"
   },
   "source": [
    "### Просмотр проведенных экспериментов и выбор кандидата на ввод в эксплуатацию\n",
    "\n",
    "Чтобы получить информацию о запусках экспериментов, нужно создать клиент `mlflow.tracking.MlflowClient`, затем выбрать нужный эксперимент и выбрать искомый запуск эксперимента.\n",
    "\n",
    "В коде ниже берется последний запуск эксперимента из списка всех запусков."
   ]
  },
  {
   "cell_type": "code",
   "execution_count": 8,
   "metadata": {
    "colab": {},
    "colab_type": "code",
    "id": "w8dYq2YjtiOV"
   },
   "outputs": [
    {
     "name": "stdout",
     "output_type": "stream",
     "text": [
      "<Experiment: artifact_location='./artifacts/1', experiment_id='1', lifecycle_stage='active', name='experiment2', tags={}>\n",
      "<RunInfo: artifact_uri='./artifacts/1/e4cf109690bd40df8de6f4940b535cc5/artifacts', end_time=1650585325321, experiment_id='1', lifecycle_stage='active', run_id='e4cf109690bd40df8de6f4940b535cc5', run_uuid='e4cf109690bd40df8de6f4940b535cc5', start_time=1650585324048, status='FINISHED', user_id='sanityseeker'>\n"
     ]
    }
   ],
   "source": [
    "client = mlflow.tracking.MlflowClient(MLFLOW_SERVER_URL)\n",
    "experiment = client.get_experiment_by_name(experiment_name)\n",
    "run_info = client.list_run_infos(experiment.experiment_id)[-1]\n",
    "\n",
    "print(experiment)\n",
    "print(run_info)"
   ]
  },
  {
   "cell_type": "markdown",
   "metadata": {
    "colab_type": "text",
    "id": "fZvbsRvmtiOY"
   },
   "source": [
    "### Регистрация модели в MLflow Model Registry\n",
    "\n",
    "Регистрация модели также доступна в веб-интерфейсе. Для этого нужно выбрать модель на странице экспериментов и нажать `Register Model`.\n",
    "\n",
    "Ниже приведен код, совершающий аналогичное действие."
   ]
  },
  {
   "cell_type": "code",
   "execution_count": 9,
   "metadata": {
    "colab": {},
    "colab_type": "code",
    "id": "W0_CPO7-tiOZ"
   },
   "outputs": [
    {
     "ename": "RestException",
     "evalue": "RESOURCE_ALREADY_EXISTS: Registered Model (name=sk-learn-new-model) already exists. Error: (sqlite3.IntegrityError) UNIQUE constraint failed: registered_models.name\n[SQL: INSERT INTO registered_models (name, creation_time, last_updated_time, description) VALUES (?, ?, ?, ?)]\n[parameters: ('sk-learn-new-model', 1650747679970, 1650747679970, '')]\n(Background on this error at: https://sqlalche.me/e/14/gkpj)",
     "output_type": "error",
     "traceback": [
      "\u001b[0;31m---------------------------------------------------------------------------\u001b[0m",
      "\u001b[0;31mRestException\u001b[0m                             Traceback (most recent call last)",
      "Input \u001b[0;32mIn [9]\u001b[0m, in \u001b[0;36m<cell line: 4>\u001b[0;34m()\u001b[0m\n\u001b[1;32m      1\u001b[0m reg_model_name \u001b[38;5;241m=\u001b[39m \u001b[38;5;124m\"\u001b[39m\u001b[38;5;124msk-learn-new-model\u001b[39m\u001b[38;5;124m\"\u001b[39m\n\u001b[1;32m      3\u001b[0m \u001b[38;5;66;03m# региструем модель\u001b[39;00m\n\u001b[0;32m----> 4\u001b[0m \u001b[43mclient\u001b[49m\u001b[38;5;241;43m.\u001b[39;49m\u001b[43mcreate_registered_model\u001b[49m\u001b[43m(\u001b[49m\u001b[43mreg_model_name\u001b[49m\u001b[43m)\u001b[49m\n\u001b[1;32m      5\u001b[0m \u001b[38;5;66;03m# создаем первую версию\u001b[39;00m\n\u001b[1;32m      6\u001b[0m result \u001b[38;5;241m=\u001b[39m client\u001b[38;5;241m.\u001b[39mcreate_model_version(\n\u001b[1;32m      7\u001b[0m     name\u001b[38;5;241m=\u001b[39mreg_model_name,\n\u001b[1;32m      8\u001b[0m     source\u001b[38;5;241m=\u001b[39m\u001b[38;5;124mf\u001b[39m\u001b[38;5;124m\"\u001b[39m\u001b[38;5;132;01m{\u001b[39;00mrun_info\u001b[38;5;241m.\u001b[39martifact_uri\u001b[38;5;132;01m}\u001b[39;00m\u001b[38;5;124m/model\u001b[39m\u001b[38;5;124m\"\u001b[39m,\n\u001b[1;32m      9\u001b[0m     run_id\u001b[38;5;241m=\u001b[39mrun_info\u001b[38;5;241m.\u001b[39mrun_id\n\u001b[1;32m     10\u001b[0m )\n",
      "File \u001b[0;32m~/anaconda3/envs/ml-env/lib/python3.8/site-packages/mlflow/tracking/client.py:1658\u001b[0m, in \u001b[0;36mMlflowClient.create_registered_model\u001b[0;34m(self, name, tags, description)\u001b[0m\n\u001b[1;32m   1618\u001b[0m \u001b[38;5;28;01mdef\u001b[39;00m \u001b[38;5;21mcreate_registered_model\u001b[39m(\n\u001b[1;32m   1619\u001b[0m     \u001b[38;5;28mself\u001b[39m, name: \u001b[38;5;28mstr\u001b[39m, tags: Optional[Dict[\u001b[38;5;28mstr\u001b[39m, Any]] \u001b[38;5;241m=\u001b[39m \u001b[38;5;28;01mNone\u001b[39;00m, description: Optional[\u001b[38;5;28mstr\u001b[39m] \u001b[38;5;241m=\u001b[39m \u001b[38;5;28;01mNone\u001b[39;00m\n\u001b[1;32m   1620\u001b[0m ) \u001b[38;5;241m-\u001b[39m\u001b[38;5;241m>\u001b[39m RegisteredModel:\n\u001b[1;32m   1621\u001b[0m     \u001b[38;5;124;03m\"\"\"\u001b[39;00m\n\u001b[1;32m   1622\u001b[0m \u001b[38;5;124;03m    Create a new registered model in backend store.\u001b[39;00m\n\u001b[1;32m   1623\u001b[0m \n\u001b[0;32m   (...)\u001b[0m\n\u001b[1;32m   1656\u001b[0m \u001b[38;5;124;03m        description: This sentiment analysis model classifies the tone-happy, sad, angry.\u001b[39;00m\n\u001b[1;32m   1657\u001b[0m \u001b[38;5;124;03m    \"\"\"\u001b[39;00m\n\u001b[0;32m-> 1658\u001b[0m     \u001b[38;5;28;01mreturn\u001b[39;00m \u001b[38;5;28;43mself\u001b[39;49m\u001b[38;5;241;43m.\u001b[39;49m\u001b[43m_get_registry_client\u001b[49m\u001b[43m(\u001b[49m\u001b[43m)\u001b[49m\u001b[38;5;241;43m.\u001b[39;49m\u001b[43mcreate_registered_model\u001b[49m\u001b[43m(\u001b[49m\u001b[43mname\u001b[49m\u001b[43m,\u001b[49m\u001b[43m \u001b[49m\u001b[43mtags\u001b[49m\u001b[43m,\u001b[49m\u001b[43m \u001b[49m\u001b[43mdescription\u001b[49m\u001b[43m)\u001b[49m\n",
      "File \u001b[0;32m~/anaconda3/envs/ml-env/lib/python3.8/site-packages/mlflow/tracking/_model_registry/client.py:59\u001b[0m, in \u001b[0;36mModelRegistryClient.create_registered_model\u001b[0;34m(self, name, tags, description)\u001b[0m\n\u001b[1;32m     57\u001b[0m tags \u001b[38;5;241m=\u001b[39m tags \u001b[38;5;28;01mif\u001b[39;00m tags \u001b[38;5;28;01melse\u001b[39;00m {}\n\u001b[1;32m     58\u001b[0m tags \u001b[38;5;241m=\u001b[39m [RegisteredModelTag(key, \u001b[38;5;28mstr\u001b[39m(value)) \u001b[38;5;28;01mfor\u001b[39;00m key, value \u001b[38;5;129;01min\u001b[39;00m tags\u001b[38;5;241m.\u001b[39mitems()]\n\u001b[0;32m---> 59\u001b[0m \u001b[38;5;28;01mreturn\u001b[39;00m \u001b[38;5;28;43mself\u001b[39;49m\u001b[38;5;241;43m.\u001b[39;49m\u001b[43mstore\u001b[49m\u001b[38;5;241;43m.\u001b[39;49m\u001b[43mcreate_registered_model\u001b[49m\u001b[43m(\u001b[49m\u001b[43mname\u001b[49m\u001b[43m,\u001b[49m\u001b[43m \u001b[49m\u001b[43mtags\u001b[49m\u001b[43m,\u001b[49m\u001b[43m \u001b[49m\u001b[43mdescription\u001b[49m\u001b[43m)\u001b[49m\n",
      "File \u001b[0;32m~/anaconda3/envs/ml-env/lib/python3.8/site-packages/mlflow/store/model_registry/rest_store.py:83\u001b[0m, in \u001b[0;36mRestStore.create_registered_model\u001b[0;34m(self, name, tags, description)\u001b[0m\n\u001b[1;32m     79\u001b[0m proto_tags \u001b[38;5;241m=\u001b[39m [tag\u001b[38;5;241m.\u001b[39mto_proto() \u001b[38;5;28;01mfor\u001b[39;00m tag \u001b[38;5;129;01min\u001b[39;00m tags \u001b[38;5;129;01mor\u001b[39;00m []]\n\u001b[1;32m     80\u001b[0m req_body \u001b[38;5;241m=\u001b[39m message_to_json(\n\u001b[1;32m     81\u001b[0m     CreateRegisteredModel(name\u001b[38;5;241m=\u001b[39mname, tags\u001b[38;5;241m=\u001b[39mproto_tags, description\u001b[38;5;241m=\u001b[39mdescription)\n\u001b[1;32m     82\u001b[0m )\n\u001b[0;32m---> 83\u001b[0m response_proto \u001b[38;5;241m=\u001b[39m \u001b[38;5;28;43mself\u001b[39;49m\u001b[38;5;241;43m.\u001b[39;49m\u001b[43m_call_endpoint\u001b[49m\u001b[43m(\u001b[49m\u001b[43mCreateRegisteredModel\u001b[49m\u001b[43m,\u001b[49m\u001b[43m \u001b[49m\u001b[43mreq_body\u001b[49m\u001b[43m)\u001b[49m\n\u001b[1;32m     84\u001b[0m \u001b[38;5;28;01mreturn\u001b[39;00m RegisteredModel\u001b[38;5;241m.\u001b[39mfrom_proto(response_proto\u001b[38;5;241m.\u001b[39mregistered_model)\n",
      "File \u001b[0;32m~/anaconda3/envs/ml-env/lib/python3.8/site-packages/mlflow/store/model_registry/rest_store.py:64\u001b[0m, in \u001b[0;36mRestStore._call_endpoint\u001b[0;34m(self, api, json_body, call_all_endpoints)\u001b[0m\n\u001b[1;32m     62\u001b[0m \u001b[38;5;28;01melse\u001b[39;00m:\n\u001b[1;32m     63\u001b[0m     endpoint, method \u001b[38;5;241m=\u001b[39m _METHOD_TO_INFO[api]\n\u001b[0;32m---> 64\u001b[0m     \u001b[38;5;28;01mreturn\u001b[39;00m \u001b[43mcall_endpoint\u001b[49m\u001b[43m(\u001b[49m\u001b[38;5;28;43mself\u001b[39;49m\u001b[38;5;241;43m.\u001b[39;49m\u001b[43mget_host_creds\u001b[49m\u001b[43m(\u001b[49m\u001b[43m)\u001b[49m\u001b[43m,\u001b[49m\u001b[43m \u001b[49m\u001b[43mendpoint\u001b[49m\u001b[43m,\u001b[49m\u001b[43m \u001b[49m\u001b[43mmethod\u001b[49m\u001b[43m,\u001b[49m\u001b[43m \u001b[49m\u001b[43mjson_body\u001b[49m\u001b[43m,\u001b[49m\u001b[43m \u001b[49m\u001b[43mresponse_proto\u001b[49m\u001b[43m)\u001b[49m\n",
      "File \u001b[0;32m~/anaconda3/envs/ml-env/lib/python3.8/site-packages/mlflow/utils/rest_utils.py:256\u001b[0m, in \u001b[0;36mcall_endpoint\u001b[0;34m(host_creds, endpoint, method, json_body, response_proto)\u001b[0m\n\u001b[1;32m    252\u001b[0m \u001b[38;5;28;01melse\u001b[39;00m:\n\u001b[1;32m    253\u001b[0m     response \u001b[38;5;241m=\u001b[39m http_request(\n\u001b[1;32m    254\u001b[0m         host_creds\u001b[38;5;241m=\u001b[39mhost_creds, endpoint\u001b[38;5;241m=\u001b[39mendpoint, method\u001b[38;5;241m=\u001b[39mmethod, json\u001b[38;5;241m=\u001b[39mjson_body\n\u001b[1;32m    255\u001b[0m     )\n\u001b[0;32m--> 256\u001b[0m response \u001b[38;5;241m=\u001b[39m \u001b[43mverify_rest_response\u001b[49m\u001b[43m(\u001b[49m\u001b[43mresponse\u001b[49m\u001b[43m,\u001b[49m\u001b[43m \u001b[49m\u001b[43mendpoint\u001b[49m\u001b[43m)\u001b[49m\n\u001b[1;32m    257\u001b[0m js_dict \u001b[38;5;241m=\u001b[39m json\u001b[38;5;241m.\u001b[39mloads(response\u001b[38;5;241m.\u001b[39mtext)\n\u001b[1;32m    258\u001b[0m parse_dict(js_dict\u001b[38;5;241m=\u001b[39mjs_dict, message\u001b[38;5;241m=\u001b[39mresponse_proto)\n",
      "File \u001b[0;32m~/anaconda3/envs/ml-env/lib/python3.8/site-packages/mlflow/utils/rest_utils.py:185\u001b[0m, in \u001b[0;36mverify_rest_response\u001b[0;34m(response, endpoint)\u001b[0m\n\u001b[1;32m    183\u001b[0m \u001b[38;5;28;01mif\u001b[39;00m response\u001b[38;5;241m.\u001b[39mstatus_code \u001b[38;5;241m!=\u001b[39m \u001b[38;5;241m200\u001b[39m:\n\u001b[1;32m    184\u001b[0m     \u001b[38;5;28;01mif\u001b[39;00m _can_parse_as_json_object(response\u001b[38;5;241m.\u001b[39mtext):\n\u001b[0;32m--> 185\u001b[0m         \u001b[38;5;28;01mraise\u001b[39;00m RestException(json\u001b[38;5;241m.\u001b[39mloads(response\u001b[38;5;241m.\u001b[39mtext))\n\u001b[1;32m    186\u001b[0m     \u001b[38;5;28;01melse\u001b[39;00m:\n\u001b[1;32m    187\u001b[0m         base_msg \u001b[38;5;241m=\u001b[39m \u001b[38;5;124m\"\u001b[39m\u001b[38;5;124mAPI request to endpoint \u001b[39m\u001b[38;5;132;01m%s\u001b[39;00m\u001b[38;5;124m failed with error code \u001b[39m\u001b[38;5;124m\"\u001b[39m \u001b[38;5;124m\"\u001b[39m\u001b[38;5;132;01m%s\u001b[39;00m\u001b[38;5;124m != 200\u001b[39m\u001b[38;5;124m\"\u001b[39m \u001b[38;5;241m%\u001b[39m (\n\u001b[1;32m    188\u001b[0m             endpoint,\n\u001b[1;32m    189\u001b[0m             response\u001b[38;5;241m.\u001b[39mstatus_code,\n\u001b[1;32m    190\u001b[0m         )\n",
      "\u001b[0;31mRestException\u001b[0m: RESOURCE_ALREADY_EXISTS: Registered Model (name=sk-learn-new-model) already exists. Error: (sqlite3.IntegrityError) UNIQUE constraint failed: registered_models.name\n[SQL: INSERT INTO registered_models (name, creation_time, last_updated_time, description) VALUES (?, ?, ?, ?)]\n[parameters: ('sk-learn-new-model', 1650747679970, 1650747679970, '')]\n(Background on this error at: https://sqlalche.me/e/14/gkpj)"
     ]
    }
   ],
   "source": [
    "reg_model_name = \"sk-learn-new-model\"\n",
    "\n",
    "# региструем модель\n",
    "client.create_registered_model(reg_model_name)\n",
    "# создаем первую версию\n",
    "result = client.create_model_version(\n",
    "    name=reg_model_name,\n",
    "    source=f\"{run_info.artifact_uri}/model\",\n",
    "    run_id=run_info.run_id\n",
    ")\n",
    "\n",
    "print(result)"
   ]
  },
  {
   "cell_type": "markdown",
   "metadata": {
    "colab_type": "text",
    "id": "uxjSecYuvS10"
   },
   "source": [
    "Посмотреть список зарегистрированных моделей можно следующим образом:"
   ]
  },
  {
   "cell_type": "code",
   "execution_count": 10,
   "metadata": {
    "colab": {},
    "colab_type": "code",
    "id": "jwFxns_NvPdZ"
   },
   "outputs": [
    {
     "name": "stdout",
     "output_type": "stream",
     "text": [
      "{   'creation_timestamp': 1650585329149,\n",
      "    'description': '',\n",
      "    'last_updated_timestamp': 1650585489590,\n",
      "    'latest_versions': [   <ModelVersion: creation_timestamp=1650585329167, current_stage='Staging', description='', last_updated_timestamp=1650585489590, name='sk-learn-new-model', run_id='e4cf109690bd40df8de6f4940b535cc5', run_link='', source='./artifacts/1/e4cf109690bd40df8de6f4940b535cc5/artifacts/model', status='READY', status_message='', tags={}, user_id='', version='1'>],\n",
      "    'name': 'sk-learn-new-model',\n",
      "    'tags': {}}\n"
     ]
    }
   ],
   "source": [
    "for rm in client.list_registered_models():\n",
    "    pprint(dict(rm), indent=4)"
   ]
  },
  {
   "cell_type": "markdown",
   "metadata": {
    "colab_type": "text",
    "id": "TniouHOOvhs9"
   },
   "source": [
    "Найти нужную модель и версию можно с помощью специальной функции:"
   ]
  },
  {
   "cell_type": "code",
   "execution_count": 11,
   "metadata": {
    "colab": {},
    "colab_type": "code",
    "id": "z18vS9jJvg7d"
   },
   "outputs": [
    {
     "name": "stdout",
     "output_type": "stream",
     "text": [
      "{   'creation_timestamp': 1650585329167,\n",
      "    'current_stage': 'Staging',\n",
      "    'description': '',\n",
      "    'last_updated_timestamp': 1650585489590,\n",
      "    'name': 'sk-learn-new-model',\n",
      "    'run_id': 'e4cf109690bd40df8de6f4940b535cc5',\n",
      "    'run_link': '',\n",
      "    'source': './artifacts/1/e4cf109690bd40df8de6f4940b535cc5/artifacts/model',\n",
      "    'status': 'READY',\n",
      "    'status_message': '',\n",
      "    'tags': {},\n",
      "    'user_id': '',\n",
      "    'version': '1'}\n"
     ]
    }
   ],
   "source": [
    "for mv in client.search_model_versions(f\"name='{reg_model_name}'\"):\n",
    "    pprint(dict(mv), indent=4)"
   ]
  },
  {
   "cell_type": "markdown",
   "metadata": {
    "colab_type": "text",
    "id": "I2EsnX4etiOc"
   },
   "source": [
    "## 3. Выкладка модели и тестирование сервера\n",
    "\n",
    "Чтобы использовать модель в определенной среде, нужно перевести зарегистрирую модель в желаемую среду. Эта операция только регистрирует модель в желаемой среде, не запускает веб-сервер.\n",
    "\n",
    "### Выкладка модели в тестовую и эксплуатационную среды\n",
    "\n",
    "Терминология, использующаяся в MLflow Model Registry:\n",
    "\n",
    " - Staging - тестовая среда\n",
    " - Production - эксплуатационная среда\n",
    " \n",
    "Следующий код переводит ранее зарегистрированную модель версии `1` в тестовую среду (`Staging`)."
   ]
  },
  {
   "cell_type": "code",
   "execution_count": 12,
   "metadata": {
    "colab": {},
    "colab_type": "code",
    "id": "uSKSKPpwtiOc"
   },
   "outputs": [
    {
     "data": {
      "text/plain": [
       "<ModelVersion: creation_timestamp=1650585329167, current_stage='Staging', description='', last_updated_timestamp=1650747954164, name='sk-learn-new-model', run_id='e4cf109690bd40df8de6f4940b535cc5', run_link='', source='./artifacts/1/e4cf109690bd40df8de6f4940b535cc5/artifacts/model', status='READY', status_message='', tags={}, user_id='', version='1'>"
      ]
     },
     "execution_count": 12,
     "metadata": {},
     "output_type": "execute_result"
    }
   ],
   "source": [
    "client.transition_model_version_stage(\n",
    "    name=reg_model_name,\n",
    "    version=1,\n",
    "    stage=\"Staging\"\n",
    ")"
   ]
  },
  {
   "cell_type": "markdown",
   "metadata": {
    "colab_type": "text",
    "id": "sRPuKGdH2z_w"
   },
   "source": [
    "Проверить результат можно следующим кодом:"
   ]
  },
  {
   "cell_type": "code",
   "execution_count": 19,
   "metadata": {
    "colab": {},
    "colab_type": "code",
    "id": "TZdlt7BC23a5"
   },
   "outputs": [
    {
     "name": "stdout",
     "output_type": "stream",
     "text": [
      "{   'creation_timestamp': 1650585329167,\n",
      "    'current_stage': 'Staging',\n",
      "    'description': '',\n",
      "    'last_updated_timestamp': 1650747954164,\n",
      "    'name': 'sk-learn-new-model',\n",
      "    'run_id': 'e4cf109690bd40df8de6f4940b535cc5',\n",
      "    'run_link': '',\n",
      "    'source': './artifacts/1/e4cf109690bd40df8de6f4940b535cc5/artifacts/model',\n",
      "    'status': 'READY',\n",
      "    'status_message': '',\n",
      "    'tags': {},\n",
      "    'user_id': '',\n",
      "    'version': '1'}\n"
     ]
    }
   ],
   "source": [
    "for mv in client.search_model_versions(f\"name='{reg_model_name}'\"):\n",
    "    pprint(dict(mv), indent=4)"
   ]
  },
  {
   "cell_type": "markdown",
   "metadata": {
    "colab_type": "text",
    "id": "1sHABAzotiOf"
   },
   "source": [
    "Чтобы использовать модель, нужно запустить веб-сервер, в качестве параметров передать ему название модели и среды, а также порт (в примере запускается на 5005 порту).\n",
    "\n",
    "Для взаимодействия с веб-сервером следует отправлять запросы к точке входа `/invocations` этого веб-сервера."
   ]
  },
  {
   "cell_type": "code",
   "execution_count": 14,
   "metadata": {
    "colab": {},
    "colab_type": "code",
    "id": "uBCKeROStiOg"
   },
   "outputs": [
    {
     "data": {
      "text/plain": [
       "0"
      ]
     },
     "execution_count": 14,
     "metadata": {},
     "output_type": "execute_result"
    },
    {
     "name": "stderr",
     "output_type": "stream",
     "text": [
      "/home/sanityseeker/anaconda3/envs/ml-env/lib/python3.8/site-packages/click/core.py:2322: FutureWarning: `--no-conda` is deprecated and will be removed in a future MLflow release. Use `--env-manager=local` instead.\n",
      "  value = self.callback(ctx, self, value)\n",
      "2022/04/24 00:06:00 INFO mlflow.models.cli: Selected backend for flavor 'python_function'\n",
      "2022/04/24 00:06:00 INFO mlflow.pyfunc.backend: === Running command 'gunicorn --timeout=60 -b 127.0.0.1:5005 -w 1 ${GUNICORN_CMD_ARGS} -- mlflow.pyfunc.scoring_server.wsgi:app'\n",
      "[2022-04-24 00:06:00 +0300] [515002] [INFO] Starting gunicorn 20.1.0\n",
      "[2022-04-24 00:06:00 +0300] [515002] [INFO] Listening at: http://127.0.0.1:5005 (515002)\n",
      "[2022-04-24 00:06:00 +0300] [515002] [INFO] Using worker: sync\n",
      "[2022-04-24 00:06:00 +0300] [515004] [INFO] Booting worker with pid: 515004\n"
     ]
    }
   ],
   "source": [
    "os.system('MLFLOW_TRACKING_URI=http://127.0.0.1:5000/ mlflow models serve -m \"models:/sk-learn-new-model/Staging\" -p 5005 --no-conda &')"
   ]
  },
  {
   "cell_type": "code",
   "execution_count": 15,
   "metadata": {
    "colab": {},
    "colab_type": "code",
    "id": "-Y6gZTi2tiOi"
   },
   "outputs": [
    {
     "name": "stdout",
     "output_type": "stream",
     "text": [
      "Predictions: [5.88527611335971, 5.740523335804658, 5.811935039818761, 5.957850132893952, 6.092739574397946, 5.38176881817212, 6.050858460676247, 5.992469597297115, 5.850426199303676, 5.627508796953737]\n"
     ]
    }
   ],
   "source": [
    "import requests\n",
    "\n",
    "url = 'http://127.0.0.1:5005/invocations'\n",
    "\n",
    "http_data = test_x[:10].to_json(orient='split')\n",
    "response = requests.post(url=url, headers={'Content-Type': 'application/json'}, data=http_data)\n",
    "\n",
    "print(f'Predictions: {response.text}')"
   ]
  },
  {
   "cell_type": "markdown",
   "metadata": {
    "colab_type": "text",
    "id": "cm7M5tO3tiOk"
   },
   "source": [
    "## 4. Задание для самосотоятельной работы\n",
    "\n",
    "Задача: провести эксперимент и ввести в эксплуатацию новую обученную модель. \n",
    "\n",
    "1. С помощью MLflow Tracking в существующем проекте провести новый эксперимент с параметрами `alpha = 0.65`  `l1_ratio = 0.45`. \n",
    "    1. Зафиксировать результаты в системе, используя контекст `mlflow.start_run` и сохраняя параметры и метрики, вызвав `mlflow.log_param` и `mlflow.log_metric` соответственно. "
   ]
  },
  {
   "cell_type": "code",
   "execution_count": 20,
   "metadata": {},
   "outputs": [
    {
     "name": "stderr",
     "output_type": "stream",
     "text": [
      "2022/04/24 01:57:30 INFO mlflow.tracking.fluent: Experiment with name 'experiment3' does not exist. Creating a new experiment.\n"
     ]
    },
    {
     "name": "stdout",
     "output_type": "stream",
     "text": [
      "Elasticnet model (alpha=0.65, l1_ratio=0.45):\n",
      "  RMSE: 0.8337124532776438\n",
      "  MAE: 0.6328980414913562\n",
      "  R2: 0.10225612734318212\n"
     ]
    }
   ],
   "source": [
    "experiment_name = 'experiment3'\n",
    "mlflow.set_experiment(experiment_name)\n",
    "\n",
    "# запуск в эксперименте\n",
    "with mlflow.start_run():\n",
    "    alpha = 0.65\n",
    "    l1_ratio = 0.45\n",
    "\n",
    "    # модель\n",
    "    lr = ElasticNet(alpha=alpha, l1_ratio=l1_ratio, random_state=42)\n",
    "    lr.fit(train_x, train_y)\n",
    "\n",
    "    # метрики\n",
    "    predicted_qualities = lr.predict(test_x)\n",
    "    rmse = np.sqrt(mean_squared_error(test_y, predicted_qualities))\n",
    "    mae = mean_absolute_error(test_y, predicted_qualities)\n",
    "    r2 = r2_score(test_y, predicted_qualities)\n",
    "\n",
    "    print(f\"Elasticnet model (alpha={alpha}, l1_ratio={l1_ratio}):\")\n",
    "    print(f\"  RMSE: {rmse}\")\n",
    "    print(f\"  MAE: {mae}\")\n",
    "    print(f\"  R2: {r2}\")\n",
    "\n",
    "    # сохраняем значения эксперимента в системе\n",
    "    mlflow.log_param(\"alpha\", alpha)\n",
    "    mlflow.log_param(\"l1_ratio\", l1_ratio)\n",
    "    mlflow.log_metric(\"rmse\", rmse)\n",
    "    mlflow.log_metric(\"r2\", r2)\n",
    "    mlflow.log_metric(\"mae\", mae)\n",
    "\n",
    "    mlflow.sklearn.log_model(lr, \"model\")"
   ]
  },
  {
   "cell_type": "markdown",
   "metadata": {
    "colab_type": "text",
    "id": "cm7M5tO3tiOk"
   },
   "source": [
    "2. С помощью MLflow Model Registry зарегистрируйте проведенный эсперимент как модель для ввода в эксплуатацию. \n",
    "    1. Используя клиент `mlflow.tracking.MlflowClient` (переменная `client`) найдите проведенный эксперимент (например, по имени с помощью `client.get_experiment_by_name(experiment_name)`)\n",
    "    2. Получите информацию о последнем запуске с помощью `client.list_run_infos`\n",
    "\n",
    "    3. С помощью MLflow Model Registry создайте новую версию из зарегистрированной модели. \n",
    "      - Для этого с помощью `client.create_registered_model` зарегистрируйте модель под именем `coursera-top-model`, затем с помощью `client.create_model_version` создайте первую версию, указав также идентификатор запуска эксперимента из `run_info` и путь к модели, который также доступен в `run_info`."
   ]
  },
  {
   "cell_type": "code",
   "execution_count": 21,
   "metadata": {},
   "outputs": [
    {
     "data": {
      "text/plain": [
       "<Experiment: artifact_location='./artifacts/2', experiment_id='2', lifecycle_stage='active', name='experiment3', tags={}>"
      ]
     },
     "execution_count": 21,
     "metadata": {},
     "output_type": "execute_result"
    }
   ],
   "source": [
    "client.get_experiment_by_name(experiment_name)"
   ]
  },
  {
   "cell_type": "code",
   "execution_count": 25,
   "metadata": {},
   "outputs": [
    {
     "data": {
      "text/plain": [
       "[<RunInfo: artifact_uri='./artifacts/2/4ae71dcc90f441948c444bdce4682a7b/artifacts', end_time=1650754651675, experiment_id='2', lifecycle_stage='active', run_id='4ae71dcc90f441948c444bdce4682a7b', run_uuid='4ae71dcc90f441948c444bdce4682a7b', start_time=1650754650872, status='FINISHED', user_id='sanityseeker'>]"
      ]
     },
     "execution_count": 25,
     "metadata": {},
     "output_type": "execute_result"
    }
   ],
   "source": [
    "client.list_run_infos('2')"
   ]
  },
  {
   "cell_type": "code",
   "execution_count": 34,
   "metadata": {},
   "outputs": [],
   "source": [
    "task_run_id = client.list_run_infos('2')[0].run_id\n",
    "task_artifact = client.list_run_infos('2')[0].artifact_uri"
   ]
  },
  {
   "cell_type": "code",
   "execution_count": 37,
   "metadata": {},
   "outputs": [
    {
     "name": "stderr",
     "output_type": "stream",
     "text": [
      "2022/04/24 02:03:58 INFO mlflow.tracking._model_registry.client: Waiting up to 300 seconds for model version to finish creation.                     Model name: coursera-top-model, version 1\n"
     ]
    },
    {
     "name": "stdout",
     "output_type": "stream",
     "text": [
      "<ModelVersion: creation_timestamp=1650755038763, current_stage='None', description='', last_updated_timestamp=1650755038763, name='coursera-top-model', run_id='4ae71dcc90f441948c444bdce4682a7b', run_link='', source='./artifacts/2/4ae71dcc90f441948c444bdce4682a7b/artifacts/model', status='READY', status_message='', tags={}, user_id='', version='1'>\n"
     ]
    }
   ],
   "source": [
    "task_reg_name = 'coursera-top-model'\n",
    "\n",
    "# регистрируем модель\n",
    "\n",
    "# client.delete_registered_model(task_reg_name)\n",
    "client.create_registered_model(task_reg_name)\n",
    "\n",
    "result = client.create_model_version(\n",
    "    name=task_reg_name,\n",
    "    source=f\"{task_artifact}/model\",\n",
    "    run_id=task_run_id\n",
    ")\n",
    "\n",
    "print(result)"
   ]
  },
  {
   "cell_type": "markdown",
   "metadata": {
    "colab_type": "text",
    "id": "cm7M5tO3tiOk"
   },
   "source": [
    "3. С помощью MLflow Model Registry выложите модель на тестовый сервер и проверьте, что API сервера возвращает результат. \n",
    "    1. Для этого с помощью `client.transition_model_version_stage` укажите имя зарегистрированной модели, версию и среду (`stage`). \n",
    "    2. Затем запустите сервер с моделью, используя консольный интерфейс `mlflow`: `! mlflow models serve -m \"models:/имя_зарегистрированной_модели/Staging\" -p 5005`. \n",
    "    3. Убедитесь, что сервер работает с помощью HTTP POST-запроса, используя библиотеку `requests`. Для этого возьмите несколько объектов из тестовой выборки и сформируйте запрос, сконвертировав данные в формат JSON: `test_x[:10].to_json(orient='split')`. Затем отправьте POST-запрос, указав в заголовке формат JSON: `requests.post(url=url, headers={'Content-Type': 'application/json'}, data=http_data)`, где `url` - адрес сервера с моделью (не адрес сервера MLFlow), например `http://127.0.0.1:5005/invocations`."
   ]
  },
  {
   "cell_type": "code",
   "execution_count": 39,
   "metadata": {},
   "outputs": [
    {
     "data": {
      "text/plain": [
       "<ModelVersion: creation_timestamp=1650755038763, current_stage='Staging', description='', last_updated_timestamp=1650755135525, name='coursera-top-model', run_id='4ae71dcc90f441948c444bdce4682a7b', run_link='', source='./artifacts/2/4ae71dcc90f441948c444bdce4682a7b/artifacts/model', status='READY', status_message='', tags={}, user_id='', version='1'>"
      ]
     },
     "execution_count": 39,
     "metadata": {},
     "output_type": "execute_result"
    }
   ],
   "source": [
    "client.transition_model_version_stage(task_reg_name, 1, 'Staging')"
   ]
  },
  {
   "cell_type": "code",
   "execution_count": null,
   "metadata": {},
   "outputs": [],
   "source": [
    "os.system('MLFLOW_TRACKING_URI=http://127.0.0.1:5000/ mlflow models serve -m \"models:/coursera-top-model/Staging\" -p 5005 --no-conda &')"
   ]
  },
  {
   "cell_type": "code",
   "execution_count": 42,
   "metadata": {},
   "outputs": [
    {
     "name": "stdout",
     "output_type": "stream",
     "text": [
      "Predictions: [5.912666549805538, 5.8112236609337415, 5.8219284884820155, 5.97017317472579, 6.093062157940845, 5.3918182533300145, 5.986846332115556, 5.940343669181612, 5.889171748684333, 5.647494269772486]\n"
     ]
    }
   ],
   "source": [
    "import requests\n",
    "\n",
    "url = 'http://127.0.0.1:5005/invocations'\n",
    "\n",
    "http_data = test_x[:10].to_json(orient='split')\n",
    "response = requests.post(url=url, headers={'Content-Type': 'application/json'}, data=http_data)\n",
    "\n",
    "print(f'Predictions: {response.text}')"
   ]
  },
  {
   "cell_type": "markdown",
   "metadata": {
    "colab_type": "text",
    "id": "cm7M5tO3tiOk"
   },
   "source": [
    "4. Проведите аналогичные пункту 3 действия для эксплуатационного сервера."
   ]
  },
  {
   "cell_type": "code",
   "execution_count": 43,
   "metadata": {},
   "outputs": [
    {
     "data": {
      "text/plain": [
       "<ModelVersion: creation_timestamp=1650755038763, current_stage='Production', description='', last_updated_timestamp=1650755379810, name='coursera-top-model', run_id='4ae71dcc90f441948c444bdce4682a7b', run_link='', source='./artifacts/2/4ae71dcc90f441948c444bdce4682a7b/artifacts/model', status='READY', status_message='', tags={}, user_id='', version='1'>"
      ]
     },
     "execution_count": 43,
     "metadata": {},
     "output_type": "execute_result"
    }
   ],
   "source": [
    "client.transition_model_version_stage(task_reg_name, '1', 'Production')"
   ]
  },
  {
   "cell_type": "code",
   "execution_count": 44,
   "metadata": {},
   "outputs": [
    {
     "data": {
      "text/plain": [
       "0"
      ]
     },
     "execution_count": 44,
     "metadata": {},
     "output_type": "execute_result"
    },
    {
     "name": "stderr",
     "output_type": "stream",
     "text": [
      "/home/sanityseeker/anaconda3/envs/ml-env/lib/python3.8/site-packages/click/core.py:2322: FutureWarning: `--no-conda` is deprecated and will be removed in a future MLflow release. Use `--env-manager=local` instead.\n",
      "  value = self.callback(ctx, self, value)\n",
      "2022/04/24 02:09:59 INFO mlflow.models.cli: Selected backend for flavor 'python_function'\n",
      "2022/04/24 02:09:59 INFO mlflow.pyfunc.backend: === Running command 'gunicorn --timeout=60 -b 127.0.0.1:5003 -w 1 ${GUNICORN_CMD_ARGS} -- mlflow.pyfunc.scoring_server.wsgi:app'\n",
      "[2022-04-24 02:09:59 +0300] [520032] [INFO] Starting gunicorn 20.1.0\n",
      "[2022-04-24 02:09:59 +0300] [520032] [INFO] Listening at: http://127.0.0.1:5003 (520032)\n",
      "[2022-04-24 02:09:59 +0300] [520032] [INFO] Using worker: sync\n",
      "[2022-04-24 02:09:59 +0300] [520034] [INFO] Booting worker with pid: 520034\n"
     ]
    }
   ],
   "source": [
    "os.system('MLFLOW_TRACKING_URI=http://127.0.0.1:5000/ mlflow models serve -m \"models:/coursera-top-model/Production\" -p 5003 --no-conda &')"
   ]
  },
  {
   "cell_type": "code",
   "execution_count": 45,
   "metadata": {},
   "outputs": [
    {
     "name": "stdout",
     "output_type": "stream",
     "text": [
      "Predictions: [5.912666549805538, 5.8112236609337415, 5.8219284884820155, 5.97017317472579, 6.093062157940845, 5.3918182533300145, 5.986846332115556, 5.940343669181612, 5.889171748684333, 5.647494269772486]\n"
     ]
    }
   ],
   "source": [
    "url = 'http://127.0.0.1:5003/invocations'\n",
    "http_data = test_x[:10].to_json(orient='split')\n",
    "response = requests.post(url=url, headers={'Content-Type': 'application/json'}, data=http_data)\n",
    "\n",
    "print(f'Predictions: {response.text}')"
   ]
  }
 ],
 "metadata": {
  "colab": {
   "collapsed_sections": [],
   "name": "mlflow-e2e.ipynb",
   "provenance": []
  },
  "kernelspec": {
   "display_name": "Python [conda env:ml-env]",
   "language": "python",
   "name": "conda-env-ml-env-py"
  },
  "language_info": {
   "codemirror_mode": {
    "name": "ipython",
    "version": 3
   },
   "file_extension": ".py",
   "mimetype": "text/x-python",
   "name": "python",
   "nbconvert_exporter": "python",
   "pygments_lexer": "ipython3",
   "version": "3.8.13"
  }
 },
 "nbformat": 4,
 "nbformat_minor": 4
}
